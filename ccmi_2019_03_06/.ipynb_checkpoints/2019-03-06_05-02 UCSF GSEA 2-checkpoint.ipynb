{
 "cells": [
  {
   "cell_type": "markdown",
   "metadata": {},
   "source": [
    "# Gene Set Enrichment Analysis (GSEA)"
   ]
  },
  {
   "cell_type": "markdown",
   "metadata": {},
   "source": [
    "Gene Set Enrichment Analysis (GSEA) identifies gene sets that are up- or down-regulated between two conditions. The GSEA method can be summarized as:\n",
    "\n",
    "1. Take gene expression data from two different types of samples (e.g., treated vs non-treated) and rank all genes according to their degree of differential expression across the groups.\n",
    "2. Take a group of genes of interest (e.g., pathway, locus, etc.) and determine whether they are differentially expressed as a set (enriched) within the ranked gene expression data.\n",
    "3. Determine the significance of the enrichment analysis score via a permutation test: randomly swap the gene-set labels of the data and repeat the test many times."
   ]
  },
  {
   "cell_type": "markdown",
   "metadata": {},
   "source": [
    "## Sign in to GenePattern"
   ]
  },
  {
   "cell_type": "markdown",
   "metadata": {},
   "source": [
    "<div class=\"alert alert-info\">\n",
    "<ul>\n",
    "\t<li>If you haven&#39;t yet logged in, enter your credentials into the cell below and click Login:</li>\n",
    "</ul>\n",
    "</div>\n"
   ]
  },
  {
   "cell_type": "code",
   "execution_count": 5,
   "metadata": {
    "genepattern": {
     "name": "Login",
     "server": "https://cloud.genepattern.org/gp",
     "type": "auth"
    },
    "scrolled": true
   },
   "outputs": [
    {
     "data": {
      "application/vnd.jupyter.widget-view+json": {
       "model_id": "2f3e776467204dbba88bb430ebf3e036",
       "version_major": 2,
       "version_minor": 0
      },
      "text/plain": [
       "GPAuthWidget()"
      ]
     },
     "metadata": {},
     "output_type": "display_data"
    }
   ],
   "source": [
    "# Requires GenePattern Notebook: pip install genepattern-notebook\n",
    "import gp\n",
    "import genepattern\n",
    "\n",
    "# Username and password removed for security reasons.\n",
    "genepattern.display(genepattern.session.register(\"https://cloud.genepattern.org/gp\", \"\", \"\"))"
   ]
  },
  {
   "cell_type": "markdown",
   "metadata": {},
   "source": [
    "## Workshop data and GSEA parameters\n",
    "\n",
    "We will run GSEA on the breast cancer and normal samples provided previously in the workshop to determine which gene sets are coordinately up-and downregulated. This dataset will require us to change one of the default parameters:\n",
    "\n",
    "<b>collapse dataset</b>. GSEA has a <b>collapse dataset</b> parameter. This is used when the dataset contains accession numbers or other IDs that may contain multiple representatives per gene. It is used most frequently for microarray data, to collapse array probes to gene names. Because the dataset we have provided already has gene names associated with it, we will choose not to collapse it. Note that most gene sets will be collections of gene names (in theory they could be collections of other kinds of IDs but in practice this is not commonplace)."
   ]
  },
  {
   "cell_type": "markdown",
   "metadata": {},
   "source": [
    "<div class=\"alert alert-info\">\n",
    "<h3>Instructions</h3>\n",
    "\n",
    "<ol>\n",
    "<li>For the <strong><em>expression dataset</em></strong> parameter, click and drag <a href=\"https://datasets.genepattern.org/data/ccmi_tutorial/2017-12-15/BRCA_HUGO_symbols.preprocessed.gct\" target=\"_blank\">BRCA_HUGO_symbols.preprocessed.gct</a> into the <em>&quot;Enter Path or URL&quot; </em>text box</li> \n",
    "<li>For the <strong><em>gene sets database</em></strong> parameter, the <a href=\"ftp://gpftp.broadinstitute.org/module_support_files/msigdb/gmt/c2.all.v6.0.symbols.gmt\">c2.all.v6.0.symbols.gmt</a> (Curated gene sets) file has been pre-populated.</li>\n",
    "<li>For the <strong><em>permutation type</em></strong> parameter, select <b>gene_set</b></li>\n",
    "<li>For the <strong><em>phenotype labels</em></strong> parameter, click and drag <a href=\"https://datasets.genepattern.org/data/ccmi_tutorial/2017-12-15/BRCA_HUGO_symbols.preprocessed.cls\" target=\"_blank\">BRCA_HUGO_symbols.preprocessed.cls</a> into the <em>&quot;Enter Path or URL&quot; </em>text box</li>   <li>Set the <strong><em>collapse dataset</em></strong> parameter to <b>false</b></li>\n",
    "<li>Click the button <strong><em>Run</em></strong> on the analysis below.</li>\n",
    "</ol>\n",
    "\n",
    "</div>\n"
   ]
  },
  {
   "cell_type": "code",
   "execution_count": null,
   "metadata": {
    "collapsed": true
   },
   "outputs": [],
   "source": []
  },
  {
   "cell_type": "code",
   "execution_count": 6,
   "metadata": {
    "genepattern": {
     "param_values": {
      "alt.delim": null,
      "chip.platform.file": null,
      "collapse.dataset": null,
      "collapsing.mode.for.probe.sets.with.more.than.one.match": null,
      "create.gcts": null,
      "create.svgs": null,
      "create.zip": null,
      "dev.mode": null,
      "expression.dataset": null,
      "gene.list.ordering.mode": null,
      "gene.list.sorting.mode": null,
      "gene.sets.database": null,
      "job.cpuCount": null,
      "job.memory": null,
      "job.queue": null,
      "job.walltime": null,
      "make.detailed.gene.set.report": null,
      "max.gene.set.size": null,
      "median.for.class.metrics": null,
      "metric.for.ranking.genes": null,
      "min.gene.set.size": null,
      "normalization.mode": null,
      "number.of.markers": null,
      "number.of.permutations": null,
      "omit.features.with.no.symbol.match": null,
      "output.file.name": null,
      "permutation.type": null,
      "phenotype.labels": null,
      "plot.graphs.for.the.top.sets.of.each.phenotype": null,
      "random.seed": null,
      "randomization.mode": null,
      "save.random.ranked.lists": null,
      "scoring.scheme": null,
      "selected.gene.sets": null,
      "target.profile": null
     },
     "type": "task"
    }
   },
   "outputs": [
    {
     "data": {
      "application/vnd.jupyter.widget-view+json": {
       "model_id": "a8285ba7aff84b14a51ba590d8fa5616",
       "version_major": 2,
       "version_minor": 0
      },
      "text/plain": [
       "GPTaskWidget(lsid='urn:lsid:broad.mit.edu:cancer.software.genepattern.module.analysis:00072')"
      ]
     },
     "metadata": {},
     "output_type": "display_data"
    }
   ],
   "source": [
    "gsea_task = gp.GPTask(genepattern.get_session(0), 'urn:lsid:broad.mit.edu:cancer.software.genepattern.module.analysis:00072')\n",
    "gsea_job_spec = gsea_task.make_job_spec()\n",
    "gsea_job_spec.set_parameter(\"expression.dataset\", \"\")\n",
    "gsea_job_spec.set_parameter(\"gene.sets.database\", \"\")\n",
    "gsea_job_spec.set_parameter(\"gene.sets.database.file\", \"\")\n",
    "gsea_job_spec.set_parameter(\"number.of.permutations\", \"1000\")\n",
    "gsea_job_spec.set_parameter(\"phenotype.labels\", \"\")\n",
    "gsea_job_spec.set_parameter(\"target.profile\", \"\")\n",
    "gsea_job_spec.set_parameter(\"collapse.dataset\", \"false\")\n",
    "gsea_job_spec.set_parameter(\"permutation.type\", \"gene_set\")\n",
    "gsea_job_spec.set_parameter(\"chip.platform.file\", \"\")\n",
    "gsea_job_spec.set_parameter(\"scoring.scheme\", \"weighted\")\n",
    "gsea_job_spec.set_parameter(\"metric.for.ranking.genes\", \"Signal2Noise\")\n",
    "gsea_job_spec.set_parameter(\"gene.list.sorting.mode\", \"real\")\n",
    "gsea_job_spec.set_parameter(\"gene.list.ordering.mode\", \"descending\")\n",
    "gsea_job_spec.set_parameter(\"max.gene.set.size\", \"500\")\n",
    "gsea_job_spec.set_parameter(\"min.gene.set.size\", \"15\")\n",
    "gsea_job_spec.set_parameter(\"collapsing.mode.for.probe.sets.with.more.than.one.match\", \"Max_probe\")\n",
    "gsea_job_spec.set_parameter(\"normalization.mode\", \"meandiv\")\n",
    "gsea_job_spec.set_parameter(\"randomization.mode\", \"no_balance\")\n",
    "gsea_job_spec.set_parameter(\"omit.features.with.no.symbol.match\", \"true\")\n",
    "gsea_job_spec.set_parameter(\"make.detailed.gene.set.report\", \"true\")\n",
    "gsea_job_spec.set_parameter(\"median.for.class.metrics\", \"false\")\n",
    "gsea_job_spec.set_parameter(\"number.of.markers\", \"100\")\n",
    "gsea_job_spec.set_parameter(\"plot.graphs.for.the.top.sets.of.each.phenotype\", \"20\")\n",
    "gsea_job_spec.set_parameter(\"random.seed\", \"timestamp\")\n",
    "gsea_job_spec.set_parameter(\"save.random.ranked.lists\", \"false\")\n",
    "gsea_job_spec.set_parameter(\"output.file.name\", \"<expression.dataset_basename>.zip\")\n",
    "genepattern.display(gsea_task)"
   ]
  },
  {
   "cell_type": "markdown",
   "metadata": {},
   "source": [
    "## Viewing GSEA Results\n",
    "\n",
    "You should see a number of output files corresponding to the reports for each enriched gene set, followed by a rendering of the `index.html` output. These are in the format of a web site containing the analysis results and associated graphics."
   ]
  },
  {
   "cell_type": "markdown",
   "metadata": {},
   "source": [
    "<div class=\"alert alert-info\">\n",
    "## Instruction\n",
    "- Click on the various outputs that GSEA provides (e.g., click on the  Snapshots to take a quick glance at the enriched pathways).\n",
    "- View the analysis results. What are the most significantly enriched pathways between the breast and normal samples?\n",
    "  "
   ]
  },
  {
   "cell_type": "code",
   "execution_count": null,
   "metadata": {
    "collapsed": true
   },
   "outputs": [],
   "source": []
  }
 ],
 "metadata": {
  "genepattern": {
   "repository_url": "http://notebook.genepattern.org/services/sharing/notebooks/301/"
  },
  "kernelspec": {
   "display_name": "Python 3.6",
   "language": "python",
   "name": "python3.6"
  },
  "language_info": {
   "codemirror_mode": {
    "name": "ipython",
    "version": 3
   },
   "file_extension": ".py",
   "mimetype": "text/x-python",
   "name": "python",
   "nbconvert_exporter": "python",
   "pygments_lexer": "ipython3",
   "version": "3.6.8"
  }
 },
 "nbformat": 4,
 "nbformat_minor": 2
}
