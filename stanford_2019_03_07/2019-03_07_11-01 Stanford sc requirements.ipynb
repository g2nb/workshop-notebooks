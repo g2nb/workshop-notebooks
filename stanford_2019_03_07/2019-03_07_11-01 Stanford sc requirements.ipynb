{
 "cells": [
  {
   "cell_type": "code",
   "execution_count": 1,
   "metadata": {
    "genepattern": {
     "name": "Login",
     "server": "https://cloud.genepattern.org/gp",
     "type": "auth"
    },
    "scrolled": true
   },
   "outputs": [
    {
     "data": {
      "application/vnd.jupyter.widget-view+json": {
       "model_id": "f9c668fcd647416f92f9826b56779b59",
       "version_major": 2,
       "version_minor": 0
      },
      "text/plain": [
       "GPAuthWidget()"
      ]
     },
     "metadata": {},
     "output_type": "display_data"
    }
   ],
   "source": [
    "# Requires GenePattern Notebook: pip install genepattern-notebook\n",
    "import gp\n",
    "import genepattern\n",
    "\n",
    "# Username and password removed for security reasons.\n",
    "genepattern.display(genepattern.session.register(\"https://cloud.genepattern.org/gp\", \"\", \"\"))"
   ]
  },
  {
   "cell_type": "markdown",
   "metadata": {},
   "source": [
    "<div class=\"alert alert-info\">\n",
    "<h3 style=\"margin-top: 0;\"> Instructions <i class=\"fa fa-info-circle\"></i></h3>\n",
    "- Click `Run` to download the required files for the Single Cell Clustering notebook.  \n",
    "- Close this notebook and open the recently downloaded notebook called `Single-Cell RNA-seq Clustering Analysis Notebook.ipynb`.\n",
    "</div>"
   ]
  },
  {
   "cell_type": "code",
   "execution_count": 2,
   "metadata": {
    "nbtools": {
     "description": "Download the two required files fron GitHub.",
     "name": "download",
     "param_values": {
      "output_var": "nada"
     },
     "show_code": false,
     "type": "uibuilder"
    }
   },
   "outputs": [
    {
     "data": {
      "application/vnd.jupyter.widget-view+json": {
       "model_id": "666cbcc8a2c347b085605e5dd5b71d28",
       "version_major": 2,
       "version_minor": 0
      },
      "text/plain": [
       "UIBuilder(description='Download the two required files fron GitHub.', function_import='download', name='downlo…"
      ]
     },
     "metadata": {},
     "output_type": "display_data"
    }
   ],
   "source": [
    "import subprocess\n",
    "@genepattern.build_ui(\n",
    "                        description=\"Download the two required files fron GitHub.\",\n",
    "parameters={\n",
    "    \"output_var\":{\"default\": \"nada\",\n",
    "                 \"hide\": True},\n",
    "})\n",
    "def download():\n",
    "    url_1 = 'https://raw.githubusercontent.com/genepattern/single_cell_clustering_notebook/master/singlecell.py'\n",
    "    url_2 = 'https://raw.githubusercontent.com/genepattern/single_cell_clustering_notebook/master/Single-Cell%20RNA-seq%20Clustering%20Analysis%20Notebook.ipynb'\n",
    "    subprocess.check_output(['wget',url_1])\n",
    "    subprocess.check_output(['wget',url_2])\n",
    "    print('done!')\n",
    "    genepattern.GPUIOutput(text=f'Two files were downloaded')"
   ]
  },
  {
   "cell_type": "code",
   "execution_count": null,
   "metadata": {
    "collapsed": true
   },
   "outputs": [],
   "source": []
  }
 ],
 "metadata": {
  "genepattern": {
   "repository_url": "http://notebook.genepattern.org/services/sharing/notebooks/319/"
  },
  "kernelspec": {
   "display_name": "Python 3.7",
   "language": "python",
   "name": "python3.7"
  },
  "language_info": {
   "codemirror_mode": {
    "name": "ipython",
    "version": 3
   },
   "file_extension": ".py",
   "mimetype": "text/x-python",
   "name": "python",
   "nbconvert_exporter": "python",
   "pygments_lexer": "ipython3",
   "version": "3.7.1"
  }
 },
 "nbformat": 4,
 "nbformat_minor": 2
}
