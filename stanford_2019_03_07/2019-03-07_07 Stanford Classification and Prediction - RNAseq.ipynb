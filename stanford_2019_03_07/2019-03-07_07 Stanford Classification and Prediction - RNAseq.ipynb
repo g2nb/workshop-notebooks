{
 "cells": [
  {
   "cell_type": "markdown",
   "metadata": {},
   "source": [
    "# Classification and Prediction in GenePattern Notebook\n",
    "\n",
    "This notebook will show you how to use k-Nearest Neighbors (kNN) to build a predictor, use it to classify leukemia subtypes, and assess its accuracy in cross-validation."
   ]
  },
  {
   "cell_type": "markdown",
   "metadata": {},
   "source": [
    "### K-nearest-neighbors (KNN)\n",
    "KNN classifies an unknown sample by assigning it the phenotype label most frequently represented among the k nearest known samples. \n",
    "\n",
    "Additionally, you can select a weighting factor for the 'votes' of the nearest neighbors. For example, one might weight the votes by the reciprocal of the distance between neighbors to give closer neighors a greater vote."
   ]
  },
  {
   "cell_type": "markdown",
   "metadata": {},
   "source": [
    "<h2>1. Log in to GenePattern</h2>"
   ]
  },
  {
   "cell_type": "markdown",
   "metadata": {},
   "source": [
    "<div class=\"alert alert-info\">\n",
    "<h3 style=\"margin-top: 0;\"> Instructions <i class=\"fa fa-info-circle\"></i></h3>\n",
    "<ul>\n",
    "\t<li>Enter your username and password <i>(if needed)</i> in the GenePattern login cell below.</li>\n",
    "\t<li>Click <em>Log into GenePattern</em>.</li>\n",
    "\t<li>Alternatively, if you are prompted to Login as your username, just click that button and give it a couple seconds to authenticate.</li>\n",
    "</ul>\n",
    "</div>"
   ]
  },
  {
   "cell_type": "code",
   "execution_count": 7,
   "metadata": {
    "genepattern": {
     "name": "Login",
     "server": "https://cloud.genepattern.org/gp",
     "type": "auth"
    }
   },
   "outputs": [
    {
     "data": {
      "application/vnd.jupyter.widget-view+json": {
       "model_id": "aa96f64ceb8247d0b7321063c090ec45",
       "version_major": 2,
       "version_minor": 0
      },
      "text/plain": [
       "GPAuthWidget()"
      ]
     },
     "metadata": {},
     "output_type": "display_data"
    }
   ],
   "source": [
    "# Requires GenePattern Notebook: pip install genepattern-notebook\n",
    "import gp\n",
    "import genepattern\n",
    "\n",
    "# Username and password removed for security reasons.\n",
    "genepattern.display(genepattern.session.register(\"https://cloud.genepattern.org/gp\", \"\", \"\"))"
   ]
  },
  {
   "cell_type": "markdown",
   "metadata": {},
   "source": [
    "## 2. Run k-Nearest Neighbors Cross Validation"
   ]
  },
  {
   "cell_type": "markdown",
   "metadata": {},
   "source": [
    "<div class=\"alert alert-info\">\n",
    "<h3 style=\"margin-top: 0;\"> Instructions <i class=\"fa fa-info-circle\"></i></h3>\n",
    "<ol>\n",
    "<li>Drag [BRCA_HUGO_symbols.preprocessed.gct](https://datasets.genepattern.org/data/ccmi_tutorial/2017-12-15/BRCA_HUGO_symbols.preprocessed.gct) to the **data filename** field below.\n",
    "</li><li>Drag [BRCA_HUGO_symbols.preprocessed.cls](https://datasets.genepattern.org/data/ccmi_tutorial/2017-12-15/BRCA_HUGO_symbols.preprocessed.cls) to the **class filename** field.\n",
    "</li><li>Click **Run**.</li>\n",
    "</ol>\n",
    "</div>"
   ]
  },
  {
   "cell_type": "code",
   "execution_count": 9,
   "metadata": {
    "genepattern": {
     "param_values": {
      "class.filename": null,
      "data.filename": null,
      "distance.measure": null,
      "feature.selection.statistic": null,
      "feature.summary.file": null,
      "job.cpuCount": null,
      "job.memory": null,
      "job.queue": null,
      "job.walltime": null,
      "min.std": null,
      "num.features": null,
      "num.neighbors": null,
      "pred.results.file": null,
      "weighting.type": null
     },
     "show_code": true,
     "type": "task"
    }
   },
   "outputs": [
    {
     "data": {
      "application/vnd.jupyter.widget-view+json": {
       "model_id": "d72deefd001444f39f4f101fc7537847",
       "version_major": 2,
       "version_minor": 0
      },
      "text/plain": [
       "GPTaskWidget(lsid='urn:lsid:broad.mit.edu:cancer.software.genepattern.module.analysis:00013')"
      ]
     },
     "metadata": {},
     "output_type": "display_data"
    }
   ],
   "source": [
    "knnxvalidation_task = gp.GPTask(genepattern.get_session(0), 'urn:lsid:broad.mit.edu:cancer.software.genepattern.module.analysis:00013')\n",
    "knnxvalidation_job_spec = knnxvalidation_task.make_job_spec()\n",
    "knnxvalidation_job_spec.set_parameter(\"data.filename\", \"\")\n",
    "knnxvalidation_job_spec.set_parameter(\"class.filename\", \"\")\n",
    "knnxvalidation_job_spec.set_parameter(\"num.features\", \"10\")\n",
    "knnxvalidation_job_spec.set_parameter(\"feature.selection.statistic\", \"0\")\n",
    "knnxvalidation_job_spec.set_parameter(\"min.std\", \"\")\n",
    "knnxvalidation_job_spec.set_parameter(\"num.neighbors\", \"3\")\n",
    "knnxvalidation_job_spec.set_parameter(\"weighting.type\", \"1\")\n",
    "knnxvalidation_job_spec.set_parameter(\"distance.measure\", \"1\")\n",
    "knnxvalidation_job_spec.set_parameter(\"pred.results.file\", \"<data.filename_basename>.pred.odf\")\n",
    "knnxvalidation_job_spec.set_parameter(\"feature.summary.file\", \"<data.filename_basename>.feat.odf\")\n",
    "genepattern.display(knnxvalidation_task)"
   ]
  },
  {
   "cell_type": "markdown",
   "metadata": {},
   "source": [
    "## 3. View a list of features used in the prediction model"
   ]
  },
  {
   "cell_type": "markdown",
   "metadata": {},
   "source": [
    "<div class=\"alert alert-info\">\n",
    "<h3 style=\"margin-top: 0;\"> Instructions <i class=\"fa fa-info-circle\"></i></h3>\n",
    "<ol>\n",
    "<li>Select the XXXXXX.KNNXvalidation job result cell by clicking anywhere in it.\n",
    "</li><li>Click on the i icon next to the `<filename>.**feat**.odf` file\n",
    "</li><li>Select \"Send to DataFrame\"\n",
    "</li><li>You will see a new cell created below the job result cell.\n",
    "</li><li>Execute this cell.\n",
    "</li><li>You will see a table of features, descriptions, and the number of times each feature was included in a model in a cross-validation loop.\n",
    "</li></ol></div>"
   ]
  },
  {
   "cell_type": "markdown",
   "metadata": {},
   "source": [
    "## 4. View prediction results"
   ]
  },
  {
   "cell_type": "markdown",
   "metadata": {},
   "source": [
    "<div class=\"alert alert-info\">\n",
    "<h3 style=\"margin-top: 0;\"> Instructions <i class=\"fa fa-info-circle\"></i></h3>\n",
    "<ol>\n",
    "<li>For the **prediction results file** parameter below, click the down arrow in the file input box.\n",
    "</li><li>Right click the `BRCA_HUGO_symbols.preprocessed.pred.odf` above and select **\"Copy link address\"**.\n",
    "</LI><LI>Paste the link into the **'Prediction Results File'** parameter.\n",
    "</li><li>Click **Run**.\n",
    "</li><li>You will see the prediction results in an interactive viewer.</li></ol></div>\n"
   ]
  },
  {
   "cell_type": "code",
   "execution_count": 10,
   "metadata": {
    "genepattern": {
     "description": "Visualizes prediction results in JavaScript",
     "name": "PredictionResultsViewer",
     "param_values": {
      "job.cpuCount": null,
      "job.memory": null,
      "job.queue": null,
      "job.walltime": null,
      "prediction.results.file": null
     },
     "type": "task"
    }
   },
   "outputs": [
    {
     "data": {
      "application/vnd.jupyter.widget-view+json": {
       "model_id": "e7828c7313f0453fafbd8e7946d27a8f",
       "version_major": 2,
       "version_minor": 0
      },
      "text/plain": [
       "GPTaskWidget(lsid='urn:lsid:broad.mit.edu:cancer.software.genepattern.module.visualizer:00019')"
      ]
     },
     "metadata": {},
     "output_type": "display_data"
    }
   ],
   "source": [
    "predictionresultsviewer_task = gp.GPTask(genepattern.session.get(0), 'urn:lsid:broad.mit.edu:cancer.software.genepattern.module.visualizer:00019')\n",
    "predictionresultsviewer_job_spec = predictionresultsviewer_task.make_job_spec()\n",
    "predictionresultsviewer_job_spec.set_parameter(\"prediction.results.file\", \"\")\n",
    "genepattern.display(predictionresultsviewer_task)"
   ]
  },
  {
   "cell_type": "markdown",
   "metadata": {},
   "source": [
    "<h2>Part 2, Compare classification of Preprocessed data to non-preprocessed data</h2>\n",
    "<p>\n",
    "Back in the Data Preparation section at the beginning of the workshop, we ran the RNA-Seq read counts data through the VoomNormalize module to preprocess RNA-Seq data into a form suitable for use downstream in other GenePattern analyses originally designed for microarray data.  Many of these approaches assume that the data is distributed normally, yet this is not true of RNA-seq read count data. The PreprocessReadCounts module provides one approach to accommodate this. It uses a mean-variance modeling technique ('voom' from the limma Bioconductor package) to transform the dataset to fit an approximation of a normal distribution, with the goal of being able to apply statistical methods and workflows that assume a normal distribution.\n",
    "</p>\n",
    "<p>\n",
    "Now lets take a look at how well our KNNXValidation classifier works if we provide it with the RNA-Seq matrix from before this processing step.\n",
    "</p>\n",
    "\n",
    "<h2>5. Run KNNXValidation on the non-normalized data</h2>\n",
    "For this exercise we want you to compare the results of the classifier we used above to using the same classifier and  settings on the BRCA data that has not been run through VoomNormalize to normalize it first.\n",
    "\n",
    "<div class=\"alert alert-info\">\n",
    "<div class=\"alert alert-info\">\n",
    "<h3 style=\"margin-top: 0;\"> Instructions <i class=\"fa fa-info-circle\"></i></h3>\n",
    "<ol>\n",
    "    <li>Add a cell below.</li> \n",
    "    <li>Turn the new cell into a GenePattern cell and select the KNNXValidation module</li>\n",
    "\t<li>Drag <a href=\"https://datasets.genepattern.org/data/ccmi_tutorial/2018-09-20/BRCA_Dataset.collapsed.gct\" target=\"_blank\">BRCA_Dataset.collapsed.gct</a> to the <strong>data filename</strong> field below.  This is the version of the data that has been collapsed to HUGO symbols, but not run through VoomNormalize</li>\n",
    "\t<li>Drag <a href=\"https://datasets.genepattern.org/data/ccmi_tutorial/2018-09-20/BRCA_Dataset.cls\" target=\"_blank\">BRCA_Dataset.cls</a> to the <strong>class filename</strong> field.</li>\n",
    "\t<li>Click <strong>Run</strong>.</li>\n",
    "    <li>Examine the results using the PredicetionResultsViewer module.</li>\n",
    "</ol>\n",
    "</div>\n"
   ]
  },
  {
   "cell_type": "markdown",
   "metadata": {
    "heading_collapsed": true
   },
   "source": [
    "## 5. Example results (spoiler)"
   ]
  },
  {
   "cell_type": "markdown",
   "metadata": {
    "hidden": true
   },
   "source": [
    "If you are short on time or want to check your answer against one that has been run already,\n",
    "\n"
   ]
  },
  {
   "cell_type": "markdown",
   "metadata": {
    "heading_collapsed": true,
    "hidden": true
   },
   "source": [
    "### Expand this cell to see example results for step 5."
   ]
  },
  {
   "cell_type": "code",
   "execution_count": 11,
   "metadata": {
    "genepattern": {
     "description": "KNN classification with Leave-One-Out Cross-Validation",
     "name": "KNNXValidation",
     "param_values": {
      "class.filename": null,
      "data.filename": null,
      "distance.measure": null,
      "feature.selection.statistic": null,
      "feature.summary.file": null,
      "job.cpuCount": null,
      "job.memory": null,
      "job.queue": null,
      "job.walltime": null,
      "min.std": null,
      "num.features": null,
      "num.neighbors": null,
      "pred.results.file": null,
      "weighting.type": null
     },
     "show_code": true,
     "type": "task"
    },
    "hidden": true
   },
   "outputs": [
    {
     "data": {
      "application/vnd.jupyter.widget-view+json": {
       "model_id": "7a0c5e1de1db4272b9976183776cdc01",
       "version_major": 2,
       "version_minor": 0
      },
      "text/plain": [
       "GPTaskWidget(lsid='urn:lsid:broad.mit.edu:cancer.software.genepattern.module.analysis:00013')"
      ]
     },
     "metadata": {},
     "output_type": "display_data"
    },
    {
     "data": {
      "application/vnd.jupyter.widget-view+json": {
       "model_id": "d179226161db43abba27c002759327ee",
       "version_major": 2,
       "version_minor": 0
      },
      "text/plain": [
       "GPJobWidget(job_number=82917)"
      ]
     },
     "metadata": {},
     "output_type": "display_data"
    }
   ],
   "source": [
    "knnxvalidation_task = gp.GPTask(genepattern.session.get(0), 'urn:lsid:broad.mit.edu:cancer.software.genepattern.module.analysis:00013')\n",
    "knnxvalidation_job_spec = knnxvalidation_task.make_job_spec()\n",
    "knnxvalidation_job_spec.set_parameter(\"data.filename\", \"https://datasets.genepattern.org/data/ccmi_tutorial/2018-09-20/BRCA_Dataset.collapsed.gct\")\n",
    "knnxvalidation_job_spec.set_parameter(\"class.filename\", \"https://datasets.genepattern.org/data/ccmi_tutorial/2018-09-20/BRCA_Dataset.cls\")\n",
    "knnxvalidation_job_spec.set_parameter(\"num.features\", \"10\")\n",
    "knnxvalidation_job_spec.set_parameter(\"feature.selection.statistic\", \"0\")\n",
    "knnxvalidation_job_spec.set_parameter(\"min.std\", \"\")\n",
    "knnxvalidation_job_spec.set_parameter(\"num.neighbors\", \"3\")\n",
    "knnxvalidation_job_spec.set_parameter(\"weighting.type\", \"distance\")\n",
    "knnxvalidation_job_spec.set_parameter(\"distance.measure\", \"1\")\n",
    "knnxvalidation_job_spec.set_parameter(\"pred.results.file\", \"<data.filename_basename>.pred.odf\")\n",
    "knnxvalidation_job_spec.set_parameter(\"feature.summary.file\", \"<data.filename_basename>.feat.odf\")\n",
    "genepattern.display(knnxvalidation_task)\n",
    "\n",
    "job82917 = gp.GPJob(genepattern.session.get(0), 82917)\n",
    "genepattern.display(job82917)"
   ]
  },
  {
   "cell_type": "code",
   "execution_count": 8,
   "metadata": {
    "genepattern": {
     "name": "PredictionResultsViewer",
     "param_values": {
      "job.cpuCount": null,
      "job.memory": null,
      "job.queue": null,
      "job.walltime": null,
      "prediction.results.file": null
     },
     "type": "task"
    },
    "hidden": true,
    "scrolled": false
   },
   "outputs": [
    {
     "data": {
      "application/vnd.jupyter.widget-view+json": {
       "model_id": "4f765a230aa946818f13ae3dff48391d",
       "version_major": 2,
       "version_minor": 0
      },
      "text/plain": [
       "GPTaskWidget(lsid='urn:lsid:broad.mit.edu:cancer.software.genepattern.module.visualizer:00019')"
      ]
     },
     "metadata": {},
     "output_type": "display_data"
    },
    {
     "data": {
      "application/vnd.jupyter.widget-view+json": {
       "model_id": "02df6bbd95b94342b5c6d9ad01b7b2fc",
       "version_major": 2,
       "version_minor": 0
      },
      "text/plain": [
       "GPJobWidget(job_number=83457)"
      ]
     },
     "metadata": {},
     "output_type": "display_data"
    }
   ],
   "source": [
    "predictionresultsviewer_task = gp.GPTask(genepattern.session.get(0), 'urn:lsid:broad.mit.edu:cancer.software.genepattern.module.visualizer:00019')\n",
    "predictionresultsviewer_job_spec = predictionresultsviewer_task.make_job_spec()\n",
    "predictionresultsviewer_job_spec.set_parameter(\"prediction.results.file\", \"https://cloud.genepattern.org/gp/jobResults/82917/BRCA_Dataset.collapsed.pred.odf\")\n",
    "genepattern.display(predictionresultsviewer_task)\n",
    "\n",
    "job94824 = gp.GPJob(genepattern.session.get(0), 94824)\n",
    "genepattern.display(job94824)"
   ]
  },
  {
   "cell_type": "markdown",
   "metadata": {
    "hidden": true
   },
   "source": [
    "<h3>5. Discussion</h3>\n",
    "\n",
    "<p>As you can see, the KNNXvalidation classifier works just as well for the non-normalized data, though there is slightly less confidence in one of the calls.&nbsp; This is a reflection of the fact that from a gene-expression point of view, seperating tumor cells from normal cells is actually a fairly easy distinction to make which is why we us it in these exercises.&nbsp;&nbsp;</p>\n"
   ]
  },
  {
   "cell_type": "markdown",
   "metadata": {},
   "source": [
    "## 6. Compare the selected features\n",
    "\n",
    "We saw above that using the euclidean distance metric with the pre-normalized BRCA data, that KNNXValidation does not do as good a job classifying our tumor/normal samples.  Here we will examine why that might be.\n",
    "\n",
    "<div class=\"alert alert-info\">\n",
    "<h3 style=\"margin-top: 0;\"> Instructions <i class=\"fa fa-info-circle\"></i></h3>\n",
    "<ol>\n",
    "    <li>From Step 6 above, click on <strong>BRCA_Dataset.collapsed.feat.odf</strong> and choose <Strong>Send to Dataframe</Strong></li> \n",
    "    <li>Move the resulting cell to the end of the notebook using the down arrow in the menu bar.</li>\n",
    "\t<li>Repeat these 2 steps for the <strong>BRCA_HUGO_symbols.preprocessed.feat.odf</strong> from the beginning of this notebook.</li>\n",
    "\t<li>Compare the lists of features.  How many features are in both runs?</li>\n",
    "</ol>\n",
    "</div>\n",
    "\n"
   ]
  },
  {
   "cell_type": "markdown",
   "metadata": {
    "heading_collapsed": true
   },
   "source": [
    "## 6. Example Results (spoiler)"
   ]
  },
  {
   "cell_type": "markdown",
   "metadata": {
    "hidden": true
   },
   "source": [
    "If you are short on time or want to check your answer against one that has been run already,"
   ]
  },
  {
   "cell_type": "markdown",
   "metadata": {
    "heading_collapsed": true,
    "hidden": true
   },
   "source": [
    "### Expand this cell to see example results for step 6."
   ]
  },
  {
   "cell_type": "code",
   "execution_count": 135,
   "metadata": {
    "hidden": true
   },
   "outputs": [
    {
     "name": "stderr",
     "output_type": "stream",
     "text": [
      "/opt/conda/envs/python3.6/lib/python3.6/site-packages/gp/data.py:163: UserWarning: Pandas doesn't allow columns to be created via a new attribute name - see https://pandas.pydata.org/pandas-docs/stable/indexing.html#attribute-access\n",
      "  df.dataframe = df\n",
      "/opt/conda/envs/python3.6/lib/python3.6/site-packages/gp/data.py:259: UserWarning: Pandas doesn't allow columns to be created via a new attribute name - see https://pandas.pydata.org/pandas-docs/stable/indexing.html#attribute-access\n",
      "  df.headers = headers\n"
     ]
    },
    {
     "data": {
      "text/html": [
       "<div>\n",
       "<style scoped>\n",
       "    .dataframe tbody tr th:only-of-type {\n",
       "        vertical-align: middle;\n",
       "    }\n",
       "\n",
       "    .dataframe tbody tr th {\n",
       "        vertical-align: top;\n",
       "    }\n",
       "\n",
       "    .dataframe thead th {\n",
       "        text-align: right;\n",
       "    }\n",
       "</style>\n",
       "<table border=\"1\" class=\"dataframe\">\n",
       "  <thead>\n",
       "    <tr style=\"text-align: right;\">\n",
       "      <th></th>\n",
       "      <th>Feature Name</th>\n",
       "      <th>Description</th>\n",
       "      <th>Count</th>\n",
       "    </tr>\n",
       "  </thead>\n",
       "  <tbody>\n",
       "    <tr>\n",
       "      <th>0</th>\n",
       "      <td>WISP1</td>\n",
       "      <td>WNT1 inducible signaling pathway protein 1</td>\n",
       "      <td>40</td>\n",
       "    </tr>\n",
       "    <tr>\n",
       "      <th>1</th>\n",
       "      <td>HSD17B6</td>\n",
       "      <td>hydroxysteroid 17-beta dehydrogenase 6</td>\n",
       "      <td>40</td>\n",
       "    </tr>\n",
       "    <tr>\n",
       "      <th>2</th>\n",
       "      <td>TMEM220</td>\n",
       "      <td>transmembrane protein 220</td>\n",
       "      <td>40</td>\n",
       "    </tr>\n",
       "    <tr>\n",
       "      <th>3</th>\n",
       "      <td>SPRY2</td>\n",
       "      <td>sprouty RTK signaling antagonist 2</td>\n",
       "      <td>39</td>\n",
       "    </tr>\n",
       "    <tr>\n",
       "      <th>4</th>\n",
       "      <td>INHBA</td>\n",
       "      <td>inhibin beta A subunit</td>\n",
       "      <td>38</td>\n",
       "    </tr>\n",
       "    <tr>\n",
       "      <th>5</th>\n",
       "      <td>MATN2</td>\n",
       "      <td>matrilin 2</td>\n",
       "      <td>37</td>\n",
       "    </tr>\n",
       "    <tr>\n",
       "      <th>6</th>\n",
       "      <td>TNFRSF10D</td>\n",
       "      <td>TNF receptor superfamily member 10d</td>\n",
       "      <td>37</td>\n",
       "    </tr>\n",
       "    <tr>\n",
       "      <th>7</th>\n",
       "      <td>SLC50A1</td>\n",
       "      <td>solute carrier family 50 member 1</td>\n",
       "      <td>37</td>\n",
       "    </tr>\n",
       "    <tr>\n",
       "      <th>8</th>\n",
       "      <td>CCNE2</td>\n",
       "      <td>cyclin E2</td>\n",
       "      <td>35</td>\n",
       "    </tr>\n",
       "    <tr>\n",
       "      <th>9</th>\n",
       "      <td>TSLP</td>\n",
       "      <td>thymic stromal lymphopoietin</td>\n",
       "      <td>21</td>\n",
       "    </tr>\n",
       "    <tr>\n",
       "      <th>10</th>\n",
       "      <td>ANXA1</td>\n",
       "      <td>annexin A1</td>\n",
       "      <td>8</td>\n",
       "    </tr>\n",
       "    <tr>\n",
       "      <th>11</th>\n",
       "      <td>NTRK2</td>\n",
       "      <td>neurotrophic receptor tyrosine kinase 2</td>\n",
       "      <td>4</td>\n",
       "    </tr>\n",
       "    <tr>\n",
       "      <th>12</th>\n",
       "      <td>MIR3153</td>\n",
       "      <td>microRNA 3153</td>\n",
       "      <td>3</td>\n",
       "    </tr>\n",
       "    <tr>\n",
       "      <th>13</th>\n",
       "      <td>GGTA1P</td>\n",
       "      <td>glycoprotein, alpha-galactosyltransferase 1 ps...</td>\n",
       "      <td>3</td>\n",
       "    </tr>\n",
       "    <tr>\n",
       "      <th>14</th>\n",
       "      <td>KLHL29</td>\n",
       "      <td>kelch like family member 29</td>\n",
       "      <td>2</td>\n",
       "    </tr>\n",
       "    <tr>\n",
       "      <th>15</th>\n",
       "      <td>UNC5B</td>\n",
       "      <td>unc-5 netrin receptor B</td>\n",
       "      <td>2</td>\n",
       "    </tr>\n",
       "    <tr>\n",
       "      <th>16</th>\n",
       "      <td>FAXDC2</td>\n",
       "      <td>fatty acid hydroxylase domain containing 2</td>\n",
       "      <td>2</td>\n",
       "    </tr>\n",
       "    <tr>\n",
       "      <th>17</th>\n",
       "      <td>SCN4B</td>\n",
       "      <td>sodium voltage-gated channel beta subunit 4</td>\n",
       "      <td>2</td>\n",
       "    </tr>\n",
       "    <tr>\n",
       "      <th>18</th>\n",
       "      <td>KIF26B</td>\n",
       "      <td>kinesin family member 26B</td>\n",
       "      <td>2</td>\n",
       "    </tr>\n",
       "    <tr>\n",
       "      <th>19</th>\n",
       "      <td>MME</td>\n",
       "      <td>membrane metalloendopeptidase</td>\n",
       "      <td>1</td>\n",
       "    </tr>\n",
       "    <tr>\n",
       "      <th>20</th>\n",
       "      <td>LINC02408</td>\n",
       "      <td>long intergenic non-protein coding RNA 2408</td>\n",
       "      <td>1</td>\n",
       "    </tr>\n",
       "    <tr>\n",
       "      <th>21</th>\n",
       "      <td>TDRD10</td>\n",
       "      <td>tudor domain containing 10</td>\n",
       "      <td>1</td>\n",
       "    </tr>\n",
       "    <tr>\n",
       "      <th>22</th>\n",
       "      <td>COMP</td>\n",
       "      <td>cartilage oligomeric matrix protein</td>\n",
       "      <td>1</td>\n",
       "    </tr>\n",
       "    <tr>\n",
       "      <th>23</th>\n",
       "      <td>DMD</td>\n",
       "      <td>dystrophin</td>\n",
       "      <td>1</td>\n",
       "    </tr>\n",
       "    <tr>\n",
       "      <th>24</th>\n",
       "      <td>ADAM33</td>\n",
       "      <td>ADAM metallopeptidase domain 33</td>\n",
       "      <td>1</td>\n",
       "    </tr>\n",
       "    <tr>\n",
       "      <th>25</th>\n",
       "      <td>RGN</td>\n",
       "      <td>regucalcin</td>\n",
       "      <td>1</td>\n",
       "    </tr>\n",
       "    <tr>\n",
       "      <th>26</th>\n",
       "      <td>FLVCR1</td>\n",
       "      <td>feline leukemia virus subgroup C cellular rece...</td>\n",
       "      <td>1</td>\n",
       "    </tr>\n",
       "  </tbody>\n",
       "</table>\n",
       "</div>"
      ],
      "text/plain": [
       "   Feature Name                                        Description  Count\n",
       "0         WISP1         WNT1 inducible signaling pathway protein 1     40\n",
       "1       HSD17B6             hydroxysteroid 17-beta dehydrogenase 6     40\n",
       "2       TMEM220                          transmembrane protein 220     40\n",
       "3         SPRY2                 sprouty RTK signaling antagonist 2     39\n",
       "4         INHBA                             inhibin beta A subunit     38\n",
       "5         MATN2                                         matrilin 2     37\n",
       "6     TNFRSF10D                TNF receptor superfamily member 10d     37\n",
       "7       SLC50A1                  solute carrier family 50 member 1     37\n",
       "8         CCNE2                                          cyclin E2     35\n",
       "9          TSLP                       thymic stromal lymphopoietin     21\n",
       "10        ANXA1                                         annexin A1      8\n",
       "11        NTRK2            neurotrophic receptor tyrosine kinase 2      4\n",
       "12      MIR3153                                      microRNA 3153      3\n",
       "13       GGTA1P  glycoprotein, alpha-galactosyltransferase 1 ps...      3\n",
       "14       KLHL29                        kelch like family member 29      2\n",
       "15        UNC5B                            unc-5 netrin receptor B      2\n",
       "16       FAXDC2         fatty acid hydroxylase domain containing 2      2\n",
       "17        SCN4B        sodium voltage-gated channel beta subunit 4      2\n",
       "18       KIF26B                          kinesin family member 26B      2\n",
       "19          MME                      membrane metalloendopeptidase      1\n",
       "20    LINC02408        long intergenic non-protein coding RNA 2408      1\n",
       "21       TDRD10                         tudor domain containing 10      1\n",
       "22         COMP                cartilage oligomeric matrix protein      1\n",
       "23          DMD                                         dystrophin      1\n",
       "24       ADAM33                    ADAM metallopeptidase domain 33      1\n",
       "25          RGN                                         regucalcin      1\n",
       "26       FLVCR1  feline leukemia virus subgroup C cellular rece...      1"
      ]
     },
     "execution_count": 135,
     "metadata": {},
     "output_type": "execute_result"
    }
   ],
   "source": [
    "# The code below will only run if pandas is installed: http://pandas.pydata.org\n",
    "from gp.data import ODF\n",
    "brca_dataset_collapsed_feat_odf_40362 = ODF(job40362.get_file(\"BRCA_Dataset.collapsed.feat.odf\"))\n",
    "brca_dataset_collapsed_feat_odf_40362"
   ]
  },
  {
   "cell_type": "code",
   "execution_count": 83,
   "metadata": {
    "hidden": true
   },
   "outputs": [
    {
     "name": "stderr",
     "output_type": "stream",
     "text": [
      "/opt/conda/envs/python3.6/lib/python3.6/site-packages/gp/data.py:163: UserWarning: Pandas doesn't allow columns to be created via a new attribute name - see https://pandas.pydata.org/pandas-docs/stable/indexing.html#attribute-access\n",
      "  df.dataframe = df\n",
      "/opt/conda/envs/python3.6/lib/python3.6/site-packages/gp/data.py:259: UserWarning: Pandas doesn't allow columns to be created via a new attribute name - see https://pandas.pydata.org/pandas-docs/stable/indexing.html#attribute-access\n",
      "  df.headers = headers\n"
     ]
    },
    {
     "data": {
      "text/html": [
       "<div>\n",
       "<style scoped>\n",
       "    .dataframe tbody tr th:only-of-type {\n",
       "        vertical-align: middle;\n",
       "    }\n",
       "\n",
       "    .dataframe tbody tr th {\n",
       "        vertical-align: top;\n",
       "    }\n",
       "\n",
       "    .dataframe thead th {\n",
       "        text-align: right;\n",
       "    }\n",
       "</style>\n",
       "<table border=\"1\" class=\"dataframe\">\n",
       "  <thead>\n",
       "    <tr style=\"text-align: right;\">\n",
       "      <th></th>\n",
       "      <th>Feature Name</th>\n",
       "      <th>Description</th>\n",
       "      <th>Count</th>\n",
       "    </tr>\n",
       "  </thead>\n",
       "  <tbody>\n",
       "    <tr>\n",
       "      <th>0</th>\n",
       "      <td>MME</td>\n",
       "      <td>membrane metalloendopeptidase</td>\n",
       "      <td>40</td>\n",
       "    </tr>\n",
       "    <tr>\n",
       "      <th>1</th>\n",
       "      <td>MMP11</td>\n",
       "      <td>matrix metallopeptidase 11</td>\n",
       "      <td>40</td>\n",
       "    </tr>\n",
       "    <tr>\n",
       "      <th>2</th>\n",
       "      <td>SPRY2</td>\n",
       "      <td>sprouty RTK signaling antagonist 2</td>\n",
       "      <td>40</td>\n",
       "    </tr>\n",
       "    <tr>\n",
       "      <th>3</th>\n",
       "      <td>SLC50A1</td>\n",
       "      <td>solute carrier family 50 member 1</td>\n",
       "      <td>40</td>\n",
       "    </tr>\n",
       "    <tr>\n",
       "      <th>4</th>\n",
       "      <td>COL10A1</td>\n",
       "      <td>collagen type X alpha 1 chain</td>\n",
       "      <td>40</td>\n",
       "    </tr>\n",
       "    <tr>\n",
       "      <th>5</th>\n",
       "      <td>INHBA</td>\n",
       "      <td>inhibin beta A subunit</td>\n",
       "      <td>38</td>\n",
       "    </tr>\n",
       "    <tr>\n",
       "      <th>6</th>\n",
       "      <td>ROBO3</td>\n",
       "      <td>roundabout guidance receptor 3</td>\n",
       "      <td>38</td>\n",
       "    </tr>\n",
       "    <tr>\n",
       "      <th>7</th>\n",
       "      <td>MATN2</td>\n",
       "      <td>matrilin 2</td>\n",
       "      <td>32</td>\n",
       "    </tr>\n",
       "    <tr>\n",
       "      <th>8</th>\n",
       "      <td>TMEM220</td>\n",
       "      <td>transmembrane protein 220</td>\n",
       "      <td>22</td>\n",
       "    </tr>\n",
       "    <tr>\n",
       "      <th>9</th>\n",
       "      <td>COMP</td>\n",
       "      <td>cartilage oligomeric matrix protein</td>\n",
       "      <td>18</td>\n",
       "    </tr>\n",
       "    <tr>\n",
       "      <th>10</th>\n",
       "      <td>CERS2</td>\n",
       "      <td>ceramide synthase 2</td>\n",
       "      <td>15</td>\n",
       "    </tr>\n",
       "    <tr>\n",
       "      <th>11</th>\n",
       "      <td>NTRK2</td>\n",
       "      <td>neurotrophic receptor tyrosine kinase 2</td>\n",
       "      <td>14</td>\n",
       "    </tr>\n",
       "    <tr>\n",
       "      <th>12</th>\n",
       "      <td>UBE2T</td>\n",
       "      <td>ubiquitin conjugating enzyme E2 T</td>\n",
       "      <td>7</td>\n",
       "    </tr>\n",
       "    <tr>\n",
       "      <th>13</th>\n",
       "      <td>CXCL2</td>\n",
       "      <td>C-X-C motif chemokine ligand 2</td>\n",
       "      <td>5</td>\n",
       "    </tr>\n",
       "    <tr>\n",
       "      <th>14</th>\n",
       "      <td>LMOD1</td>\n",
       "      <td>leiomodin 1</td>\n",
       "      <td>4</td>\n",
       "    </tr>\n",
       "    <tr>\n",
       "      <th>15</th>\n",
       "      <td>MAMDC2</td>\n",
       "      <td>MAM domain containing 2</td>\n",
       "      <td>1</td>\n",
       "    </tr>\n",
       "    <tr>\n",
       "      <th>16</th>\n",
       "      <td>IL11RA</td>\n",
       "      <td>interleukin 11 receptor subunit alpha</td>\n",
       "      <td>1</td>\n",
       "    </tr>\n",
       "    <tr>\n",
       "      <th>17</th>\n",
       "      <td>KLHL29</td>\n",
       "      <td>kelch like family member 29</td>\n",
       "      <td>1</td>\n",
       "    </tr>\n",
       "    <tr>\n",
       "      <th>18</th>\n",
       "      <td>VEGFD</td>\n",
       "      <td>vascular endothelial growth factor D</td>\n",
       "      <td>1</td>\n",
       "    </tr>\n",
       "    <tr>\n",
       "      <th>19</th>\n",
       "      <td>CDCA8</td>\n",
       "      <td>cell division cycle associated 8</td>\n",
       "      <td>1</td>\n",
       "    </tr>\n",
       "    <tr>\n",
       "      <th>20</th>\n",
       "      <td>EIF2AK1</td>\n",
       "      <td>eukaryotic translation initiation factor 2 alp...</td>\n",
       "      <td>1</td>\n",
       "    </tr>\n",
       "    <tr>\n",
       "      <th>21</th>\n",
       "      <td>TNFRSF10D</td>\n",
       "      <td>TNF receptor superfamily member 10d</td>\n",
       "      <td>1</td>\n",
       "    </tr>\n",
       "  </tbody>\n",
       "</table>\n",
       "</div>"
      ],
      "text/plain": [
       "   Feature Name                                        Description  Count\n",
       "0           MME                      membrane metalloendopeptidase     40\n",
       "1         MMP11                         matrix metallopeptidase 11     40\n",
       "2         SPRY2                 sprouty RTK signaling antagonist 2     40\n",
       "3       SLC50A1                  solute carrier family 50 member 1     40\n",
       "4       COL10A1                      collagen type X alpha 1 chain     40\n",
       "5         INHBA                             inhibin beta A subunit     38\n",
       "6         ROBO3                     roundabout guidance receptor 3     38\n",
       "7         MATN2                                         matrilin 2     32\n",
       "8       TMEM220                          transmembrane protein 220     22\n",
       "9          COMP                cartilage oligomeric matrix protein     18\n",
       "10        CERS2                                ceramide synthase 2     15\n",
       "11        NTRK2            neurotrophic receptor tyrosine kinase 2     14\n",
       "12        UBE2T                  ubiquitin conjugating enzyme E2 T      7\n",
       "13        CXCL2                     C-X-C motif chemokine ligand 2      5\n",
       "14        LMOD1                                        leiomodin 1      4\n",
       "15       MAMDC2                            MAM domain containing 2      1\n",
       "16       IL11RA              interleukin 11 receptor subunit alpha      1\n",
       "17       KLHL29                        kelch like family member 29      1\n",
       "18        VEGFD               vascular endothelial growth factor D      1\n",
       "19        CDCA8                   cell division cycle associated 8      1\n",
       "20      EIF2AK1  eukaryotic translation initiation factor 2 alp...      1\n",
       "21    TNFRSF10D                TNF receptor superfamily member 10d      1"
      ]
     },
     "execution_count": 83,
     "metadata": {},
     "output_type": "execute_result"
    }
   ],
   "source": [
    "# The code below will only run if pandas is installed: http://pandas.pydata.org\n",
    "from gp.data import ODF\n",
    "brca_hugo_symbols_preprocessed_feat_odf_40001 = ODF(job40001.get_file(\"BRCA_HUGO_symbols.preprocessed.feat.odf\"))\n",
    "brca_hugo_symbols_preprocessed_feat_odf_40001"
   ]
  },
  {
   "cell_type": "markdown",
   "metadata": {
    "hidden": true
   },
   "source": [
    "This next step is not expected if you are not a python programmer.  You can just eyeball the two lists for the purposes of this exercise to see that they have several features in common"
   ]
  },
  {
   "cell_type": "code",
   "execution_count": 91,
   "metadata": {
    "hidden": true
   },
   "outputs": [
    {
     "data": {
      "text/plain": [
       "['MATN2',\n",
       " 'COMP',\n",
       " 'KLHL29',\n",
       " 'SPRY2',\n",
       " 'TMEM220',\n",
       " 'MME',\n",
       " 'INHBA',\n",
       " 'SLC50A1',\n",
       " 'TNFRSF10D',\n",
       " 'NTRK2']"
      ]
     },
     "execution_count": 91,
     "metadata": {},
     "output_type": "execute_result"
    }
   ],
   "source": [
    "# unprocessed feature names\n",
    "unprocessedFeatures = brca_dataset_collapsed_feat_odf_40362['Feature Name']\n",
    "\n",
    "# preprocessed feature names\n",
    "preprocessedFeatures = brca_hugo_symbols_preprocessed_feat_odf_40001['Feature Name']\n",
    "\n",
    "# intersect the 2 sets to see which features are in both lists\n",
    "list(set(preprocessedFeatures) & set(unprocessedFeatures))\n"
   ]
  },
  {
   "cell_type": "markdown",
   "metadata": {
    "hidden": true
   },
   "source": [
    "<h3>6. Discussion</h3>\n",
    "\n",
    "<p>As you can see, the lists of features for the classifiers for the unprocessed and preprocessed data are not identical, but there is some overlap.&nbsp; Nonetheless each of the classifiers was able to perfectly classify the samples.&nbsp; As mentioned before, this is a reflection of the fact that this is a pretty easy classification problem and there are many genes that could be used to make the class distinction.</p>\n",
    "\n",
    "<p>&nbsp;</p>\n"
   ]
  },
  {
   "cell_type": "markdown",
   "metadata": {
    "hidden": true
   },
   "source": [
    "<h3 id=\"Bonus-Content---comparing-the-processed-and-unprocessed-data\">Bonus Content - comparing the processed and unprocessed data</h3>\n",
    "\n",
    "<p><span style=\"color: inherit ; font-family: inherit\">To try to see the differences in the data sets, you can use the cell below to generate X-Y plots of genes from the two datasets to see how they differ.</span></p>\n",
    "\n",
    "<p>The cell below will use the pre-computed results from the spoilers above.&nbsp; In addition there is a third plot that shows the unprocessed dataset after it has been log transformed as a third refernce point.</p>\n",
    "\n",
    "<p>&nbsp;</p>\n"
   ]
  },
  {
   "cell_type": "code",
   "execution_count": 6,
   "metadata": {
    "hidden": true,
    "nbtools": {
     "description": "",
     "name": "show_X_Y_plots",
     "param_values": {
      "gene_1": "MME",
      "gene_2": "SPRY2",
      "output_var": ""
     },
     "show_code": false,
     "type": "uibuilder"
    }
   },
   "outputs": [
    {
     "data": {
      "application/vnd.jupyter.widget-view+json": {
       "model_id": "eaccb3c6a850469cac87c2ce6ab87569",
       "version_major": 2,
       "version_minor": 0
      },
      "text/plain": [
       "UIBuilder(function_import='show_X_Y_plots', name='show_X_Y_plots', params=[{'name': 'gene_1', 'label': 'Gene 1…"
      ]
     },
     "metadata": {},
     "output_type": "display_data"
    }
   ],
   "source": [
    "%matplotlib inline\n",
    "%load_ext autoreload\n",
    "%autoreload 2\n",
    "\n",
    "import numpy as np\n",
    "from gp.data import GCT\n",
    "import matplotlib.pyplot as plt\n",
    "\n",
    "@genepattern.build_ui(parameters={\n",
    "    \"gene_1\": {\n",
    "        \"name\": \"Gene 1\",\n",
    "        \"description\": \"First gene for X-Y plots\",\n",
    "        \"default\": \"MME\",\n",
    "        \"type\": \"choice\",\n",
    "        \"choices\":{\"ADAM33\":\"ADAM33\",\n",
    "\"ANXA1\":\"ANXA1\",\n",
    "\"CCNE2\":\"CCNE2\",\n",
    "\"CDCA8\":\"CDCA8\",\n",
    "\"CERS2\":\"CERS2\",\n",
    "\"COL10A1\":\"COL10A1\",\n",
    "\"COMP\":\"COMP\",\n",
    "\"CXCL2\":\"CXCL2\",\n",
    "\"DMD\":\"DMD\",\n",
    "\"EIF2AK1\":\"EIF2AK1\",\n",
    "\"FAXDC2\":\"FAXDC2\",\n",
    "\"FLVCR1\":\"FLVCR1\",\n",
    "\"GGTA1P\":\"GGTA1P\",\n",
    "\"HSD17B6\":\"HSD17B6\",\n",
    "\"IL11RA\":\"IL11RA\",\n",
    "\"INHBA\":\"INHBA\",\n",
    "\"KIF26B\":\"KIF26B\",\n",
    "\"KLHL29\":\"KLHL29\",\n",
    "\"LINC02408\":\"LINC02408\",\n",
    "\"LMOD1\":\"LMOD1\",\n",
    "\"MAMDC2\":\"MAMDC2\",\n",
    "\"MATN2\":\"MATN2\",\n",
    "\"MIR3153\":\"MIR3153\",\n",
    "\"MME\":\"MME\",\n",
    "\"MMP11\":\"MMP11\",\n",
    "\"NTRK2\":\"NTRK2\",\n",
    "                \"RGN\":\"RGN\",\n",
    "\"ROBO3\":\"ROBO3\",\n",
    "\"SCN4B\":\"SCN4B\",\n",
    "\"SLC50A1\":\"SLC50A1\",\n",
    "\"SPRY2\":\"SPRY2\",\n",
    "\"TDRD10\":\"TDRD10\",\n",
    "\"TMEM220\":\"TMEM220\",\n",
    "\"TNFRSF10D\":\"TNFRSF10D\",\n",
    "\"TSLP\":\"TSLP\",\n",
    "\"UBE2T\":\"UBE2T\",\n",
    "\"UNC5B\":\"UNC5B\",\n",
    "\"VEGFD\":\"VEGFD\",\n",
    "\"WISP1\":\"WISP1\"}\n",
    "    },\n",
    "    \"gene_2\": {\n",
    "        \"name\": \"Gene 2\",\n",
    "        \"description\": \"Second gene for X-Y plots\",\n",
    "        \"default\": \"SPRY2\",\n",
    "        \"type\": \"choice\",\n",
    "        \"choices\":{\"ADAM33\":\"ADAM33\",\n",
    "\"ANXA1\":\"ANXA1\",\n",
    "\"CCNE2\":\"CCNE2\",\n",
    "\"CDCA8\":\"CDCA8\",\n",
    "\"CERS2\":\"CERS2\",\n",
    "\"COL10A1\":\"COL10A1\",\n",
    "\"COMP\":\"COMP\",\n",
    "\"CXCL2\":\"CXCL2\",\n",
    "\"DMD\":\"DMD\",\n",
    "\"EIF2AK1\":\"EIF2AK1\",\n",
    "\"FAXDC2\":\"FAXDC2\",\n",
    "\"FLVCR1\":\"FLVCR1\",\n",
    "\"GGTA1P\":\"GGTA1P\",\n",
    "\"HSD17B6\":\"HSD17B6\",\n",
    "\"IL11RA\":\"IL11RA\",\n",
    "\"INHBA\":\"INHBA\",\n",
    "\"KIF26B\":\"KIF26B\",\n",
    "\"KLHL29\":\"KLHL29\",\n",
    "\"LINC02408\":\"LINC02408\",\n",
    "\"LMOD1\":\"LMOD1\",\n",
    "\"MAMDC2\":\"MAMDC2\",\n",
    "\"MATN2\":\"MATN2\",\n",
    "\"MIR3153\":\"MIR3153\",\n",
    "\"MME\":\"MME\",\n",
    "\"MMP11\":\"MMP11\",\n",
    "\"NTRK2\":\"NTRK2\",\n",
    "                \"RGN\":\"RGN\",\n",
    "\"ROBO3\":\"ROBO3\",\n",
    "\"SCN4B\":\"SCN4B\",\n",
    "\"SLC50A1\":\"SLC50A1\",\n",
    "\"SPRY2\":\"SPRY2\",\n",
    "\"TDRD10\":\"TDRD10\",\n",
    "\"TMEM220\":\"TMEM220\",\n",
    "\"TNFRSF10D\":\"TNFRSF10D\",\n",
    "\"TSLP\":\"TSLP\",\n",
    "\"UBE2T\":\"UBE2T\",\n",
    "\"UNC5B\":\"UNC5B\",\n",
    "\"VEGFD\":\"VEGFD\",\n",
    "\"WISP1\":\"WISP1\"}\n",
    "    },\n",
    "    \"output_var\": {\n",
    "        \"hide\": True,\n",
    "    }\n",
    "})\n",
    "def show_X_Y_plots(gene_1, gene_2):\n",
    "\n",
    "    processedInput_GCT = GCT(gp.GPFile(genepattern.get_session(0), \"https://datasets.genepattern.org/data/ccmi_tutorial/2018-09-20/BRCA_HUGO_symbols.preprocessed.gct\"))\n",
    "    UNprocessedInput_GCT = GCT(gp.GPFile(genepattern.get_session(0), \"https://datasets.genepattern.org/data/ccmi_tutorial/2018-09-20/BRCA_Dataset.collapsed.gct\"))\n",
    "    ltgct = GCT(gp.GPFile(genepattern.get_session(0), \"https://cloud.genepattern.org/gp/jobResults/82746/BRCA_HUGO_symbols.preprocessed.gct \"))\n",
    "\n",
    "\n",
    "    # drop the description from the index\n",
    "    processedInput_GCT.reset_index(inplace=True)\n",
    "    processedInput_GCT.set_index('Name', inplace=True)\n",
    "    del processedInput_GCT['Description']\n",
    "\n",
    "    UNprocessedInput_GCT.reset_index(inplace=True)\n",
    "    UNprocessedInput_GCT.set_index('Name', inplace=True)\n",
    "    del UNprocessedInput_GCT['Description']\n",
    "\n",
    "    ltgct.reset_index(inplace=True)\n",
    "    ltgct.set_index('Name', inplace=True)\n",
    "    del ltgct['Description']\n",
    "    ltgct = ltgct.astype(float)\n",
    "\n",
    "    cls2 = gp.GPFile(genepattern.get_session(0), \"https://datasets.genepattern.org/data/ccmi_tutorial/2018-09-20/BRCA_Dataset.cls\")\n",
    "\n",
    "    clsLines =  cls2.read().splitlines()\n",
    "    labels = np.asarray(clsLines[1].split(), dtype=str)[1:] \n",
    "    classes = np.asarray(clsLines[2].strip('\\n').split(' '), dtype=int)\n",
    "\n",
    "\n",
    "    dft = processedInput_GCT.transpose()\n",
    "    dft['classes'] = [labels[i] for i in classes]\n",
    "\n",
    "    UNdft = UNprocessedInput_GCT.transpose()\n",
    "    UNdft['classes'] = [labels[i] for i in classes]\n",
    "\n",
    "    lgdft = ltgct.transpose()\n",
    "    lgdft['classes'] = [labels[i] for i in classes]\n",
    "\n",
    "\n",
    "    # First 2 plots are for 2 of the top genes for the preprocessed data\n",
    "    groups = dft.groupby('classes')\n",
    "    fig = plt.figure()\n",
    "    fig.set_size_inches(18,6)\n",
    "    ax = fig.add_subplot(132)\n",
    "    #plt.subplots()\n",
    "    #fig.set_size_inches(12,8)\n",
    "    ax.margins(0.05) # Optional, just adds 5% padding to the autoscaling\n",
    "    for name, group in groups:\n",
    "        ax.plot(group[gene_1], group[gene_2], marker='o', linestyle='', ms=5, label=name)\n",
    "    ax.legend()\n",
    "    plt.title(\"Preprocessed Data\")\n",
    "\n",
    "    UNgroups = UNdft.groupby('classes')\n",
    "\n",
    "    #fig2, ax2 = plt.subplots()\n",
    "    #fig2.set_size_inches(12,8)\n",
    "    ax2 = fig.add_subplot(131)\n",
    "    ax2.margins(0.05) # Optional, just adds 5% padding to the autoscaling\n",
    "    for name, group in UNgroups:\n",
    "        ax2.plot(group[gene_1], group[gene_2], marker='o', linestyle='', ms=5, label=name)\n",
    "    ax2.legend()\n",
    "    plt.title(\"Un-preprocessed Data\")\n",
    "\n",
    "    LGgroups = lgdft.groupby('classes')\n",
    "\n",
    "    #fig3, ax3 = plt.subplots()\n",
    "    #fig3.set_size_inches(12,8)\n",
    "    ax3 = fig.add_subplot(133)\n",
    "    ax3.margins(0.05) # Optional, just adds 5% padding to the autoscaling\n",
    "    for name, group in LGgroups:\n",
    "        ax3.plot(group[gene_1], group[gene_2], marker='o', linestyle='', ms=5, label=name)\n",
    "    ax3.legend()\n",
    "    \n",
    "\n",
    "    ax.set_xlabel(gene_1)\n",
    "    ax.set_ylabel(gene_2)\n",
    "    ax2.set_xlabel(gene_1)\n",
    "    ax2.set_ylabel(gene_2)\n",
    "    ax3.set_xlabel(gene_1)\n",
    "    ax3.set_ylabel(gene_2)\n",
    "\n",
    "    ax.set_title(\"Preprocessed Data\")\n",
    "    ax2.set_title(\"Unprocessed\")\n",
    "\n",
    "    ax3.set_title(\"Unprocessed - log transformed\")\n",
    "    \n",
    "    plt.show()\n"
   ]
  },
  {
   "cell_type": "markdown",
   "metadata": {
    "hidden": true
   },
   "source": [
    "<h3>Bonus - Discussion</h3>\n",
    "\n",
    "<p>As you can see from the plots, the processed (voom) data seperates the classes much more cleanly than the unprocessed data for most gene sets.&nbsp; Comparing it to the log-transformed unprocessed data we see that for many genes, the clusters on the X-Y plots appear a bit tighter, probably due to voom&#39;s variance correction.</p>\n"
   ]
  },
  {
   "cell_type": "markdown",
   "metadata": {},
   "source": [
    "## References\n",
    "\n",
    "Breiman, L., Friedman, J. H., Olshen, R. A., & Stone, C. J. 1984. [Classification and regression trees](https://www.amazon.com/Classification-Regression-Wadsworth-Statistics-Probability/dp/0412048418?ie=UTF8&*Version*=1&*entries*=0). Wadsworth & Brooks/Cole Advanced Books & Software, Monterey, CA.\n",
    "\n",
    "Golub, T.R., Slonim, D.K., Tamayo, P., Huard, C., Gaasenbeek, M., Mesirov, J.P., Coller, H., Loh, M., Downing, J.R., Caligiuri, M.A., Bloomfield, C.D., and Lander, E.S. 1999. Molecular Classification of Cancer: Class Discovery and Class Prediction by Gene Expression. [Science 286:531-537](http://science.sciencemag.org/content/286/5439/531.long).\n",
    "\n",
    "Lu, J., Getz, G., Miska, E.A., Alvarez-Saavedra, E., Lamb, J., Peck, D., Sweet-Cordero, A., Ebert, B.L., Mak, R.H., Ferrando, A.A, Downing, J.R., Jacks, T., Horvitz, H.R., Golub, T.R. 2005. MicroRNA expression profiles classify human cancers. [Nature 435:834-838](http://www.nature.com/nature/journal/v435/n7043/full/nature03702.html).\n",
    "\n",
    "Rifkin, R., Mukherjee, S., Tamayo, P., Ramaswamy, S., Yeang, C-H, Angelo, M., Reich, M., Poggio, T., Lander, E.S., Golub, T.R., Mesirov, J.P. 2003. An Analytical Method for Multiclass Molecular Cancer Classification. [SIAM Review 45(4):706-723](http://epubs.siam.org/doi/abs/10.1137/S0036144502411986).\n",
    "\n",
    "Slonim, D.K., Tamayo, P., Mesirov, J.P., Golub, T.R., Lander, E.S. 2000. Class prediction and discovery using gene expression data. In [Proceedings of the Fourth Annual International Conference on Computational Molecular Biology (RECOMB)](http://dl.acm.org/citation.cfm?id=332564). ACM Press, New York. pp. 263-272."
   ]
  }
 ],
 "metadata": {
  "anaconda-cloud": {},
  "genepattern": {
   "repository_url": "http://notebook.genepattern.org/services/sharing/notebooks/316/"
  },
  "kernelspec": {
   "display_name": "Python 3.7",
   "language": "python",
   "name": "python3.7"
  },
  "language_info": {
   "codemirror_mode": {
    "name": "ipython",
    "version": 3
   },
   "file_extension": ".py",
   "mimetype": "text/x-python",
   "name": "python",
   "nbconvert_exporter": "python",
   "pygments_lexer": "ipython3",
   "version": "3.7.1"
  },
  "widgets": {
   "state": {
    "4f07490870de4bc288ac9aa5a97520c1": {
     "views": [
      {
       "cell_index": 5
      }
     ]
    },
    "5095e18fe6bc4af99f4a77dec05a3e4d": {
     "views": [
      {
       "cell_index": 3
      }
     ]
    },
    "f8b01462103f45fea177a69b9e2390f7": {
     "views": [
      {
       "cell_index": 7
      }
     ]
    }
   },
   "version": "1.2.0"
  }
 },
 "nbformat": 4,
 "nbformat_minor": 1
}
