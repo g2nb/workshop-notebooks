{
 "cells": [
  {
   "cell_type": "markdown",
   "metadata": {},
   "source": [
    "# Differential Expression part 2: Triple Negative BRCA"
   ]
  },
  {
   "cell_type": "markdown",
   "metadata": {},
   "source": [
    "Compute differentially expressed genes of triple negative BRCA vs non triple negative BRCA"
   ]
  },
  {
   "cell_type": "markdown",
   "metadata": {},
   "source": [
    "## Before you begin"
   ]
  },
  {
   "cell_type": "markdown",
   "metadata": {},
   "source": [
    "You must log in to a GenePattern server, in this notebook we will use **```GenePattern Cloud``` **\n",
    "\n",
    "<div class=\"alert alert-info\">\n",
    "<h3 style=\"margin-top: 0;\"> Instructions <i class=\"fa fa-info-circle\"></i></h3>\n",
    "<ul><li>Sign in to GenePattern by entering your username and password into the form below. </li></ul>\n",
    "</div>"
   ]
  },
  {
   "cell_type": "code",
   "execution_count": null,
   "metadata": {
    "genepattern": {
     "name": "Login",
     "server": "https://cloud.genepattern.org/gp",
     "type": "auth"
    }
   },
   "outputs": [],
   "source": [
    "# Requires GenePattern Notebook: pip install genepattern-notebook\n",
    "import gp\n",
    "import genepattern\n",
    "\n",
    "# Username and password removed for security reasons.\n",
    "genepattern.display(genepattern.session.register(\"https://cloud.genepattern.org/gp\", \"\", \"\"))"
   ]
  },
  {
   "cell_type": "markdown",
   "metadata": {},
   "source": [
    "# Identify markers for triple negative breast cancer"
   ]
  },
  {
   "cell_type": "markdown",
   "metadata": {},
   "source": [
    "## Load data into the notebook"
   ]
  },
  {
   "cell_type": "markdown",
   "metadata": {},
   "source": [
    "<div class=\"well well-sm\">\n",
    "- **Note:** For this excersise, we are using all of the BRCA primary tumor samples available at TCGA and separating them (using the provided CLS file) according to whether or not they are triple negative. We provide the necessary files in the cell below.  \n",
    "</div>"
   ]
  },
  {
   "cell_type": "code",
   "execution_count": 6,
   "metadata": {
    "nbtools": {
     "description": "",
     "name": "Python Results",
     "show_code": false,
     "type": "uioutput"
    }
   },
   "outputs": [
    {
     "data": {
      "application/vnd.jupyter.widget-view+json": {
       "model_id": "9e540b5840a24455adea254c250237b9",
       "version_major": 2,
       "version_minor": 0
      },
      "text/plain": [
       "UIOutput(files=['https://datasets.genepattern.org/data/TCGA_BRCA/GSEA/brca_primary_all.gct', 'https://datasets…"
      ]
     },
     "metadata": {},
     "output_type": "display_data"
    }
   ],
   "source": [
    "file_list = ['https://datasets.genepattern.org/data/TCGA_BRCA/GSEA/brca_primary_all.gct',\n",
    "             'https://datasets.genepattern.org/data/TCGA_BRCA/GSEA/triple_negative.cls']\n",
    "\n",
    "genepattern.GPUIOutput(files=file_list)"
   ]
  },
  {
   "cell_type": "markdown",
   "metadata": {},
   "source": [
    "## Compute differentially expressed genes"
   ]
  },
  {
   "cell_type": "markdown",
   "metadata": {},
   "source": [
    "<div class=\"well well-sm\">\n",
    "**Note:** Because of the size of this dataset, running this function will take some time (especially the plotting portion). Remember to look at the status of your kernel represented in the dot in the upper right corner (next to \"Python 3.6\")\n",
    "</div>"
   ]
  },
  {
   "cell_type": "markdown",
   "metadata": {},
   "source": [
    "<div class=\"alert alert-info\">\n",
    "<h3 style=\"margin-top: 0;\"> Instructions <i class=\"fa fa-info-circle\"></i></h3>\n",
    "- For the gene expression dataset parameter, select from the dropdown menu the file: `brca_primary_all.gct`  \n",
    "- For the phenotype file parameter, select from the dropdown menu the file: `BRCA_Dataset.cls`  \n",
    "- Leave the rest of the parameters as default.\n",
    "- Click Run\n",
    "</div>"
   ]
  },
  {
   "cell_type": "code",
   "execution_count": 7,
   "metadata": {
    "nbtools": {
     "description": "Sort genes according to their association with a discrete phenotype or class vector.",
     "name": "Differential gene expression, discrete pheotype.",
     "param_values": {
      "gene_expression": [],
      "max_number_of_genes_to_show": "20",
      "number_of_permutations": "3",
      "output_filename": "triple negative",
      "output_var": "gene_scores",
      "phenotype_file": [],
      "random_seed": "20121020",
      "ranking_method": "custom_pearson_corr",
      "show_plot": "true",
      "title": "Differential Expression Results"
     },
     "show_code": false,
     "type": "uibuilder"
    },
    "scrolled": false
   },
   "outputs": [
    {
     "data": {
      "application/vnd.jupyter.widget-view+json": {
       "model_id": "c9f6bc636db542ccb944487b203b6823",
       "version_major": 2,
       "version_minor": 0
      },
      "text/plain": [
       "UIBuilder(description='Sort genes according to their association with a discrete phenotype or class vector.', …"
      ]
     },
     "metadata": {},
     "output_type": "display_data"
    }
   ],
   "source": [
    "import genepattern\n",
    "import ccalnoir as ccal\n",
    "\n",
    "from ccalnoir import differential_gene_expression\n",
    "# import pandas as pd\n",
    "# import urllib.request\n",
    "from ccalnoir import compute_information_coefficient\n",
    "from ccalnoir import custom_pearson_corr\n",
    "RANDOM_SEED = 20180314\n",
    "\n",
    "genepattern.GPUIBuilder(differential_gene_expression, name=\"Differential gene expression, discrete pheotype.\", \n",
    "                        description=\"Sort genes according to their association with a discrete phenotype or class vector.\",\n",
    "                        parameters={\n",
    "                                \"gene_expression\":{\"name\":\"gene_expression_dataset\",\n",
    "                                                   \"type\": \"file\",\n",
    "                                                   \"kinds\": [\"gct\"]},\n",
    "                                \"phenotype_file\":{\"type\": \"file\",\n",
    "                                                  \"kinds\": [\"cls\"]},\n",
    "                                \"ranking_method\":{\n",
    "                                                  \"default\": \"custom_pearson_corr\",\n",
    "                                                  \"choices\":{'Pearson Correlation Matching':\"custom_pearson_corr\",\n",
    "                                                             'Information Coefficient Matching':\"compute_information_coefficient\",\n",
    "                                                            }\n",
    "                                                     },\n",
    "                                \"title\":{\"default\":\"Differential Expression Results\"},\n",
    "                                \"output_filename\":{\"default\": \"diffex_output\",},\n",
    "                                \"ramdon_seed\":{\"default\":20180314,},\n",
    "                                \"output_var\":{\"default\": \"gene_scores\",},\n",
    "                        })"
   ]
  },
  {
   "cell_type": "markdown",
   "metadata": {},
   "source": [
    "## Validate experimental results"
   ]
  },
  {
   "cell_type": "markdown",
   "metadata": {},
   "source": [
    "We will corroborate the results summarized in the abstract of \"A New Gene Expression Signature for Triple-Negative Breast Cancer Using Frozen Fresh Tissue before Neoadjuvant Chemotherapy\" by Santuario-Facio et al https://www.ncbi.nlm.nih.gov/pmc/articles/PMC5469719/ :  \n",
    "\n",
    "> Forty genes showed differential expression pattern in TNBC tumors. Among these, nine overexpressed genes (PRKX/PRKY, UGT8, HMGA1, LPIN1, HAPLN3, FAM171A1, BCL141A, FOXC1, and ANKRD11), and one underexpressed gene (ANX9) are involved in general metabolism. Based on this biochemical peculiarity and the overexpression of BCL11A and FOXC1 (involved in tumor growth and metastasis, respectively)[...]\n"
   ]
  },
  {
   "cell_type": "code",
   "execution_count": null,
   "metadata": {
    "collapsed": true
   },
   "outputs": [],
   "source": [
    "# From https://www.ncbi.nlm.nih.gov/pmc/articles/PMC5469719/\n",
    "genes_of_interest = ['PRKX','PRKY', 'UGT8','HMGA1','LPIN1','HAPLN3','FAM171A1','BCL141A','FOXC1','ANKRD11','BCL11A','ANX9']"
   ]
  },
  {
   "cell_type": "code",
   "execution_count": null,
   "metadata": {},
   "outputs": [],
   "source": [
    "tn_genes = pd.DataFrame()\n",
    "ranks = gene_scores.rank(ascending=False)['Score']\n",
    "for gene in genes_of_interest:\n",
    "    if gene in gene_scores.index:\n",
    "        tn_genes = tn_genes.append(gene_scores.loc[gene])\n",
    "        tn_genes.loc[gene,'rank'] = ranks[gene]\n",
    "    else:\n",
    "        print(f\"Gene {gene} not present.\")\n",
    "tn_genes = tn_genes.sort_values(by='Score',ascending=False)\n",
    "tn_genes"
   ]
  },
  {
   "cell_type": "code",
   "execution_count": 8,
   "metadata": {
    "nbtools": {
     "description": "Show differentially expressed genes with links to genecards.org",
     "name": "Table Creator",
     "param_values": {
      "actual_ranking": "false",
      "df": "tn_genes",
      "max_number_of_genes_to_show": "20",
      "output_var": ""
     },
     "show_code": false,
     "type": "uibuilder"
    }
   },
   "outputs": [
    {
     "data": {
      "application/vnd.jupyter.widget-view+json": {
       "model_id": "94b1b59204a74bd6b4584cc93a056e84",
       "version_major": 2,
       "version_minor": 0
      },
      "text/plain": [
       "UIBuilder(description='Show differentially expressed genes with links to genecards.org', function_import='make…"
      ]
     },
     "metadata": {},
     "output_type": "display_data"
    }
   ],
   "source": [
    "import numpy as np\n",
    "import pandas as pd\n",
    "\n",
    "def make_clickable(url):\n",
    "    to_display = url.split('=')[1]\n",
    "    return '<a href=\"{}\" target=\"_blank\">{}</a>'.format(url, to_display)\n",
    "\n",
    "def make_table(df,max_number_of_genes_to_show, actual_ranking=False):\n",
    "    df['Rank'] = range(1,len(df)+1)\n",
    "#     pd.options.display.max_colwidth = 100\n",
    "    if max_number_of_genes_to_show > len(df):\n",
    "        max_number_of_genes_to_show = len(df)\n",
    "        print(\"You want to show more genes than your data contains ಠ_ಠ\")\n",
    "        print(\"Showing you only {} instead (i.e., all the genes you have provided)\".format(max_number_of_genes_to_show))\n",
    "    \n",
    "    if actual_ranking:\n",
    "        df['abs-Score'] = np.absolute(df['Score'])\n",
    "        sorted_df = df.sort_values(by=[\"abs-Score\"], ascending=False)\n",
    "        sorted_df = sorted_df.head(max_number_of_genes_to_show)\n",
    "    else:\n",
    "        to_show = int(np.floor(max_number_of_genes_to_show/2))\n",
    "        sorted_df = df.head(to_show).append(df.tail(to_show))\n",
    "\n",
    "    sorted_df['GeneCards link']=pd.Series([\"http://www.genecards.org/cgi-bin/carddisp.pl?gene={}\".format(gene) \n",
    "                                     for gene in sorted_df.index.values], index=sorted_df.index)\n",
    "    \n",
    "    cols = list(sorted_df)\n",
    "    # move the column to head of list using index, pop and insert\n",
    "    cols.insert(0, cols.pop(cols.index('GeneCards link')))\n",
    "    # use ix to reorder\n",
    "    sorted_df = sorted_df.ix[:, cols]\n",
    "    sorted_df.set_index('Rank', inplace=True)\n",
    "    styled_table = sorted_df.style.format({'GeneCards link': make_clickable})\n",
    "    styled_table\n",
    "    return styled_table\n",
    "\n",
    "genepattern.GPUIBuilder(make_table, name=\"Table Creator\", \n",
    "                        description=\"Show differentially expressed genes with links to genecards.org\",\n",
    "                        parameters={\n",
    "                                \"df\":{\"name\": \"differential_expression_results\",\n",
    "                                      \"description\":'The output from differerential expression (for this exercise, leave it as \"gene_scores\")',\n",
    "                                      \"default\":\"gene_scores\"},\n",
    "                                \"max_number_of_genes_to_show\":{\"description\":\"Maximum number of genes to show in the heatmap (half will be overexpressed in one class and half in the other)\",\n",
    "                                                               \"default\":20},\n",
    "                                \"actual_ranking\":{\"hide\":True},\n",
    "                                \"output_var\":{\"hide\":True},\n",
    "                        })"
   ]
  },
  {
   "cell_type": "markdown",
   "metadata": {
    "collapsed": true
   },
   "source": [
    "<div class=\"well well-sm\">\n",
    "What if we want to look at these genes *as a set*?\n",
    "</div>"
   ]
  },
  {
   "cell_type": "code",
   "execution_count": null,
   "metadata": {
    "collapsed": true
   },
   "outputs": [],
   "source": []
  }
 ],
 "metadata": {
  "anaconda-cloud": {},
  "genepattern": {
   "repository_url": "http://notebook.genepattern.org/services/sharing/notebooks/310/"
  },
  "kernelspec": {
   "display_name": "Python 3.7",
   "language": "python",
   "name": "python3.7"
  },
  "language_info": {
   "codemirror_mode": {
    "name": "ipython",
    "version": 3
   },
   "file_extension": ".py",
   "mimetype": "text/x-python",
   "name": "python",
   "nbconvert_exporter": "python",
   "pygments_lexer": "ipython3",
   "version": "3.7.1"
  },
  "widgets": {
   "state": {
    "2a5e839a40ac4aad9e170213613fb672": {
     "views": [
      {
       "cell_index": 1
      }
     ]
    },
    "52c44c2ff34e4cf69825b4e9ba8ac674": {
     "views": [
      {
       "cell_index": 7
      }
     ]
    },
    "9b98374208954f2bb68b6e45664d0e9e": {
     "views": [
      {
       "cell_index": 4
      }
     ]
    },
    "dc62ee2ed17b4b7ab96a5e4b73d6b521": {
     "views": [
      {
       "cell_index": 10
      }
     ]
    }
   },
   "version": "1.2.0"
  }
 },
 "nbformat": 4,
 "nbformat_minor": 1
}
