{
 "cells": [
  {
   "cell_type": "markdown",
   "metadata": {},
   "source": [
    "<div class=\"alert alert-info\">\n",
    "<h3 style=\"margin-top: 0;\"> Instructions <i class=\"fa fa-info-circle\"></i></h3>\n",
    "<p>Throughout this notebook, actions that you are supposed to take are written in a blue box like this.</p>\n",
    "</div>"
   ]
  },
  {
   "cell_type": "markdown",
   "metadata": {},
   "source": [
    "<h1 id=\"Data-Preparation\">Data Preparation</h1>\n",
    "\n",
    "\n",
    "<h3 id=\"Breast-Cancer-Data\">Breast Cancer Data</h3>\n",
    "\n",
    "<p>For this notebook and some of the later exercises we will use RNA-Seq data from <a href=\"https://cancergenome.nih.gov/\" target=\"_blank\">The Cancer Genome Atlas (TCGA)</a>. We have selected 20 breast cancer primary tumors (BRCA) with their matched normal samples. We can retrieve the&nbsp;read counts files for each tumor and normal sample (40 in total) downloaded from the <a href=\"https://gdc.cancer.gov\" target=\"_blank\">TCGA Genomic Data Commons</a>&nbsp;(GDC) as well as sample metadata (tumor/normal status).&nbsp;</p>\n",
    "\n",
    "<p><strong>While the example we are using is for a specfic selection of breast cancer samples, you can use the steps in this notebook to prepare any TCGA-derived data for use in GenePattern analyses.</strong></p>\n",
    "\n",
    "<h2 id=\"Scientific-summary\">Scientific summary</h2>\n",
    "\n",
    "<p>For our data preparation phase, we will perform the following steps:</p>\n",
    "\n",
    "<h3 id=\"1.-Download-TCGA-Breast-Cancer-data-from-the-GDC-Data-Portal-as-a-GCT-file\">1. Download TCGA Breast Cancer data from the GDC Data Portal as a GCT file</h3>\n",
    "\n",
    "<p>We have generated the TCGA Genomic Data Commons (GDC) <strong>metadata</strong> and <strong>manifest</strong> files for your&nbsp;use today to allow easy importation of the breast cancer read counts data into GenePattern.&nbsp; For a notebook with full details on how to generate these two files, see&nbsp;<a href=\"https://github.com/genepattern/TCGAImporter/blob/develop/how_to_download_a_manifest_and_metadata.ipynb\" target=\"_blank\">https://github.com/genepattern/TCGAImporter/blob/develop/how_to_download_a_manifest_and_metadata.ipynb</a>.</p>\n",
    "\n",
    "<p>The manifest and metadata files will then be provided to the TCGAImporter module.&nbsp; This module will dowload the individual&nbsp;read counts files (one per sample) and generate a <a href=\"http://software.broadinstitute.org/cancer/software/genepattern/file-formats-guide#GCT\" target=\"_blank\">GCT</a> file with each sample as one column and each Ensembl gene id as a row. The module will also use the&nbsp;tumor/normal<strong>&nbsp;</strong>status of each sample&nbsp;in the metadata to generate a <a href=\"http://software.broadinstitute.org/cancer/software/genepattern/file-formats-guide#CLS\" target=\"_blank\">CLS file</a> assigning a phenotype to each sample.</p>\n",
    "\n",
    "<h3 id=\"2.-Replace-Ensembl-gene-ids-with-HUGO-symbols-and-remove-duplicates\">2. Replace Ensembl gene ids with HUGO symbols and remove duplicates</h3>\n",
    "\n",
    "<p>To make the dataset more human-friendly for analysis we will replace the Ensembl gene ids with HUGO symbols. Since more than one Ensembl gene id can map to a single symbol, we need to collapse any rows with duplicate symbols to a single row. The CollapseDataset module does both the remapping and collapsing for us.</p>\n",
    "\n",
    "<h3 id=\"3.-Normalize-for-downstream-analysis\">3. Normalize for downstream analysis</h3>\n",
    "\n",
    "<p>Preprocess RNA-Seq count data in a GCT file so that it is suitable for use in GenePattern analyses. The <a href=\"http://software.broadinstitute.org/cancer/software/genepattern/modules/docs/VoomNormalize/2\">VoomNormalize</a> module will be used for this.&nbsp; It uses a mean-variance modeling technique (&#39;voom&#39; from the limma Bioconductor package) to transform the dataset to fit an approximation of a normal distribution, with the goal of being able to apply statistical methods and workflows that assume a normal distribution to the resulting output dataset.</p>\n",
    "\n",
    "<h3 id=\"Login\">Login</h3>\n",
    "\n",
    "<div class=\"alert alert-info\">\n",
    "<h3 style=\"margin-top: 0;\"> Instructions <i class=\"fa fa-info-circle\"></i></h3>\n",
    "<ul>\n",
    "\t<li>If you are not logged in, select the GenePattern server, enter your username and password in the cell below and click <strong>Login</strong>.</li>\n",
    "</ul>\n",
    "</div>\n",
    "\n",
    "<p>The logins to the notebook server and the GenePattern server are separate to allow you to run analyses hosted on different GenePattern servers in the same notebook.</p>\n"
   ]
  },
  {
   "cell_type": "code",
   "execution_count": 11,
   "metadata": {
    "genepattern": {
     "name": "Login",
     "server": "https://cloud.genepattern.org/gp",
     "type": "auth"
    }
   },
   "outputs": [
    {
     "data": {
      "application/vnd.jupyter.widget-view+json": {
       "model_id": "333b668413e54e3dbb48e115106b9b84",
       "version_major": 2,
       "version_minor": 0
      },
      "text/plain": [
       "GPAuthWidget()"
      ]
     },
     "metadata": {},
     "output_type": "display_data"
    }
   ],
   "source": [
    "# Requires GenePattern Notebook: pip install genepattern-notebook\n",
    "import gp\n",
    "import genepattern\n",
    "\n",
    "# Username and password removed for security reasons.\n",
    "genepattern.display(genepattern.session.register(\"https://cloud.genepattern.org/gp\", \"\", \"\"))"
   ]
  },
  {
   "cell_type": "markdown",
   "metadata": {},
   "source": [
    "<h3 id=\"Begin-the-analysis\">Begin the analysis</h3>\n",
    "\n",
    "<p>We will use the cell below (TCGAImporter). This module will take the <a href=\"https://github.com/genepattern/TCGAImporter/blob/develop/how_to_download_a_manifest_and_metadata.ipynb\">pre-generated&nbsp;TCGA manifest and metadata files from the TCGA Genomic Data Commons</a></p>\n",
    "\n",
    "\n",
    "<h3 id=\"Step-1.-Compile-multiple-read-count-files-into-a-matrix-and-a-file-describing-the-phenotypes\">Step 1. Download TCGA Breast Cancer data from the GDC Data Portal as a GCT file</h3>\n",
    "\n",
    "<div class=\"alert alert-info\">\n",
    "<h3 style=\"margin-top: 0;\"> Instructions <i class=\"fa fa-info-circle\"></i></h3>\n",
    "\n",
    "<ul>\n",
    "\t<li>Click <strong>Run</strong> in the cell below to generate the compiled read count (<strong>gct</strong>) and phenotype (<strong>cls</strong>) files.</li>\n",
    "</ul>\n",
    "</div>\n",
    "\n",
    "\n",
    "<p>Once you hit run, a new GenePattern output cell will appear. You can watch the job&#39;s status change in its top right corner. Once it is complete it will show you links to the output files in the job status cell.</p>\n",
    "\n",
    "<p>&nbsp;</p>\n"
   ]
  },
  {
   "cell_type": "code",
   "execution_count": 14,
   "metadata": {
    "genepattern": {
     "param_values": {
      "cls": null,
      "gct": null,
      "job.cpuCount": null,
      "job.memory": null,
      "job.queue": null,
      "job.walltime": null,
      "manifest": null,
      "metadata": null,
      "output_file_name": null,
      "translate_gene_id": null
     },
     "show_code": true,
     "type": "task"
    }
   },
   "outputs": [
    {
     "data": {
      "application/vnd.jupyter.widget-view+json": {
       "model_id": "7f570623727c4d648205446fac873308",
       "version_major": 2,
       "version_minor": 0
      },
      "text/plain": [
       "GPTaskWidget(lsid='urn:lsid:broad.mit.edu:cancer.software.genepattern.module.analysis:00369')"
      ]
     },
     "metadata": {},
     "output_type": "display_data"
    }
   ],
   "source": [
    "download_from_gdc_task = gp.GPTask(genepattern.get_session(0), 'urn:lsid:broad.mit.edu:cancer.software.genepattern.module.analysis:00369')\n",
    "download_from_gdc_job_spec = download_from_gdc_task.make_job_spec()\n",
    "download_from_gdc_job_spec.set_parameter(\"manifest\", \"https://datasets.genepattern.org/data/ccmi_tutorial/2018-06-07/workshop_gdc_manifest_20180607.txt\")\n",
    "download_from_gdc_job_spec.set_parameter(\"metadata\", \"https://datasets.genepattern.org/data/ccmi_tutorial/2018-06-07/workshop_gdc_metadata_20180607.json\")\n",
    "download_from_gdc_job_spec.set_parameter(\"output_file_name\", \"BRCA_Dataset\")\n",
    "download_from_gdc_job_spec.set_parameter(\"gct\", \"True\")\n",
    "download_from_gdc_job_spec.set_parameter(\"translate_gene_id\", \"False\")\n",
    "download_from_gdc_job_spec.set_parameter(\"cls\", \"True\")\n",
    "genepattern.display(download_from_gdc_task)"
   ]
  },
  {
   "cell_type": "markdown",
   "metadata": {},
   "source": [
    "<h3 id=\"Examine-your-output-files\">Examine your output files</h3>\n",
    "\n",
    "<div class=\"alert alert-info\">\n",
    "<h3 style=\"margin-top: 0;\"> Instructions <i class=\"fa fa-info-circle\"></i></h3>\n",
    "\n",
    "<ul>\n",
    "\t<li>Click on the <strong>cls</strong> and <strong>gct</strong> files you just generated and select the <code>Open in new tab</code> option to view them in your browser.</li>\n",
    "    <li>Alternatively, for the <strong>gct</strong> file you can click on it and select <code>Send to DataFrame</code> to look at the resulting gct file within this Jupyter notebook.</li>\n",
    "</ul>\n",
    "</div>\n"
   ]
  },
  {
   "cell_type": "markdown",
   "metadata": {},
   "source": [
    "<h3 id=\"Step-2.-Replace-Ensembl-gene-ids-with-HUGO-symbols-and-remove-duplicates\">Step 2. Replace Ensembl gene ids with HUGO symbols and remove duplicates</h3>\n",
    "\n",
    "<p>When you looked into the gct file that was output, you may have noticed that it uses Ensembl IDs for the rows (counts). We would like to change this to HUGO symbols to make this more human-friendly. When we do this, we will end up with multiple Ensembl transcripts that all map to a single HUGO symbol. However the analysis we will do later does not like to see duplicate rows, so we will want to collapse instances of multiple transcripts down to a single row.</p>\n",
    "\n",
    "<p>To do this we will use the CollapseDataset module which can collapse the rows and replace the Ensembl IDs with HUGO symbols in one step.</p>\n",
    "\n",
    "<div class=\"alert alert-info\">\n",
    "<h3 style=\"margin-top: 0;\"> Instructions <i class=\"fa fa-info-circle\"></i></h3>\n",
    "\n",
    "<ol>\n",
    "\t<li>Click on the&nbsp;<b>dataset file</b>&nbsp;parameter below and select the&nbsp;<code>BRCA_Dataset.gct</code>&nbsp;result file from the&nbsp;<b>TCGAImporter</b>&nbsp;analysis you just ran.</li>\n",
    "\t<li>Leave the <strong>chip platform</strong> parameter as&nbsp;<code><A HREF=\"https://datasets.genepattern.org/data/TCGA_HTSeq_counts/ENSEMBL_human_gene.chip\">https://datasets.genepattern.org/data/TCGA_HTSeq_counts/ENSEMBL_human_gene.chip</a></code> which should already be filled in.</li>\n",
    "\t<li>Click the button&nbsp;<strong><em>Run</em></strong>&nbsp;on the analysis below.</li>\n",
    "</ol>\n",
    "</div>\n"
   ]
  },
  {
   "cell_type": "code",
   "execution_count": 15,
   "metadata": {
    "genepattern": {
     "param_values": {
      "chip.platform": null,
      "collapse.mode": null,
      "dataset.file": [],
      "job.cpuCount": null,
      "job.memory": null,
      "job.queue": null,
      "job.walltime": null,
      "output.file.name": null
     },
     "type": "task"
    },
    "scrolled": false
   },
   "outputs": [
    {
     "data": {
      "application/vnd.jupyter.widget-view+json": {
       "model_id": "58ea732fe76e48b0b84c57d5c0328e70",
       "version_major": 2,
       "version_minor": 0
      },
      "text/plain": [
       "GPTaskWidget(lsid='urn:lsid:broad.mit.edu:cancer.software.genepattern.module.analysis:00134')"
      ]
     },
     "metadata": {},
     "output_type": "display_data"
    }
   ],
   "source": [
    "collapsedataset_task = gp.GPTask(genepattern.get_session(0), 'urn:lsid:broad.mit.edu:cancer.software.genepattern.module.analysis:00134')\n",
    "collapsedataset_job_spec = collapsedataset_task.make_job_spec()\n",
    "collapsedataset_job_spec.set_parameter(\"dataset.file\", \"\")\n",
    "collapsedataset_job_spec.set_parameter(\"chip.platform\", \"https://datasets.genepattern.org/data/TCGA_HTSeq_counts/ENSEMBL_human_gene.chip\")\n",
    "collapsedataset_job_spec.set_parameter(\"collapse.mode\", \"Maximum\")\n",
    "collapsedataset_job_spec.set_parameter(\"output.file.name\", \"BRCA_Dataset.collapsed.gct\")\n",
    "genepattern.display(collapsedataset_task)"
   ]
  },
  {
   "cell_type": "markdown",
   "metadata": {},
   "source": [
    "<h3 id=\"Step-3.-Normalize-for-downstream-analysis\">Step 3. Normalize for downstream analysis</h3>\n",
    "\n",
    "<p>Preprocess RNA-Seq count data in a GCT file so that it is suitable for use in GenePattern analyses.</p>\n",
    "\n",
    "<ul>\n",
    "\t<li>The <strong>VoomNormalize</strong> module is used to preprocess RNA-Seq data into a form suitable for use downstream in other GenePattern analyses such as Gene Set Enrichment Analysis (GSEA), ComparativeMarkerSelection, HierarchicalClustering, as well as visualizers.</li>\n",
    "\t<li>Many of these approaches assume that the data is distributed normally, yet this is not true of RNA-seq read count data. The VoomNormalize module provides one approach to accommodate this. It uses a mean-variance modeling technique (&#39;<strong>voom</strong>&#39; from the <strong>limma</strong> Bioconductor package) to transform the dataset to fit an approximation of a normal distribution, with the goal of being able to apply statistical methods and workflows that assume a normal distribution.</li>\n",
    "\t<li>Learn more by reading about the <a href=\"http://software.broadinstitute.org/cancer/software/genepattern/modules/docs/VoomNormalize/2\" target=\"_blank\">VoomNormalize</a> module.</li>\n",
    "</ul>\n"
   ]
  },
  {
   "cell_type": "markdown",
   "metadata": {},
   "source": [
    "<div class=\"alert alert-info\">\n",
    "<h3 style=\"margin-top: 0;\"> Instructions <i class=\"fa fa-info-circle\"></i></h3>\n",
    "\n",
    "<ol>\n",
    "\t<li>Click on the <b>input file</b> parameter below and select the <code>BRCA_Dataset.collapsed.gct</code> result file from the <b>CollapseDataset</b> analysis you just ran.</li>\n",
    "\t<li>Click on the <b>cls file</b> parameter below and select the <code>BRCA_Dataset.cls</code>&nbsp;from the <b>Download_from_GDC</b> analysis you performed at the beginning of this notebook.</li>\n",
    "\t<li>Click on the <code>+</code> at the right edge of the <em>Advanced Parameters</em> header to display additional parameters.</li>\n",
    "\t<li>Set the <strong><em>expression.value.filter.threshold</em></strong> parameter to <code>4</code> (so as to reduce the number of rows, and thus the time for computation)</li>\n",
    "\t<li>Copy and paste the name <code>BRCA_HUGO_symbols.preprocessed.gct</code> into the <strong>output file</strong> parameter.</li>\n",
    "\t<li>Click the button <strong><em>Run</em></strong> on the analysis below.</li>\n",
    "</ol>\n",
    "</div>\n"
   ]
  },
  {
   "cell_type": "code",
   "execution_count": 12,
   "metadata": {
    "genepattern": {
     "param_values": {
      "cls.file": [],
      "expression.value.filter.threshold": null,
      "input.file": [],
      "job.cpuCount": null,
      "job.memory": null,
      "job.queue": null,
      "job.walltime": null,
      "output.file": null
     },
     "type": "task"
    }
   },
   "outputs": [
    {
     "data": {
      "application/vnd.jupyter.widget-view+json": {
       "model_id": "420b79d8a4a64e76a985a5da8e62f51c",
       "version_major": 2,
       "version_minor": 0
      },
      "text/plain": [
       "GPTaskWidget(lsid='urn:lsid:broad.mit.edu:cancer.software.genepattern.module.analysis:00355')"
      ]
     },
     "metadata": {},
     "output_type": "display_data"
    }
   ],
   "source": [
    "preprocessreadcounts_task = gp.GPTask(genepattern.get_session(0), 'urn:lsid:broad.mit.edu:cancer.software.genepattern.module.analysis:00355')\n",
    "preprocessreadcounts_job_spec = preprocessreadcounts_task.make_job_spec()\n",
    "preprocessreadcounts_job_spec.set_parameter(\"input.file\", \"\")\n",
    "preprocessreadcounts_job_spec.set_parameter(\"cls.file\", \"\")\n",
    "preprocessreadcounts_job_spec.set_parameter(\"output.file\", \"BRCA_HUGO_symbols.preprocessed.gct\")\n",
    "preprocessreadcounts_job_spec.set_parameter(\"expression.value.filter.threshold\", \"4\")\n",
    "genepattern.display(preprocessreadcounts_task)"
   ]
  },
  {
   "cell_type": "markdown",
   "metadata": {},
   "source": [
    "<h3>Review the newly generated file</h3>\n",
    "<div class=\"alert alert-info\"><ol>\n",
    "<h3 style=\"margin-top: 0;\"> Instructions <i class=\"fa fa-info-circle\"></i></h3>\n",
    "<li>Click on the output file called `BRCA_HUGO_symbols.preprocessed.gct` above.</li>\n",
    "<li>Select `Send to existing GenePattern Cell`. </li>\n",
    "<li>Select `HeatMapViewer` (below).</li>\n",
    "<li>**Run** the HeatMapViewer cell.</li>\n",
    "</ol></div>"
   ]
  },
  {
   "cell_type": "code",
   "execution_count": 13,
   "metadata": {
    "genepattern": {
     "param_values": {
      "dataset": [],
      "job.cpuCount": null,
      "job.memory": null,
      "job.queue": null,
      "job.walltime": null
     },
     "type": "task"
    }
   },
   "outputs": [
    {
     "data": {
      "application/vnd.jupyter.widget-view+json": {
       "model_id": "3ca127915e624a09a7ec908fa9c39a3f",
       "version_major": 2,
       "version_minor": 0
      },
      "text/plain": [
       "GPTaskWidget(lsid='urn:lsid:broad.mit.edu:cancer.software.genepattern.module.visualizer:00010')"
      ]
     },
     "metadata": {},
     "output_type": "display_data"
    }
   ],
   "source": [
    "heatmapviewer_task = gp.GPTask(genepattern.get_session(0), 'urn:lsid:broad.mit.edu:cancer.software.genepattern.module.visualizer:00010')\n",
    "heatmapviewer_job_spec = heatmapviewer_task.make_job_spec()\n",
    "heatmapviewer_job_spec.set_parameter(\"dataset\", \"\")\n",
    "genepattern.display(heatmapviewer_task)"
   ]
  },
  {
   "cell_type": "markdown",
   "metadata": {},
   "source": [
    "<h3 id=\"Extra-Credit\">Extra Credit</h3>\n",
    "\n",
    "<p>In the example above, we provided the cell with the <strong>TCGAImporter</strong> module pre-selected and with the metadata and manifest files pre-generated and pre-entered as input.&nbsp; If you would like to go through the steps to set this up for yourself, follow the instructions <a href=\"https://github.com/genepattern/TCGAImporter/blob/develop/how_to_download_a_manifest_and_metadata.ipynb\">here</a>. You can use this as an opportunity to select samples from a different cancer type. Then you can re-run this notebook using your new inputs.</p>\n"
   ]
  }
 ],
 "metadata": {
  "genepattern": {
   "repository_url": "http://notebook.genepattern.org/services/sharing/notebooks/315/"
  },
  "kernelspec": {
   "display_name": "Python 3.6",
   "language": "python",
   "name": "python3.6"
  },
  "language_info": {
   "codemirror_mode": {
    "name": "ipython",
    "version": 3
   },
   "file_extension": ".py",
   "mimetype": "text/x-python",
   "name": "python",
   "nbconvert_exporter": "python",
   "pygments_lexer": "ipython3",
   "version": "3.6.8"
  }
 },
 "nbformat": 4,
 "nbformat_minor": 2
}
