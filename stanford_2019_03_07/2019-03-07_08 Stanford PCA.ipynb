{
 "cells": [
  {
   "cell_type": "markdown",
   "metadata": {},
   "source": [
    "# Principal Component Analysis (PCA)\n",
    "\n",
    "PCA identifies the axes that correspond to the greatest variation in a dataset. Usually, most of the variation in a dataset can be summarized by a few principal components. Therefore, the structure of a dataset can be represented using only several principal components."
   ]
  },
  {
   "cell_type": "markdown",
   "metadata": {},
   "source": [
    "## 1. Introduction: Why reduce dimensions? The curse of dimensionality"
   ]
  },
  {
   "cell_type": "markdown",
   "metadata": {},
   "source": [
    "Consider a circle (n-sphere) inscribed in a square (n-cube), and view how much of the n-cube is covered by the n-sphere as the number of dimensions increases:"
   ]
  },
  {
   "cell_type": "markdown",
   "metadata": {},
   "source": [
    "<img src=\"http://datasets.genepattern.org/images/sphere-in-cube.png\">"
   ]
  },
  {
   "cell_type": "markdown",
   "metadata": {},
   "source": [
    "As the number of dimensions increases, the volume of space covered by a unit sphere becomes proportionally smaller.\n",
    "\n",
    "- The volume of an $n$-ball, where $n$ is the dimension and $R$ is the radius, is $V_{n}(R) = \\frac{\\pi^{\\frac{n}{2}}}{\\Gamma({\\frac{n}{2} + 1})} R^{n}$\n",
    "\n",
    "- The volume of an $n$-cube of side length $d$ is $d^{n}$.\n",
    "\n",
    "- We will calculate the ratio of an inscribed $n$-sphere in an $n$-cube as a function of the dimension $n$:"
   ]
  },
  {
   "cell_type": "markdown",
   "metadata": {},
   "source": [
    "### 1.1. Perform setup steps"
   ]
  },
  {
   "cell_type": "markdown",
   "metadata": {},
   "source": [
    "<div class=\"alert alert-info\">\n",
    "<h3 style=\"margin-top: 0;\"> Instructions <i class=\"fa fa-info-circle\"></i></h3>\n",
    "Execute the cells below.\n",
    "</div>"
   ]
  },
  {
   "cell_type": "code",
   "execution_count": 73,
   "metadata": {
    "collapsed": true
   },
   "outputs": [],
   "source": [
    "# Import required libraries for computing and plotting:\n",
    "import math\n",
    "from math import gamma\n",
    "import matplotlib.pyplot as plt\n",
    "\n",
    "# Enable embedding matplotlib graphs in the notebook:\n",
    "%%matplotlib inline"
   ]
  },
  {
   "cell_type": "code",
   "execution_count": 82,
   "metadata": {
    "collapsed": true,
    "scrolled": true
   },
   "outputs": [],
   "source": [
    "# Compute the sphere volume, cube volume, and ratio for the number of dimensions selected:\n",
    "radius = 1  \n",
    "num_dimensions = 10\n",
    "dimensions = range(1,num_dimensions+1)\n",
    "\n",
    "volume_sphere = [0] * num_dimensions\n",
    "volume_cube = [0] * num_dimensions\n",
    "ratio = [0] * num_dimensions\n",
    "\n",
    "for idx, n in enumerate(dimensions):\n",
    "    volume_cube[idx] = ((radius*2)**n)\n",
    "    volume_sphere[idx] = ((math.pi**(n/2.0))*(radius**n))/gamma(n/2.0+1)\n",
    "    ratio[idx] = volume_sphere[idx] / volume_cube[idx]"
   ]
  },
  {
   "cell_type": "markdown",
   "metadata": {},
   "source": [
    "### 1.2. Create plots using matplotlib"
   ]
  },
  {
   "cell_type": "code",
   "execution_count": null,
   "metadata": {
    "collapsed": true
   },
   "outputs": [],
   "source": [
    "# Plot the resulting data:\n",
    "\n",
    "fig = plt.figure(figsize=(10,10))\n",
    "plt.clf()\n",
    "\n",
    "x_vals = dimensions\n",
    "\n",
    "ax = fig.add_subplot(3,1,1)\n",
    "bars = plt.bar(x_vals, volume_sphere, 0.8)\n",
    "plt.xticks(dimensions)\n",
    "plt.xlabel(\"Volume of unit sphere of dimension n\")\n",
    "\n",
    "ax = fig.add_subplot(3,1,2)\n",
    "bars = plt.bar(x_vals, volume_cube, 0.8)\n",
    "plt.xticks(dimensions)\n",
    "plt.xlabel(\"Volume of cube of s=2, dimension n\")\n",
    "\n",
    "ax = fig.add_subplot(3,1,3)\n",
    "bars = plt.bar(x_vals, ratio, 0.8)\n",
    "plt.xticks(dimensions)\n",
    "plt.xlabel(\"Ratio of sphere to enclosing cube\")\n",
    "\n",
    "plt.show()"
   ]
  },
  {
   "cell_type": "markdown",
   "metadata": {},
   "source": [
    "### 1.3. Discussion"
   ]
  },
  {
   "cell_type": "markdown",
   "metadata": {},
   "source": [
    "From the plots above, you can see that as the dimension increases, the amount of empty space quickly dominates the interior space of a unit sphere. This means that, the more dimensions there are in your data, the more difficult it is for your samples to cover the space of your dataset.\n",
    "\n",
    "This challenge is illustrated in the graphic below:"
   ]
  },
  {
   "cell_type": "markdown",
   "metadata": {},
   "source": [
    "<img src=\"http://datasets.genepattern.org/images/samples-per-dimension.png\" style=\"height: 500px;\"/>\n",
    "<p style=\"text-align: center;font-weight: bold;\"> Number of samples required to cover 60% of sample space</p>"
   ]
  },
  {
   "cell_type": "markdown",
   "metadata": {},
   "source": [
    "## 2. Principal Component Analysis\n",
    "Defines a set of “principal components”\n",
    "- First Principal Component: direction of greatest variability in data\n",
    "- Second Principal Component: perpendicular to 1st; greatest variability of remaining data\n",
    "- so on until all dimensions are accounted for\n",
    "\n",
    "The top principal components represent the data\n",
    "- The number of top PCs is much smaller than the total number of dimensions\n",
    "- The method represents every data point in the dimensions of the principal components"
   ]
  },
  {
   "cell_type": "markdown",
   "metadata": {},
   "source": [
    "<img src=\"http://datasets.genepattern.org/images/pca-demo.png\">"
   ]
  },
  {
   "cell_type": "markdown",
   "metadata": {},
   "source": [
    "## 2. Run PCA in GenePattern"
   ]
  },
  {
   "cell_type": "markdown",
   "metadata": {},
   "source": [
    "### 2.1 Sign in to GenePattern"
   ]
  },
  {
   "cell_type": "markdown",
   "metadata": {},
   "source": [
    "<div class=\"alert alert-info\">\n",
    "<h3 style=\"margin-top: 0;\"> Instructions <i class=\"fa fa-info-circle\"></i></h3>\n",
    "<ul>\n",
    "\t<li>If you haven&#39;t yet logged in, enter your credentials into the cell below and click Login.</li>\n",
    "    <li>In the server dropdown, make sure you select <b>GenePattern Cloud</b>.</li>\n",
    "</ul></div>"
   ]
  },
  {
   "cell_type": "code",
   "execution_count": 13,
   "metadata": {
    "genepattern": {
     "name": "Login",
     "server": "https://cloud.genepattern.org/gp",
     "type": "auth"
    },
    "scrolled": true
   },
   "outputs": [
    {
     "data": {
      "application/vnd.jupyter.widget-view+json": {
       "model_id": "",
       "version_major": 2,
       "version_minor": 0
      },
      "text/plain": [
       "GPAuthWidget()"
      ]
     },
     "metadata": {},
     "output_type": "display_data"
    }
   ],
   "source": [
    "# Requires GenePattern Notebook: pip install genepattern-notebook\n",
    "import gp\n",
    "import genepattern\n",
    "\n",
    "# Username and password removed for security reasons.\n",
    "genepattern.display(genepattern.session.register(\"https://cloud.genepattern.org/gp\", \"\", \"\"))"
   ]
  },
  {
   "cell_type": "markdown",
   "metadata": {},
   "source": [
    "### 2.2. Run PCA in GenePattern to compute the principal components of the dataset"
   ]
  },
  {
   "cell_type": "markdown",
   "metadata": {},
   "source": [
    "<div class=\"alert alert-info\">\n",
    "<h3 style=\"margin-top: 0;\"> Instructions <i class=\"fa fa-info-circle\"></i></h3>\n",
    "<ul>\n",
    "\t<li>Click and drag the following breast cancer dataset link to the <strong>input filename</strong> parameter below: <a href=\"https://datasets.genepattern.org/data/ccmi_tutorial/2017-12-15/BRCA_HUGO_symbols.preprocessed.gct\" target=\"_blank\">BRCA_HUGO_symbols.preprocessed.gct</a></li>\n",
    "\t<li>Notice we are clustering by <strong>columns</strong>, which correspond to samples. This means we will be observing which samples cluster with one another.</li>\n",
    "\t<li>Click <strong>Run</strong></li>\n",
    "</ul>\n",
    "</div>"
   ]
  },
  {
   "cell_type": "code",
   "execution_count": 14,
   "metadata": {
    "genepattern": {
     "param_values": {
      "cluster.by": null,
      "input.filename": null,
      "job.cpuCount": null,
      "job.memory": null,
      "job.walltime": null,
      "output.file": null
     },
     "show_code": true,
     "type": "task"
    },
    "scrolled": false
   },
   "outputs": [
    {
     "data": {
      "application/vnd.jupyter.widget-view+json": {
       "model_id": "",
       "version_major": 2,
       "version_minor": 0
      },
      "text/plain": [
       "GPTaskWidget(lsid='urn:lsid:broad.mit.edu:cancer.software.genepattern.module.analysis:00017')"
      ]
     },
     "metadata": {},
     "output_type": "display_data"
    }
   ],
   "source": [
    "pca_task = gp.GPTask(genepattern.get_session(0), 'urn:lsid:broad.mit.edu:cancer.software.genepattern.module.analysis:00017')\n",
    "pca_job_spec = pca_task.make_job_spec()\n",
    "pca_job_spec.set_parameter(\"input.filename\", \"\")\n",
    "pca_job_spec.set_parameter(\"cluster.by\", \"3\")\n",
    "pca_job_spec.set_parameter(\"output.file\", \"<input.filename_basename>\")\n",
    "genepattern.display(pca_task)"
   ]
  },
  {
   "cell_type": "markdown",
   "metadata": {},
   "source": [
    "When the job completes, you will see a new panel above with the title **Job # XXXXX**, where the XXXXX corresponds to the GenePattern job ID of your PCA analysis. You will also see 4 result files:\n",
    "\n",
    "Filename | Description\n",
    ":------------ | :-------------\n",
    "`BRCA_HUGO_symbols.preprocessed_s.odf` | the **s matrix (eigenvectors)**\n",
    "`BRCA_HUGO_symbols.preprocessed_t.odf` | the **t matrix (transformed original dataset)**\n",
    "`BRCA_HUGO_symbols.preprocessed_u.odf` | the **u matrix (eigenvalues)**\n",
    "`gp_execution_log.txt` | the execution log - a record of the analysis run"
   ]
  },
  {
   "cell_type": "markdown",
   "metadata": {},
   "source": [
    "## 3. Visualize the PCA results\n",
    "To visualize the results of the PCA analysis, we will read the **s matrix** and **u matrix files** into Python array structures, and create graphs based on the arrays. We do not need the **t matrix** for this analysis."
   ]
  },
  {
   "cell_type": "markdown",
   "metadata": {},
   "source": [
    "### 3.1. Load required Python libraries"
   ]
  },
  {
   "cell_type": "markdown",
   "metadata": {},
   "source": [
    "<div class=\"alert alert-info\">\n",
    "<h3 style=\"margin-top: 0;\"> Instructions <i class=\"fa fa-info-circle\"></i></h3>\n",
    "Execute the cell below.\n",
    "</div>"
   ]
  },
  {
   "cell_type": "code",
   "execution_count": 46,
   "metadata": {
    "collapsed": true
   },
   "outputs": [],
   "source": [
    "import numpy as np\n",
    "import matplotlib.pyplot as plt\n",
    "import re\n",
    "import urllib.request\n",
    "import genepattern\n",
    "from matplotlib.ticker import FuncFormatter"
   ]
  },
  {
   "cell_type": "markdown",
   "metadata": {},
   "source": [
    "### 3.2. Read file results into Python variables"
   ]
  },
  {
   "cell_type": "markdown",
   "metadata": {},
   "source": [
    "The GenePattern results are files on the GenePattern server. To read them into Python arrays, we will use the \"`Send to code`\" functionality in GenePattern Notebook."
   ]
  },
  {
   "cell_type": "markdown",
   "metadata": {},
   "source": [
    "<div class=\"alert alert-info\">\n",
    "<h3 style=\"margin-top: 0;\"> Instructions <i class=\"fa fa-info-circle\"></i></h3>\n",
    "<div class=\"alert alert-info\">\n",
    "<ol>\n",
    "<li>In the cell below, click the down arrow on the **gp s matrix file** parameter and select BRCA_HUGO_symbols.preprocessed_s.odf</li>\n",
    "<li>In the cell below, click the down arrow on the **gp u matrix file** parameter and select BRCA_HUGO_symbols.preprocessed_u.odf</li>\n",
    "\t<li>Execute the cell below by clicking <strong>Run</strong>.</li>\n",
    "</ol>\n",
    "</div>\n",
    "</div>"
   ]
  },
  {
   "cell_type": "code",
   "execution_count": 15,
   "metadata": {
    "genepattern": {
     "output_variable": "result_matrices",
     "param_values": {
      "gp_file": "all_aml_train_preprocessed_u_odf_1569581",
      "gp_s_matrix_file": "",
      "gp_u_matrix_file": "",
      "matrix_array": "matrix_array",
      "output_var": "result_matrices"
     },
     "show_code": false,
     "type": "uibuilder"
    },
    "nbtools": {
     "description": "Take as input the S and U matrices resulting from a GenePattern PCA job and convert then to numpy arrays",
     "name": "Convert GenePattern ODF Matrix model result files to numpy arrays",
     "param_values": {
      "gp_s_matrix_file": [],
      "gp_u_matrix_file": [],
      "output_var": "result_matrices"
     },
     "show_code": false,
     "type": "uibuilder"
    },
    "scrolled": true
   },
   "outputs": [
    {
     "data": {
      "application/vnd.jupyter.widget-view+json": {
       "model_id": "",
       "version_major": 2,
       "version_minor": 0
      },
      "text/plain": [
       "UIBuilder(description='Take as input the S and U matrices resulting from a GenePattern PCA job and convert the…"
      ]
     },
     "metadata": {},
     "output_type": "display_data"
    }
   ],
   "source": [
    "@genepattern.build_ui(name=\"Convert GenePattern ODF Matrix model result files to numpy arrays\", \n",
    "                    description=\"Take as input the S and U matrices resulting from a GenePattern PCA job \" +\n",
    "                                \"and convert then to numpy arrays\", \n",
    "                    parameters={\n",
    "                                \"gp_s_matrix_file\":{\"type\": \"file\", \"kinds\": [\"odf\"]},\n",
    "                                \"gp_u_matrix_file\":{\"type\": \"file\", \"kinds\": [\"odf\"]},\n",
    "                                \"output_var\": {\"hide\": False}\n",
    "                                })\n",
    "\n",
    "def pca_results_to_arrays(gp_s_matrix_file, gp_u_matrix_file):\n",
    "    s_matrix_array = gp_matrix_odf_to_nparray(gp_s_matrix_file)\n",
    "    print(\"Converted S matrix array.\")\n",
    "    u_matrix_array = gp_matrix_odf_to_nparray(gp_u_matrix_file)\n",
    "    print(\"Converted U matrix array.\")\n",
    "    print(\"Conversion complete.\")\n",
    "    return s_matrix_array, u_matrix_array\n",
    "    \n",
    "def gp_matrix_odf_to_nparray(gp_file):\n",
    "    \n",
    "    # Get a reference to your session with the GP server\n",
    "    gpserver = genepattern.session.get(0)\n",
    "\n",
    "    # Create the GPFile object (using the right credentials)\n",
    "    fh = gp.GPFile(gpserver, gp_file)\n",
    "    \n",
    "    matrix_bytes = fh.read()\n",
    "\n",
    "    # Remove header lines\n",
    "    matrix_string = re.sub(\".*\\n\", '', matrix_bytes, count=5, flags=0)\n",
    "    matrix_string = re.sub(\"\\t\\n\", '\\n', matrix_string, count=0, flags=0)\n",
    "\n",
    "    # The final split leaves an extra line, which must be removed\n",
    "    matrix_list = matrix_string.split('\\n')\n",
    "    matrix_list.pop(len(matrix_list)-1)\n",
    "\n",
    "    matrix_2dlist = [row.split('\\t') for row in matrix_list]\n",
    "\n",
    "    # Populate the new array with contents of the list:\n",
    "    matrix_array = np.empty(shape=(len(matrix_2dlist),len(matrix_2dlist[0])))\n",
    " \n",
    "    for r in range(len(matrix_2dlist)):\n",
    "        for c in range(len(matrix_2dlist[0])):\n",
    "            matrix_array[r][c] = matrix_2dlist[r][c]\n",
    "            \n",
    "    return(matrix_array)\n",
    "\n"
   ]
  },
  {
   "cell_type": "markdown",
   "metadata": {},
   "source": [
    "### 3.3. Read phenotype assignments to each sample"
   ]
  },
  {
   "cell_type": "markdown",
   "metadata": {},
   "source": [
    "We will next read the file that contains the phenotype assignments (e.g., tumor, normal, etc.) for the samples in our dataset. These are in the [CLS](http://software.broadinstitute.org/cancer/software/genepattern/file-formats-guide#CLS) file format."
   ]
  },
  {
   "cell_type": "markdown",
   "metadata": {},
   "source": [
    "<div class=\"alert alert-info\">\n",
    "<h3 style=\"margin-top: 0;\"> Instructions <i class=\"fa fa-info-circle\"></i></h3>\n",
    "<ul>\n",
    "\t<li>Click and drag the file containing the phenotype descriptions to the <strong>cls file url</strong> parameter below: <a href=\"https://datasets.genepattern.org/data/ccmi_tutorial/2017-12-15/BRCA_HUGO_symbols.preprocessed.cls\" target=\"_blank\">BRCA_HUGO_symbols.preprocessed.cls</a></li>\n",
    "\t<li>Click <strong>Run</strong></li>\n",
    "</ul>\n",
    "</div>"
   ]
  },
  {
   "cell_type": "code",
   "execution_count": 16,
   "metadata": {
    "genepattern": {
     "output_variable": "class_data",
     "param_values": {
      "cls_file_url": "",
      "output_var": "class_data"
     },
     "show_code": false,
     "type": "uibuilder"
    },
    "nbtools": {
     "description": "Take as input the url to a cls file and return the data it contains: number of samples, number of classes, class names, class assignments",
     "name": "Read a phenotype assignment file (cls format) from a url and return its data",
     "param_values": {
      "cls_file_url": "",
      "output_var": "class_data"
     },
     "show_code": false,
     "type": "uibuilder"
    },
    "scrolled": false
   },
   "outputs": [
    {
     "data": {
      "application/vnd.jupyter.widget-view+json": {
       "model_id": "",
       "version_major": 2,
       "version_minor": 0
      },
      "text/plain": [
       "UIBuilder(description='Take as input the url to a cls file and return the data it contains: number of samples,…"
      ]
     },
     "metadata": {},
     "output_type": "display_data"
    }
   ],
   "source": [
    "@genepattern.build_ui(name=\"Read a phenotype assignment file (cls format) from a url and return its data\", \n",
    "                      description=\"Take as input the url to a cls file and return the data it contains: \" +\n",
    "                                    \"number of samples, number of classes, class names, class assignments\", \n",
    "                      parameters={\n",
    "                          \"output_var\": {\"hide\": False}\n",
    "                    })\n",
    "\n",
    "def read_phenotype_assignments(cls_file_url):\n",
    "    cls_file = urllib.request.urlopen(cls_file_url)\n",
    "    l1 = cls_file.readline()\n",
    "    (num_samples, num_classes, one) = [int(i) for i in l1.split()]\n",
    "\n",
    "    l2 = cls_file.readline()\n",
    "    class_names = l2.split()\n",
    "    class_names.pop(0)\n",
    "\n",
    "    l3 = cls_file.readline()\n",
    "    class_assignments = [int(i) for i in l3.split()]\n",
    "    \n",
    "    print(\"Read class assignments\", class_names)\n",
    "    \n",
    "    return (num_samples, num_classes, class_names, class_assignments)\n"
   ]
  },
  {
   "cell_type": "markdown",
   "metadata": {},
   "source": [
    "### 3.4. Set up Python variables for plotting"
   ]
  },
  {
   "cell_type": "markdown",
   "metadata": {},
   "source": [
    "<div class=\"alert alert-info\">\n",
    "<h3 style=\"margin-top: 0;\"> Instructions <i class=\"fa fa-info-circle\"></i></h3>\n",
    "Execute the cell below.\n",
    "</div>"
   ]
  },
  {
   "cell_type": "code",
   "execution_count": 55,
   "metadata": {
    "collapsed": true
   },
   "outputs": [],
   "source": [
    "# Extract the s and u matrices from the results\n",
    "(s_matrix, u_matrix) = result_matrices\n",
    "\n",
    "# The principal components are the transpose of the u matrix:\n",
    "pc = u_matrix.transpose()\n",
    "\n",
    "# Convert eigenvectors from an array to a list\n",
    "# The eigenvector matrix only has entries on the diagonal. Extract these into a list to facilitate processing:\n",
    "evectors = [s_matrix[x][x] for x in range(len(s_matrix))]\n",
    "\n",
    "# Compute percentage contribution of each eigenvector\n",
    "ev_total = sum(evectors)\n",
    "ev_percents = evectors/ev_total\n",
    "\n",
    "# The `class_data` variable contains the class information - parse it out into variables:\n",
    "(num_samples, num_classes, class_names, class_assignments) = class_data\n",
    "\n",
    "# Create color map for up to 6 classes:\n",
    "colormap = [\"#ff0000\",\"#0000ff\", \"#00ff00\", \"#00ffff\", \"#ff00ff\", \"#ffff00\"]\n",
    "colors = [colormap[class_assignments[i]] for i in range(len(class_assignments))]"
   ]
  },
  {
   "cell_type": "markdown",
   "metadata": {},
   "source": [
    "###  3.5. Display scatter plot of first 3 principal components"
   ]
  },
  {
   "cell_type": "markdown",
   "metadata": {},
   "source": [
    "This step will use a different plotting library called [Plotly](https://plot.ly). Plotly provides graphing libraries that are especially useful when you want to provide interactive plots. In this case, you can use the mouse click, drag, and zoom to change the rotation or magnification of the 3D view."
   ]
  },
  {
   "cell_type": "markdown",
   "metadata": {},
   "source": [
    "#### 3.5.1 Perform setup steps"
   ]
  },
  {
   "cell_type": "markdown",
   "metadata": {},
   "source": [
    "<div class=\"alert alert-info\">\n",
    "<h3 style=\"margin-top: 0;\"> Instructions <i class=\"fa fa-info-circle\"></i></h3>\n",
    "Execute the cells below.\n",
    "</div>"
   ]
  },
  {
   "cell_type": "code",
   "execution_count": 56,
   "metadata": {
    "collapsed": true
   },
   "outputs": [],
   "source": [
    "# Import required Python libraries\n",
    "import plotly\n",
    "import plotly.graph_objs as go\n",
    "\n",
    "# Allow embedding of plots in the output cell of the notebook\n",
    "plotly.offline.init_notebook_mode() "
   ]
  },
  {
   "cell_type": "markdown",
   "metadata": {},
   "source": [
    "#### 3.5.2. Create 3D graph of first 3 principal components using Plotly"
   ]
  },
  {
   "cell_type": "markdown",
   "metadata": {},
   "source": [
    "<div class=\"alert alert-info\">\n",
    "<h3 style=\"margin-top: 0;\"> Instructions <i class=\"fa fa-info-circle\"></i></h3>\n",
    "<ol>\n",
    "<li>Execute the cell below.</li>\n",
    "<li>You will see a 3D scatter plot of the first 3 principal components of the dataset.</li>\n",
    "<li>Explore the dataset:<p>\n",
    "<ul>\n",
    "<li>Click and drag to rotate left, right, up, or down</li>\n",
    "<li>Scroll to zoom in and out</li>\n",
    "<li>Hover over a point to see its data value.</li></li>\n",
    "</ul>\n",
    "</ol>\n",
    "</div>"
   ]
  },
  {
   "cell_type": "code",
   "execution_count": null,
   "metadata": {
    "collapsed": true,
    "scrolled": false
   },
   "outputs": [],
   "source": [
    "data=[]\n",
    "traces=[]\n",
    "\n",
    "for j in range(num_classes):\n",
    "    traces.append(go.Scatter3d(\n",
    "    x=[i for indx,i in enumerate(pc[0]) if class_assignments[indx] == j],\n",
    "    y=[i for indx,i in enumerate(pc[1]) if class_assignments[indx] == j],\n",
    "    z=[i for indx,i in enumerate(pc[2]) if class_assignments[indx] == j],\n",
    "    mode='markers',\n",
    "    name=str(class_names[j].decode(\"utf-8\")),\n",
    "    marker=dict(\n",
    "        size='10',\n",
    "        color=colormap[j]\n",
    "        )\n",
    "    ))\n",
    "    data.append(traces[j])\n",
    "    \n",
    "layout=go.Layout(dict(height=1000, width=1000, \n",
    "            title='TCGA Breast Cancer vs Normal PCA',\n",
    "            scene=dict(xaxis=dict(title=\"PC 1\",visible=True),\n",
    "            yaxis=dict(title=\"PC 2\",visible=True),\n",
    "            zaxis=dict(title=\"PC 3\",visible=True))\n",
    "            )\n",
    ")\n",
    "\n",
    "fig=dict(data=traces, layout=layout)\n",
    "plotly.offline.iplot(fig)"
   ]
  },
  {
   "cell_type": "markdown",
   "metadata": {},
   "source": [
    "### 3.6. Display percentage of variance explained for each principal component"
   ]
  },
  {
   "cell_type": "markdown",
   "metadata": {},
   "source": [
    "Variance explained is the proportion of dispersion of the dataset that is covered by each principal component. It provides an idea of how many principal components are required to represent the majority of the dataset."
   ]
  },
  {
   "cell_type": "markdown",
   "metadata": {},
   "source": [
    "<div class=\"alert alert-info\">\n",
    "<h3 style=\"margin-top: 0;\"> Instructions <i class=\"fa fa-info-circle\"></i></h3>\n",
    "Execute the cell below.\n",
    "</div>"
   ]
  },
  {
   "cell_type": "code",
   "execution_count": null,
   "metadata": {
    "collapsed": true,
    "scrolled": false
   },
   "outputs": [],
   "source": [
    "plt.figure(figsize=(15,15))\n",
    "\n",
    "plt.clf()\n",
    "\n",
    "def percents(x, pos):\n",
    "    'The two args are the value and tick position'\n",
    "    return '%1.1f%%' % (x * 100)\n",
    "\n",
    "formatter = FuncFormatter(percents)\n",
    "\n",
    "plt.title(\"Variance Explained Per Principal Component\")\n",
    "x_vals = [i for i in range(num_samples)]\n",
    "bars = plt.bar(x_vals, ev_percents, 0.8)\n",
    "\n",
    "plt.xlabel(\"Principal Component\")\n",
    "plt.ylabel(\"Variance Explained\")\n",
    "plt.show()"
   ]
  },
  {
   "cell_type": "markdown",
   "metadata": {},
   "source": [
    "## 4. Extra credit"
   ]
  },
  {
   "cell_type": "markdown",
   "metadata": {},
   "source": [
    "<div class=\"alert alert-info\">\n",
    "<h3 style=\"margin-top: 0;\"> Instructions <i class=\"fa fa-info-circle\"></i></h3>\n",
    "<ol>\n",
    "<li>For convenience, move the cell below using the '&#8593;' button in the menu bar so that it is right above the GenePattern PCA cell.</li>\n",
    "<li>Re-open the PCA cell by clicking the '+' button in the upper right-hand corner.</li>\n",
    "<li>Re-run the workflow with the new files, starting with the PCA analysis.</li>\n",
    "</ol>\n",
    "</div>"
   ]
  },
  {
   "cell_type": "markdown",
   "metadata": {},
   "source": [
    "## Extra credit analysis\n",
    "- Perform the PCA analysis on the following files, which consist of 38 samples comprising two leukemia subtypes, ALL and AML. The rightmost column indicates where you should drag their urls.\n",
    "\n",
    "Filename | Description | Send to this notebook parameter\n",
    ":------------ | :------------- | :-------------\n",
    "[all_aml_preprocessed.gct](https://datasets.genepattern.org/data/all_aml/all_aml_test.preprocessed.gct) | Gene expression file | PCA analysis cell **input filename** parameter\n",
    "[all_aml_train.cls](https://datasets.genepattern.org/data/all_aml/all_aml_train.cls) | Phenotype assignments file | \"Read a phenotype\" analysis cell **cls file url** parameter"
   ]
  }
 ],
 "metadata": {
  "genepattern": {
   "repository_url": "http://notebook.genepattern.org/services/sharing/notebooks/324/"
  },
  "kernelspec": {
   "display_name": "Python 3.6",
   "language": "python",
   "name": "python3.6"
  },
  "language_info": {
   "codemirror_mode": {
    "name": "ipython",
    "version": 3
   },
   "file_extension": ".py",
   "mimetype": "text/x-python",
   "name": "python",
   "nbconvert_exporter": "python",
   "pygments_lexer": "ipython3",
   "version": "3.6.7"
  }
 },
 "nbformat": 4,
 "nbformat_minor": 2
}
