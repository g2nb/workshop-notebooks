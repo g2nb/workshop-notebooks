{
 "cells": [
  {
   "cell_type": "markdown",
   "metadata": {},
   "source": [
    "<div class=\"alert alert-info\">\n",
    "<p class=\"lead\"> Instructions <i class=\"fa fa-info-circle\"></i></p>\n",
    "Use this cell to login to the GenePattern Cloud server.\n",
    "</div>"
   ]
  },
  {
   "cell_type": "code",
   "execution_count": 23,
   "metadata": {
    "genepattern": {
     "name": "Login",
     "server": "https://cloud.genepattern.org/gp",
     "show_code": false,
     "type": "auth"
    }
   },
   "outputs": [
    {
     "data": {
      "application/vnd.jupyter.widget-view+json": {
       "model_id": "312629ef8584478bb62dd23c607894e5",
       "version_major": 2,
       "version_minor": 0
      },
      "text/plain": [
       "GPAuthWidget()"
      ]
     },
     "metadata": {},
     "output_type": "display_data"
    }
   ],
   "source": [
    "# Requires GenePattern Notebook: pip install genepattern-notebook\n",
    "import gp\n",
    "import genepattern\n",
    "\n",
    "# Username and password removed for security reasons.\n",
    "genepattern.display(genepattern.session.register(\"https://cloud.genepattern.org/gp\", \"\", \"\"))"
   ]
  },
  {
   "cell_type": "markdown",
   "metadata": {},
   "source": [
    "<div class=\"alert alert-info\">\n",
    "<p class=\"lead\"> Instructions <i class=\"fa fa-info-circle\"></i></p>\n",
    "    Click <b>Run</b> to initialize notebook parameters and download the input data.\n",
    "</div>"
   ]
  },
  {
   "cell_type": "code",
   "execution_count": 3,
   "metadata": {
    "nbtools": {
     "description": "Setup the R and Python environments for the rest of this notebook. Downloads the example dataset to the notebook server.",
     "name": "Notebook Set up",
     "origin": "Notebook",
     "param_values": {
      "output_var": ""
     },
     "show_code": false,
     "type": "uibuilder"
    }
   },
   "outputs": [
    {
     "data": {
      "application/vnd.jupyter.widget-view+json": {
       "model_id": "d0455ee3e13e4202ba6d7a21009a9124",
       "version_major": 2,
       "version_minor": 0
      },
      "text/plain": [
       "UIBuilder(description='Setup the R and Python environments for the rest of this notebook. Downloads the exampl…"
      ]
     },
     "metadata": {},
     "output_type": "display_data"
    },
    {
     "data": {
      "application/javascript": [
       "\n",
       "            NBToolManager.instance().register(new NBToolManager.NBTool({\n",
       "                origin: \"Notebook\",\n",
       "                id: \"Notebook Set up\",\n",
       "                name: \"Notebook Set up\",\n",
       "                description: \"Setup the R and Python environments for the rest of this notebook. Downloads the example dataset to the notebook server.\",\n",
       "                version: \"null\",\n",
       "                tags: null,\n",
       "                attributes: null,\n",
       "                load: function() { return true; },\n",
       "                render: function() { let code = \"nbtools.tool(id='Notebook Set up', origin='Notebook')\";\n",
       "                let cell = Jupyter.notebook.get_selected_cell();\n",
       "                const is_empty = cell.get_text().trim() === \"\";\n",
       "\n",
       "                // If this cell is not empty, insert a new cell and use that\n",
       "                // Otherwise just use this cell\n",
       "                if (!is_empty) {\n",
       "                    cell = Jupyter.notebook.insert_cell_below();\n",
       "                    Jupyter.notebook.select_next();\n",
       "                }\n",
       "\n",
       "                cell.set_text(code);\n",
       "                cell.execute();\n",
       "\n",
       "                return cell; },\n",
       "            }));"
      ]
     },
     "metadata": {},
     "output_type": "display_data"
    }
   ],
   "source": [
    "import warnings\n",
    "warnings.simplefilter(action='ignore', category=FutureWarning)\n",
    "\n",
    "import os \n",
    "import urllib.request\n",
    "import subprocess\n",
    "import rpy2\n",
    "%load_ext nbtools.r_support\n",
    "\n",
    "# for setting default plot size see\n",
    "# https://stackoverflow.com/questions/40745163/jupyter-notebook-rpy2-rmagics-how-to-set-the-default-plot-size\n",
    "# but its prettybrittle - fails if you call it twice or change after the function is set\n",
    "\n",
    "\n",
    "\n",
    "\n",
    "@genepattern.build_ui(name=\"Notebook Set up\", description=\"Setup the R and Python environments for the rest of this notebook. Downloads the example dataset to the notebook server.\", \n",
    "                      parameters={\n",
    "                            \"output_var\": {\n",
    "                                \"hide\": True,\n",
    "                            }\n",
    "})\n",
    "def notebook_setup():\n",
    "    %load_ext rpy2.ipython\n",
    "    \n",
    "    print(\"Configuring visualization libraries...\")\n",
    "    import seaborn as sns\n",
    "    sns.set(rc={'figure.figsize':(8,4.5)})\n",
    "    \n",
    "    print(\"Retrieving input data...\")\n",
    "    os.makedirs('data/pbmc3k/', exist_ok=True)\n",
    "    url = 'https://s3-us-west-2.amazonaws.com/10x.files/samples/cell/pbmc3k/pbmc3k_filtered_gene_bc_matrices.tar.gz'\n",
    "    urllib.request.urlretrieve(url, 'data/pbmc3k/pbmc3k_filtered_gene_bc_matrices.tar.gz')\n",
    "\n",
    "    subprocess.run([\"tar\", \"-xvf\", \"data/pbmc3k/pbmc3k_filtered_gene_bc_matrices.tar.gz\",\n",
    "                \"--directory\", \"data/pbmc3k/\" ])\n",
    "    \n",
    "    \n",
    "    print(\"Done.\")\n"
   ]
  },
  {
   "cell_type": "markdown",
   "metadata": {},
   "source": [
    "<div id=\"header\" class=\"fluid-row\" style=\"color: #333333; font-family: 'open sans' , 'arial' , sans-serif; font-size: 14px;\">\n",
    "<h1 id=\"Seurat---Guided-Clustering-Tutorial\" class=\"title toc-ignore\" style=\"margin-top: 20px; margin-bottom: 10px; font-size: 38px; padding: 0px; font-family: 'ubuntu' , 'tahoma' , 'helvetica neue' , 'helvetica' , 'arial' , sans-serif;\" data-toc-modified-id=\"Seurat---Guided-Clustering-Tutorial-2\"><a id=\"Seurat---Guided-Clustering-Tutorial-2\" class=\"toc-mod-link\"></a>Seurat - Guided Clustering Tutorial</h1>\n",
    "<h4 id=\"Compiled:-January-2020\" class=\"date\" style=\"margin: 10px 0px; font-size: 18px; padding: 0px; font-family: 'ubuntu' , 'tahoma' , 'helvetica neue' , 'helvetica' , 'arial' , sans-serif;\" data-toc-modified-id=\"Compiled:-January-2020-2.0.0.1\"><a id=\"Compiled:-January-2020-2.0.0.1\" class=\"toc-mod-link\"></a>Compiled: January 2020</h4>\n",
    "</div>\n",
    "<hr style=\"overflow: visible; margin: 20px 0px; padding: 0px; color: #333333; font-family: 'open sans' , 'arial' , sans-serif; font-size: 14px;\" />\n",
    "<div id=\"setup-the-seurat-object\" class=\"section level3\" style=\"color: #333333; font-family: 'open sans' , 'arial' , sans-serif; font-size: 14px;\">"
   ]
  },
  {
   "cell_type": "markdown",
   "metadata": {},
   "source": [
    "# Set up the Seurat Object\n",
    "\n",
    "For this tutorial, we will be analyzing a dataset of **Peripheral Blood Mononuclear Cells (PBMCs)** freely available from 10X Genomics. There are 2,700 single cells that were sequenced on the Illumina NextSeq 500. The raw data was downloaded as part of the **Notebook Set Up** cell (above) and the original files can be found [here](https://s3-us-west-2.amazonaws.com/10x.files/samples/cell/pbmc3k/pbmc3k_filtered_gene_bc_matrices.tar.gz).\n",
    "\n",
    "The three files for this dataset include\n",
    "- **matrix.mtx**: Triples of gene ID index, cell barcode index, and UMI count.\n",
    "- **barcodes.tsv**: The barcodes referenced by the indices in the **matrix.mtx** file.\n",
    "- **genes.tsv**: All the annotated genes, one per row. Referenced by the indices in the **matrix.mtx** file. Sometimes named **features.tsv**"
   ]
  },
  {
   "cell_type": "markdown",
   "metadata": {},
   "source": [
    "Seurat [**1**] starts with a feature (e.g. gene) expression matrix. The expected format of the input matrix is `features x cells`. Here we use the information embedded in the three files described above for this purpose. `barcodes.tsv` and `genes.tsv` contain the column names (cells) and the row names (genes) respectively. `matrix.mtx` stores the expression data in a *sparse* format to save hard drive space. Because single cell expression matrices have many zeros, `matrix.mtx` only lists the matrix entries with non-zero values.\n",
    "\n",
    "We start by reading the data. The following GenePattern cell wraps the `Read10X` function, which reads in the output of the [cellranger](https://support.10xgenomics.com/single-cell-gene-expression/software/pipelines/latest/what-is-cell-ranger) pipeline from 10X Genomics, returning a gene x cell count matrix. The values in this matrix represent the number of molecules for each feature (i.e. gene; row) that are detected in each cell (column). \n",
    "\n",
    "We next use the count matrix to create a `Seurat` object. The object serves as a container that includes both data (i.e. the count matrix) and analysis (e.g. the principal component analysis -- PCA, or clustering results) for a single-cell dataset. For a technical discussion of the `Seurat` object structure, check out Seurat's [Github Wiki](https://github.com/satijalab/seurat/wiki). The `Seurat` object has *slots* that store different types of data to be accessed by later code. For example, the counts matrix is accessed by executing `pbmc[[\"RNA\"]]@counts`. In this tutorial we will not be writing any code, so knowledge of the `Seurat` object structure is not required."
   ]
  },
  {
   "cell_type": "markdown",
   "metadata": {},
   "source": [
    "<div class=\"alert alert-info\">\n",
    "<p class=\"lead\"> Instructions <i class=\"fa fa-info-circle\"></i></p>\n",
    "    Click <b>Run</b> to load the 10X input files into the notebook. \n",
    "</div>"
   ]
  },
  {
   "cell_type": "code",
   "execution_count": 4,
   "metadata": {
    "nbtools": {
     "description": "",
     "name": "Setup Seurat Objects",
     "origin": "nbtools.r_support",
     "param_values": {
      "output_var": "",
      "tenx_data_dir": "data/pbmc3k/filtered_gene_bc_matrices/hg19/"
     },
     "show_code": false,
     "type": "uibuilder"
    }
   },
   "outputs": [
    {
     "data": {
      "application/vnd.jupyter.widget-view+json": {
       "model_id": "fd95bb60d1464fd88a9cf0b065693fea",
       "version_major": 2,
       "version_minor": 0
      },
      "text/plain": [
       "UIBuilder(function_import='nbtools._r_wrappers[\"7ACA96C0728E8D9F20849567356DD40C\"]', name='Setup Seurat Object…"
      ]
     },
     "metadata": {},
     "output_type": "display_data"
    }
   ],
   "source": [
    "%%r_build_ui { \"name\": \"Setup Seurat Objects\", \"parameters\": {\"tenx_data_dir\": {\"name\": \"10X data dir\", \"default\": \"data/pbmc3k/filtered_gene_bc_matrices/hg19/\"}, \"output_var\": { \"hide\": \"True\" } } }\n",
    "\n",
    "setupR <- function(tenx_data_dir){\n",
    "    write(\"Loading libraries...\", stdout())\n",
    "#     library(dplyr)\n",
    "    suppressMessages(library(Seurat))\n",
    "    suppressMessages(library(scater))\n",
    "    fig_height=450\n",
    "    fig_width=800\n",
    "    # Load the PBMC dataset\n",
    "    write(\"Loading the dataset...\", stdout())\n",
    "    #suppressMessages(pbmc.data <- Read10X(data.dir = \"data/pbmc3k/filtered_gene_bc_matrices/hg19/\"))\n",
    "    suppressMessages(pbmc.data <- Read10X(data.dir = tenx_data_dir))\n",
    "    \n",
    "#     raw_counts <- readSparseCounts(file=\"https://datasets.genepattern.org/data/module_support_files/Conos/HNSCC_noribo.txt\")\n",
    "#     hnscc <- CreateSeuratObject(counts = raw_counts, project = \"HNSCC\")\n",
    "    \n",
    "    # Initialize the Seurat object with the raw (non-normalized data).\n",
    "    suppressMessages(pbmc <- CreateSeuratObject(counts = pbmc.data, project = \"pbmc3k\", min.cells = 3, min.features = 200))\n",
    "    write(\"Done\", stdout())\n",
    "#     return(hnscc)\n",
    "    return(pbmc)\n",
    "}\n",
    "suppressMessages(pbmc <- setupR(tenx_data_dir))"
   ]
  },
  {
   "cell_type": "markdown",
   "metadata": {},
   "source": [
    "# Standard pre-processing workflow\n",
    "\n",
    "The steps below encompass the standard pre-processing workflow of scRNA-seq data in Seurat. These represent the selection and filtration of cells based on QC metrics, data normalization and scaling, and the detection of highly variable features.\n",
    "\n",
    "## QC and selecting cells for further analysis\n",
    "\n",
    "Seurat allows you to easily explore QC metrics and filter cells based on any user-defined criteria. A few QC metrics [commonly used](https://www.ncbi.nlm.nih.gov/pmc/articles/PMC4758103/) by the community include\n",
    "- The number of unique genes detected in each cell\n",
    "    - Low-quality cells or empty droplets will often have very few genes\n",
    "    - Cell doublets or multiplets may exhibit an aberrantly high gene count\n",
    "- Similarly, the total number of molecules detected within a cell (correlates strongly with unique genes)\n",
    "- The percentage of reads that map to the mitochondrial genome\n",
    "    - Low-quality/dying cells often exhibit extensive mitochondrial contamination\n",
    "    - We calculate mitochondrial QC metrics with the `PercentageFeatureSet` function, which calculates the percentage of counts originating from a set of features\n",
    "    - We use the set of all genes starting with `MT-` as a set of mitochondrial genes"
   ]
  },
  {
   "cell_type": "markdown",
   "metadata": {},
   "source": [
    "<div class=\"alert alert-info\">\n",
    "<p class=\"lead\"> Instructions <i class=\"fa fa-info-circle\"></i></p>\n",
    "    Click <b>Run</b> to calculate and annotate mitochondrial gene percentage for each cell.\n",
    "</div>"
   ]
  },
  {
   "cell_type": "code",
   "execution_count": 5,
   "metadata": {
    "nbtools": {
     "description": "",
     "name": "Add Mitochondrial QC Metrics",
     "origin": "nbtools.r_support",
     "param_values": {
      "column_name": "percent.mt",
      "output_var": "",
      "pattern": "MT-"
     },
     "show_code": false,
     "type": "uibuilder"
    }
   },
   "outputs": [
    {
     "data": {
      "application/vnd.jupyter.widget-view+json": {
       "model_id": "8319858fe9834a6eb1af0a1e68ef21f2",
       "version_major": 2,
       "version_minor": 0
      },
      "text/plain": [
       "UIBuilder(function_import='nbtools._r_wrappers[\"335BC149DA9E8370E10E8277B81380B6\"]', name='Add Mitochondrial Q…"
      ]
     },
     "metadata": {},
     "output_type": "display_data"
    }
   ],
   "source": [
    "%%r_build_ui { \"name\": \"Add Mitochondrial QC Metrics\", \"parameters\": { \"column_name\": { \"type\": \"string\", \"default\":\"percent.mt\" },\"pattern\": { \"type\": \"string\", \"default\":\"MT-\" }, \"output_var\": { \"hide\": \"True\" } } }\n",
    "\n",
    "set_mito_qc <- function(colName, pat) {\n",
    "    write(\"Calculating the frequency of mitochondrial genes...\", stdout())\n",
    "    pattern <- paste(\"^\", trimws(pat, which = \"both\"), sep=\"\")\n",
    "    \n",
    "    # The [[ operator can add columns to object metadata. This is a great place to stash QC stats\n",
    "    pbmc[[colName]] <- PercentageFeatureSet(pbmc, pattern = pattern)\n",
    "    write(\"Done!\", stdout())\n",
    "    return(pbmc)\n",
    "}\n",
    "\n",
    "\n",
    "suppressMessages(pbmc <- set_mito_qc(column_name, pattern))"
   ]
  },
  {
   "cell_type": "markdown",
   "metadata": {},
   "source": [
    "In the example below, we visualize QC metrics and use these to filter cells.\n",
    "- We filter cells that have unique feature counts over 2,500 or less than 200\n",
    "- We filter cells that have >5% mitochondrial counts"
   ]
  },
  {
   "cell_type": "markdown",
   "metadata": {},
   "source": [
    "<div class=\"alert alert-info\">\n",
    "<p class=\"lead\"> Instructions <i class=\"fa fa-info-circle\"></i></p>\n",
    "    Click <b>Run</b> to visualize various quality control metrics.\n",
    "</div>"
   ]
  },
  {
   "cell_type": "code",
   "execution_count": 6,
   "metadata": {
    "nbtools": {
     "description": "",
     "name": "Triple Violin Plot",
     "origin": "nbtools.r_support",
     "param_values": {
      "first_feature": "nFeature_RNA",
      "output_var": "",
      "param_from_ui_builder": "",
      "second_feature": "nCount_RNA",
      "third_feature": "percent.mt"
     },
     "show_code": false,
     "type": "uibuilder"
    }
   },
   "outputs": [
    {
     "data": {
      "application/vnd.jupyter.widget-view+json": {
       "model_id": "81e742fc16c54202be7b4c5f4f66c6f3",
       "version_major": 2,
       "version_minor": 0
      },
      "text/plain": [
       "UIBuilder(function_import='nbtools._r_wrappers[\"A34D52FB75F8FFBD9CEAC96D82E57CE2\"]', name='Triple Violin Plot'…"
      ]
     },
     "metadata": {},
     "output_type": "display_data"
    }
   ],
   "source": [
    "%%r_build_ui -w 800 { \"width\": 10, \"height\": 300, \"name\": \"Triple Violin Plot\", \"parameters\": { \"first_feature\": { \"type\": \"string\", \"default\":\"nFeature_RNA\" }, \"second_feature\":{ \"type\": \"string\", \"default\":\"nCount_RNA\"}, \"third_feature\": { \"type\": \"string\", \"default\":\"percent.mt\" }, \"output_var\":{\"hide\":\"True\"} } }\n",
    "# Visualize QC metrics as a violin plot\n",
    "#VlnPlot(pbmc, features = c(first_feature, second_feature, third_feature), ncol = 3)\n",
    "tripleViolin <- function(first, second, third){\n",
    "     \n",
    "    feats <- c(first, second, third)\n",
    "    plot(VlnPlot(pbmc, features = feats, ncol = 3, combine=TRUE), fig.height=5, fig.width=15)\n",
    "    return(\"\")\n",
    "}\n",
    "\n",
    "tripleViolin(first_feature, second_feature, third_feature)"
   ]
  },
  {
   "cell_type": "markdown",
   "metadata": {},
   "source": [
    "### Filtering data\n",
    "\n",
    "Here we select which cells and genes we will filter out of our dataset based on the plots above."
   ]
  },
  {
   "cell_type": "markdown",
   "metadata": {},
   "source": [
    "<div class=\"alert alert-info\">\n",
    "<p class=\"lead\"> Instructions <i class=\"fa fa-info-circle\"></i></p>\n",
    "    Click <b>Run</b> to filter the data based on quality control metric thresholds.\n",
    "</div>"
   ]
  },
  {
   "cell_type": "code",
   "execution_count": 7,
   "metadata": {
    "nbtools": {
     "description": "",
     "name": "Subset Data",
     "origin": "nbtools.r_support",
     "param_values": {
      "max_n": "25000",
      "max_n_features": "2500",
      "max_percent_mitochondrial": "5",
      "min_n": "20",
      "min_n_features": "200",
      "output_var": ""
     },
     "show_code": false,
     "type": "uibuilder"
    }
   },
   "outputs": [
    {
     "data": {
      "application/vnd.jupyter.widget-view+json": {
       "model_id": "e8c11ec6c6204cffb799871a36bb2ec7",
       "version_major": 2,
       "version_minor": 0
      },
      "text/plain": [
       "UIBuilder(function_import='nbtools._r_wrappers[\"79840578BF9EC0F7F351A9D20E586F92\"]', name='Subset Data', origi…"
      ]
     },
     "metadata": {},
     "output_type": "display_data"
    }
   ],
   "source": [
    "%%r_build_ui { \"name\": \"Subset Data\", \"parameters\": { \"min_n_features\": { \"type\": \"number\", \"default\":\"200\" },\"max_n_features\": { \"type\": \"number\", \"default\":\"2500\" },\"max_percent_mitochondrial\": { \"type\": \"number\", \"default\":\"5\" }, \"output_var\": { \"hide\": \"True\" } } }\n",
    "\n",
    "my_subset <- function(min_n_features, max_n_features, max_percent_mitochondrial){\n",
    "#     print(pbmc)\n",
    "    pbmc <- subset(pbmc, subset = nFeature_RNA > min_n_features & nFeature_RNA < max_n_features & percent.mt < max_percent_mitochondrial)\n",
    "#     print(pbmc)\n",
    "    write('filtering done!', stdout())\n",
    "    return(pbmc)\n",
    "}\n",
    "\n",
    "pbmc <- my_subset(min_n_features, max_n_features, max_percent_mitochonrial)"
   ]
  },
  {
   "cell_type": "markdown",
   "metadata": {},
   "source": [
    "# Normalizing the data\n",
    "\n",
    "After removing unwanted cells from the dataset, the next step is to normalize the data. By default, we employ a global-scaling normalization method \"LogNormalize\" that normalizes the feature expression measurements for each cell by the total expression, multiplies this by a scale factor (10,000 by default), and log-transforms the result. Normalized values are stored in `pbmc[[\"RNA\"]]@data`. The methods we will use in this notebook all assume log-normalized data, other methods may not make that assumption and other normalization methods can be considered."
   ]
  },
  {
   "cell_type": "markdown",
   "metadata": {},
   "source": [
    "<div class=\"alert alert-info\">\n",
    "<p class=\"lead\"> Instructions <i class=\"fa fa-info-circle\"></i></p>\n",
    "    Click <b>Run</b> to log normalize and scale the input data.\n",
    "</div>"
   ]
  },
  {
   "cell_type": "code",
   "execution_count": 8,
   "metadata": {
    "nbtools": {
     "description": "",
     "name": "Normalize",
     "origin": "nbtools.r_support",
     "param_values": {
      "method": "LogNormalize",
      "output_var": "",
      "scale_factor": "10000"
     },
     "show_code": false,
     "type": "uibuilder"
    }
   },
   "outputs": [
    {
     "data": {
      "application/vnd.jupyter.widget-view+json": {
       "model_id": "5d1e937fce0d4d8887341a1904e8f9a4",
       "version_major": 2,
       "version_minor": 0
      },
      "text/plain": [
       "UIBuilder(function_import='nbtools._r_wrappers[\"07451326C6384AF37DC263EC1B74A12C\"]', name='Normalize', origin=…"
      ]
     },
     "metadata": {},
     "output_type": "display_data"
    }
   ],
   "source": [
    "%%r_build_ui { \"name\": \"Normalize\", \"parameters\": { \"method\": { \"type\": \"string\", \"default\":\"LogNormalize\" },\"scale_factor\": { \"type\": \"number\", \"default\":\"10000\" }, \"output_var\": { \"hide\": \"True\" } } }\n",
    "\n",
    "norm_pbmc <- function(meth, scale){\n",
    "    write(\"Normalizing data...\", stdout())\n",
    "    invisible(pbmc <- NormalizeData(pbmc, normalization.method = meth, scale.factor = scale, verbose = F))\n",
    "    write('Normalization done!', stdout())\n",
    "    return(pbmc)\n",
    "}\n",
    "\n",
    "pbmc <- norm_pbmc(method, scale_factor)"
   ]
  },
  {
   "cell_type": "markdown",
   "metadata": {},
   "source": [
    "# Identification of highly variable features (feature selection)\n",
    "\n",
    "We next calculate a subset of features that exhibit high cell-to-cell variation in the dataset (i.e, they are highly expressed in some cells, and lowly expressed in others). [The literature](https://www.nature.com/articles/nmeth.2645) suggests that focusing on these genes in downstream analysis helps to highlight biological signal in single-cell datasets. \n",
    "\n",
    "Seurat's variable feature selection is described in detail [here](https://www.biorxiv.org/content/early/2018/11/02/460147.full.pdf), and improves on previous by directly modeling the mean-variance relationship inherent in single-cell data, and is implemented in the `FindVariableFeatures` function. By default, it returns 2,000 features per dataset. These will be used in downstream analysis, like PCA."
   ]
  },
  {
   "cell_type": "markdown",
   "metadata": {},
   "source": [
    "<div class=\"alert alert-info\">\n",
    "<p class=\"lead\"> Instructions <i class=\"fa fa-info-circle\"></i></p>\n",
    "    Click <b>Run</b> to select and visualize the most variable features in the data.\n",
    "</div>"
   ]
  },
  {
   "cell_type": "code",
   "execution_count": 9,
   "metadata": {
    "nbtools": {
     "description": "",
     "name": "Feature Selection",
     "origin": "nbtools.r_support",
     "param_values": {
      "method": "vst",
      "num_features": "2000",
      "num_to_label": "10",
      "output_var": ""
     },
     "show_code": false,
     "type": "uibuilder"
    },
    "scrolled": false
   },
   "outputs": [
    {
     "data": {
      "application/vnd.jupyter.widget-view+json": {
       "model_id": "97cca11f10894f36a47afaff91befb8c",
       "version_major": 2,
       "version_minor": 0
      },
      "text/plain": [
       "UIBuilder(function_import='nbtools._r_wrappers[\"8C34B15B1E4C0022B38A13827CCE9FD7\"]', name='Feature Selection',…"
      ]
     },
     "metadata": {},
     "output_type": "display_data"
    }
   ],
   "source": [
    "%%r_build_ui -w 800 { \"name\": \"Feature Selection\", \"parameters\": { \"method\": { \"type\": \"string\", \"default\":\"vst\",\"hide\":\"True\" },\"num_features\": { \"type\": \"number\", \"default\":\"2000\" }, \"num_to_label\":{\"type\": \"number\", \"default\": \"10\", \"description\": \"label the top N features in the plot.\"}, \"output_var\": { \"hide\": \"True\" } } }\n",
    "#%%R -w 800 -h 450\n",
    "\n",
    "feat_sel_plot <- function(meth, nFeat, nLabel){\n",
    "    write(\"Identifying variable features...\", stdout())\n",
    "    invisible(capture.output(pbmc <- FindVariableFeatures(pbmc, selection.method = meth, nfeatures = nFeat, \n",
    "                                                         verbose=F)))\n",
    "    write(\"Done!\", stdout())\n",
    "\n",
    "    # Identify the 10 most highly variable genes\n",
    "    top10 <- head(VariableFeatures(pbmc), nLabel)\n",
    "\n",
    "    # plot variable features with and without labels\n",
    "    invisible(capture.output(plot1 <- VariableFeaturePlot(pbmc)))\n",
    "    invisible(capture.output(plot2 <- LabelPoints(plot = plot1, points = top10, repel = TRUE)))\n",
    "    print(plot2)\n",
    "    #plot(CombinePlots(plots = list(plot1, plot2)))\n",
    "    return(pbmc)\n",
    "}\n",
    "\n",
    "pbmc <- feat_sel_plot(method, num_features, num_to_label)"
   ]
  },
  {
   "cell_type": "markdown",
   "metadata": {},
   "source": [
    "# Scaling the data\n",
    "\n",
    "Next, we apply a linear transformation ('scaling') that is a standard pre-processing step prior to dimensional reduction techniques like PCA. The `ScaleData` function:\n",
    "- Shifts the expression of each gene so that the mean expression across cells is 0\n",
    "- Scales the expression of each gene so that the variance across cells is 1\n",
    "    - This step gives equal weight in downstream analyses (which may apply weights based on variance), so that highly-expressed genes do not dominate\n",
    "- The results of this are stored in `pbmc[[\"RNA\"]]@scale.data`"
   ]
  },
  {
   "cell_type": "markdown",
   "metadata": {},
   "source": [
    "<div class=\"alert alert-info\">\n",
    "<p class=\"lead\"> Instructions <i class=\"fa fa-info-circle\"></i></p>\n",
    "    Click <b>Run</b> to scale the input data\n",
    "</div>"
   ]
  },
  {
   "cell_type": "code",
   "execution_count": 10,
   "metadata": {
    "nbtools": {
     "description": "",
     "name": "Scale Data",
     "origin": "nbtools.r_support",
     "param_values": {
      "output_var": ""
     },
     "show_code": false,
     "type": "uibuilder"
    },
    "scrolled": false
   },
   "outputs": [
    {
     "data": {
      "application/vnd.jupyter.widget-view+json": {
       "model_id": "974e1c10852b4751bcf6c9aed4fb0153",
       "version_major": 2,
       "version_minor": 0
      },
      "text/plain": [
       "UIBuilder(function_import='nbtools._r_wrappers[\"AD02F8D067B3F9344DC615C90D7AD772\"]', name='Scale Data', origin…"
      ]
     },
     "metadata": {},
     "output_type": "display_data"
    }
   ],
   "source": [
    "%%r_build_ui {\"name\": \"Scale Data\", \"parameters\": {\"output_var\":{\"hide\": \"True\"}}}\n",
    "myscale <- function(pbmc){\n",
    "    write(\"Scaling data...\", stdout())\n",
    "    all.genes <- rownames(pbmc)\n",
    "    invisible(capture.output(pbmc <- ScaleData(pbmc, features = all.genes, verbose = F)))\n",
    "    write('done!', stdout())\n",
    "    return(pbmc)\n",
    "}\n",
    "pbmc <- myscale(pbmc)"
   ]
  },
  {
   "cell_type": "markdown",
   "metadata": {},
   "source": [
    "# Perform Principal Component Analysis (PCA)\n",
    "\n",
    "Next we perform PCA on the scaled data. PCA is a method for reducing the dimensionality of large data in order to find useful latent patterns within that data. PCA defines a set of *principle components* which are vectors that point in the direction of, or \"explains\" high variance within the data. The first principal component is the axis in the data with the highest variance, the second principal component explains the second most variance, and so on. Seurat uses the results of PCA to perform further analysis in a more efficient manner rather than operating on the large expression matrix directly.\n",
    "\n",
    "By default, only the previously determined variable features are used as input, but can be defined using the `features` argument if the user wishes to choose a different subset."
   ]
  },
  {
   "cell_type": "markdown",
   "metadata": {},
   "source": [
    "<div class=\"alert alert-info\">\n",
    "<p class=\"lead\"> Instructions <i class=\"fa fa-info-circle\"></i></p>\n",
    "    Click <b>Run</b> to peform Principal Component Analysis (PCA) on the input data\n",
    "</div>"
   ]
  },
  {
   "cell_type": "code",
   "execution_count": 11,
   "metadata": {
    "nbtools": {
     "description": "",
     "name": "Perform PCA",
     "origin": "nbtools.r_support",
     "param_values": {
      "num_pcs": "20",
      "output_var": ""
     },
     "show_code": false,
     "type": "uibuilder"
    },
    "scrolled": false
   },
   "outputs": [
    {
     "data": {
      "application/vnd.jupyter.widget-view+json": {
       "model_id": "5c2bc1af7f8046cb9abe70e160c426d4",
       "version_major": 2,
       "version_minor": 0
      },
      "text/plain": [
       "UIBuilder(function_import='nbtools._r_wrappers[\"E8BD36ED4E46870F17EB7F8B17DC1C3E\"]', name='Perform PCA', origi…"
      ]
     },
     "metadata": {},
     "output_type": "display_data"
    }
   ],
   "source": [
    "%%r_build_ui {\"name\":\"Perform PCA\", \"parameters\": {\"num_pcs\": {\"type\": \"string\", \"default\": \"20\"}, \"output_var\": {\"hide\":\"True\"}}}\n",
    "mypca <-function(pbmc, npcs){ \n",
    "    feats <- VariableFeatures(object = pbmc, verbose = F)\n",
    "    pbmc <-RunPCA(pbmc, npcs = npcs, features = feats, nfeatures.print=5, verbose = F)\n",
    "   \n",
    "    return(pbmc)\n",
    "}\n",
    "write(\"Performing PCA...\", stdout())\n",
    "pbmc <- mypca(pbmc, num_pcs)"
   ]
  },
  {
   "cell_type": "markdown",
   "metadata": {},
   "source": [
    "<p><span style=\"color: #373d3f; font-family: 'Open Sans', arial, sans-serif; font-size: 16px; text-align: justify;\">Seurat provides several useful ways of visualizing both cells and features that define the PCA, including&nbsp;</span><code style=\"font-size: 14.4px; color: #373d3f; word-break: break-word; border: 1px solid #9ba4a7; border-radius: 4px; background-color: rgba(0, 0, 0, 0.04); white-space: pre; text-align: justify;\">VizDimReduction</code><span style=\"color: #373d3f; font-family: 'Open Sans', arial, sans-serif; font-size: 16px; text-align: justify;\">,&nbsp;</span><code style=\"font-size: 14.4px; color: #373d3f; word-break: break-word; border: 1px solid #9ba4a7; border-radius: 4px; background-color: rgba(0, 0, 0, 0.04); white-space: pre; text-align: justify;\">DimPlot</code><span style=\"color: #373d3f; font-family: 'Open Sans', arial, sans-serif; font-size: 16px; text-align: justify;\">, and&nbsp;</span><code style=\"font-size: 14.4px; color: #373d3f; word-break: break-word; border: 1px solid #9ba4a7; border-radius: 4px; background-color: rgba(0, 0, 0, 0.04); white-space: pre; text-align: justify;\">DimHeatmap</code></p>"
   ]
  },
  {
   "cell_type": "markdown",
   "metadata": {},
   "source": [
    "Seurat provides several useful ways of visualizing both cells and features that define the PCA, including `VizDimReduction`, `DimPlot`, and `DimHeatmap`."
   ]
  },
  {
   "cell_type": "markdown",
   "metadata": {},
   "source": [
    "<div class=\"alert alert-info\">\n",
    "<p class=\"lead\"> Instructions <i class=\"fa fa-info-circle\"></i></p>\n",
    "    Click <b>Run</b> to visualize the first two principal components.\n",
    "</div>"
   ]
  },
  {
   "cell_type": "code",
   "execution_count": 12,
   "metadata": {
    "nbtools": {
     "description": "",
     "name": "Vizualize Dimension Plot",
     "origin": "nbtools.r_support",
     "param_values": {
      "output_var": ""
     },
     "show_code": false,
     "type": "uibuilder"
    }
   },
   "outputs": [
    {
     "data": {
      "application/vnd.jupyter.widget-view+json": {
       "model_id": "ea83b5b99b4f49daa1c97c0b6c0e470c",
       "version_major": 2,
       "version_minor": 0
      },
      "text/plain": [
       "UIBuilder(function_import='nbtools._r_wrappers[\"E32BD5E45F688F904A7354F8A0318EBA\"]', name='Vizualize Dimension…"
      ]
     },
     "metadata": {},
     "output_type": "display_data"
    }
   ],
   "source": [
    "%%r_build_ui -w 800 {\"name\":\"Vizualize Dimension Plot\", \"parameters\": { \"output_var\": {\"hide\": \"True\"} }}\n",
    "\n",
    "vdp <- function(p1){\n",
    "    \n",
    "    plot(DimPlot(pbmc, reduction = \"pca\"))\n",
    "    return(\"\")\n",
    "}\n",
    "vdp()"
   ]
  },
  {
   "cell_type": "markdown",
   "metadata": {},
   "source": [
    "<div class=\"alert alert-info\">\n",
    "<p class=\"lead\"> Instructions <i class=\"fa fa-info-circle\"></i></p>\n",
    "    Click <b>Run</b> to visualize the first two dimension loadings.\n",
    "</div>"
   ]
  },
  {
   "cell_type": "code",
   "execution_count": 13,
   "metadata": {
    "nbtools": {
     "description": "",
     "name": "Vizualize Dimension Loadings",
     "origin": "nbtools.r_support",
     "param_values": {
      "dims": "1:2",
      "num_dims": "2",
      "output_var": ""
     },
     "show_code": false,
     "type": "uibuilder"
    }
   },
   "outputs": [
    {
     "data": {
      "application/vnd.jupyter.widget-view+json": {
       "model_id": "f2e55e5b325d448dab1c4760d9e32268",
       "version_major": 2,
       "version_minor": 0
      },
      "text/plain": [
       "UIBuilder(function_import='nbtools._r_wrappers[\"68E956B063744E3054B2A9DAF4F55770\"]', name='Vizualize Dimension…"
      ]
     },
     "metadata": {},
     "output_type": "display_data"
    }
   ],
   "source": [
    "%%r_build_ui -w 800 {\"name\":\"Vizualize Dimension Loadings\", \"parameters\": {\"num_dims\": {\"type\":\"string\", \"default\":\"2\"}, \"output_var\": {\"hide\": \"True\"} }}\n",
    "\n",
    "vdl <- function(nDims){\n",
    "    dim_range = c(1,strtoi(nDims))\n",
    "    print(VizDimLoadings(pbmc, dims = dim_range, reduction = \"pca\"))\n",
    "    return(\"\")\n",
    "}\n",
    "vdl(num_dims)"
   ]
  },
  {
   "cell_type": "markdown",
   "metadata": {},
   "source": [
    "# Determine the 'dimensionality' of the dataset\n",
    "\n",
    "To overcome the extensive technical noise in any single feature for scRNA-seq data, Seurat clusters cells based on their PCA scores, with each PC essentially representing a 'metafeature' that combines information across a correlated feature set. The top principal components therefore represent a robust compression of the dataset. However, how many components should we choose to include? 10? 20? 100?"
   ]
  },
  {
   "cell_type": "markdown",
   "metadata": {},
   "source": [
    "To do this we will use a heuristic method which generates an 'Elbow plot': a ranking of principal components based on the percentage of variance explained by each one (`ElbowPlot` function). In this example, we can observe an 'elbow' around PC9-10, suggesting that the majority of true signal is captured in the first 10 PCs."
   ]
  },
  {
   "cell_type": "markdown",
   "metadata": {},
   "source": [
    "<div class=\"alert alert-info\">\n",
    "<p class=\"lead\"> Instructions <i class=\"fa fa-info-circle\"></i></p>\n",
    "    Click <b>Run</b> to visualize an \"Elbow Plot\" of the principal components.\n",
    "</div>"
   ]
  },
  {
   "cell_type": "code",
   "execution_count": 14,
   "metadata": {
    "nbtools": {
     "description": "",
     "name": "Elbow Plot",
     "origin": "nbtools.r_support",
     "param_values": {
      "output_var": ""
     },
     "show_code": false,
     "type": "uibuilder"
    }
   },
   "outputs": [
    {
     "data": {
      "application/vnd.jupyter.widget-view+json": {
       "model_id": "6256b09a97f6475dbde9b077455f336d",
       "version_major": 2,
       "version_minor": 0
      },
      "text/plain": [
       "UIBuilder(function_import='nbtools._r_wrappers[\"C36CD7530E7A4CF4C4296CBFE1D4A669\"]', name='Elbow Plot', origin…"
      ]
     },
     "metadata": {},
     "output_type": "display_data"
    }
   ],
   "source": [
    "%%r_build_ui -w 800 {\"name\":\"Elbow Plot\", \"parameters\": {  \"output_var\": {\"hide\": \"True\"} }}\n",
    "ebp <- function(){\n",
    "    plot(ElbowPlot(pbmc))\n",
    "    return(pbmc)\n",
    "}\n",
    "ebp()"
   ]
  },
  {
   "cell_type": "markdown",
   "metadata": {},
   "source": [
    "In particular `DimHeatMap` allows for easy exploration of the primary sources of heterogeneity in a dataset, and can be useful when trying to decide how many PCs to include for further downstream analyses. Both cells and features are ordered according to their PCA scores. Setting `cells` to a number plots the 'extreme' cells on both ends of the spectrum, which dramatically speeds plotting for large datasets. Though clearly a supervised analysis, we find this to be a valuable tool for exploring correlated feature sets."
   ]
  },
  {
   "cell_type": "markdown",
   "metadata": {},
   "source": [
    "<div class=\"alert alert-info\">\n",
    "<p class=\"lead\"> Instructions <i class=\"fa fa-info-circle\"></i></p>\n",
    "    Click <b>Run</b> to visualize a heatmap of the first <i>n</i> principal components\n",
    "</div>"
   ]
  },
  {
   "cell_type": "code",
   "execution_count": 15,
   "metadata": {
    "nbtools": {
     "description": "",
     "name": "DimHeatMap",
     "origin": "nbtools.r_support",
     "param_values": {
      "cells": "500",
      "dims": "15",
      "num_dims": "15",
      "output_var": ""
     },
     "show_code": false,
     "type": "uibuilder"
    },
    "scrolled": true
   },
   "outputs": [
    {
     "data": {
      "application/vnd.jupyter.widget-view+json": {
       "model_id": "cc18441ec8e24647884a33360bc81d14",
       "version_major": 2,
       "version_minor": 0
      },
      "text/plain": [
       "UIBuilder(function_import='nbtools._r_wrappers[\"4F4FF24A11880F509C0731BF113E4461\"]', name='DimHeatMap', origin…"
      ]
     },
     "metadata": {},
     "output_type": "display_data"
    }
   ],
   "source": [
    "%%r_build_ui -w 800 -h 1200 {\"name\":\"DimHeatMap\", \"parameters\": { \"num_dims\":{\"type\":\"string\", \"default\": \"15\"}, \"cells\":{\"type\": \"number\",\"default\":\"500\"}, \"output_var\": {\"hide\": \"True\"} }}\n",
    "\n",
    "vdhm <- function(nd,c){    \n",
    "    if (nd == 1){\n",
    "        dim_range = 1\n",
    "    } else {\n",
    "        dim_range = c(1:strtoi(nd))\n",
    "    }\n",
    "    \n",
    "    print(DimHeatmap(pbmc, dims = dim_range, cells = c, balanced = TRUE))\n",
    "    return(pbmc)\n",
    "}\n",
    "\n",
    "vdhm(num_dims, cells)"
   ]
  },
  {
   "cell_type": "markdown",
   "metadata": {},
   "source": [
    "# Export preprocessed RDS"
   ]
  },
  {
   "cell_type": "markdown",
   "metadata": {},
   "source": [
    "<div class=\"alert alert-info\">\n",
    "<p class=\"lead\"> Instructions <i class=\"fa fa-info-circle\"></i></p>\n",
    "    Click <b>Run</b> to save the processed data \n",
    "</div>"
   ]
  },
  {
   "cell_type": "code",
   "execution_count": 16,
   "metadata": {
    "nbtools": {
     "description": "",
     "name": "Save preprocessed dataset",
     "origin": "nbtools.r_support",
     "param_values": {
      "file_name": "pbmc_preprocessed.rds",
      "output_var": ""
     },
     "show_code": false,
     "type": "uibuilder"
    }
   },
   "outputs": [
    {
     "data": {
      "application/vnd.jupyter.widget-view+json": {
       "model_id": "be23ce0cf1f74d32bfd9dbeaa502c988",
       "version_major": 2,
       "version_minor": 0
      },
      "text/plain": [
       "UIBuilder(function_import='nbtools._r_wrappers[\"0FD26CD685EA9B8BA75841C3A8D5C80C\"]', name='Save preprocessed d…"
      ]
     },
     "metadata": {},
     "output_type": "display_data"
    }
   ],
   "source": [
    "%%r_build_ui {\"name\":\"Save preprocessed dataset\", \"parameters\": {  \"file_name\": {\"default\":\"pbmc_preprocessed.rds\"}, \"output_var\": {\"hide\": \"True\"} }}\n",
    "save_it <- function(fileName){\n",
    "    saveRDS(pbmc, file = fileName)\n",
    "    print(\"Saved file!\")\n",
    "    return(pbmc)\n",
    "}\n",
    "save_it(file_name)"
   ]
  },
  {
   "cell_type": "markdown",
   "metadata": {},
   "source": [
    "# Cluster Cells\n",
    "\n",
    "Following preprocessing, we will now *cluster*, or identify similar populations of cells within our dataset. This can be used to, for example, identify cells corresponding to specific cell types or separate healthy and diseased cells. Seurat uses a \"graph-based\" clustering approach, which relies on drawing connections between similar cells and separating them into similar groups, or \"cliques\".\n",
    "\n",
    "The GenePattern Module below will use the GenePattern Cloud infrastructure to run Seurat clustering. You can upload the preprocessed `.rds` file we saved above and specify the **maximum dimension**, the number of principal components to use for clustering, and the **resolution** parameter, which affects the number of clusters detected. Higher resolution values will generally yield more clusters. When clustering new data, it is wise to experiment with a range of resolution values.\n",
    "\n",
    "You can also specify the **reduction** method. This refers to the algorithm that will be used to further reduce the PCA data to two dimensions for the purpose of visualization. The single cell community is still considering the merits and drawbacks of various dimensionality reduction methods for visualization, such as UMAP[**2**] and tSNE[**3**], but consensus is currently forming around UMAP, and we recommend its use in this notebook.\n",
    "\n",
    "**NOTE FOR WORKSHOP USERS**: In the interest of time, we have provided a link to the result of this module, so you do not need to run this module during the workshop. We have left this module here so you can use this notebook to explore your own data."
   ]
  },
  {
   "cell_type": "markdown",
   "metadata": {},
   "source": [
    "<div class=\"alert alert-info\">\n",
    "<p class=\"lead\"> Instructions <i class=\"fa fa-info-circle\"></i></p>\n",
    "    Click <b>Run</b> to upload your preprocessed RDS file to the GenePattern Cloud server.\n",
    "</div>"
   ]
  },
  {
   "cell_type": "code",
   "execution_count": 17,
   "metadata": {
    "nbtools": {
     "description": "",
     "name": "Upload file to GenePattern Server",
     "origin": "Notebook",
     "param_values": {
      "file": "pbmc_preprocessed.rds",
      "output_var": "quantification_source"
     },
     "show_code": false,
     "type": "uibuilder"
    }
   },
   "outputs": [
    {
     "data": {
      "application/vnd.jupyter.widget-view+json": {
       "model_id": "c1af45f226d5423cb5cc31192177373c",
       "version_major": 2,
       "version_minor": 0
      },
      "text/plain": [
       "UIBuilder(function_import='nbtools.tool(id=\"Upload file to GenePattern Server\", origin=\"Notebook\").function_or…"
      ]
     },
     "metadata": {},
     "output_type": "display_data"
    },
    {
     "data": {
      "application/javascript": [
       "\n",
       "            NBToolManager.instance().register(new NBToolManager.NBTool({\n",
       "                origin: \"Notebook\",\n",
       "                id: \"Upload file to GenePattern Server\",\n",
       "                name: \"Upload file to GenePattern Server\",\n",
       "                description: \"\",\n",
       "                version: \"null\",\n",
       "                tags: null,\n",
       "                attributes: null,\n",
       "                load: function() { return true; },\n",
       "                render: function() { let code = \"nbtools.tool(id='Upload file to GenePattern Server', origin='Notebook')\";\n",
       "                let cell = Jupyter.notebook.get_selected_cell();\n",
       "                const is_empty = cell.get_text().trim() === \"\";\n",
       "\n",
       "                // If this cell is not empty, insert a new cell and use that\n",
       "                // Otherwise just use this cell\n",
       "                if (!is_empty) {\n",
       "                    cell = Jupyter.notebook.insert_cell_below();\n",
       "                    Jupyter.notebook.select_next();\n",
       "                }\n",
       "\n",
       "                cell.set_text(code);\n",
       "                cell.execute();\n",
       "\n",
       "                return cell; },\n",
       "            }));"
      ]
     },
     "metadata": {},
     "output_type": "display_data"
    }
   ],
   "source": [
    "@nbtools.build_ui(name=\"Upload file to GenePattern Server\", parameters={\n",
    "    \"file\": {\n",
    "        \"name\": \"File to upload:\",\n",
    "        \"default\":\"pbmc_preprocessed.rds\"\n",
    "    },\n",
    "    \"output_var\": {\n",
    "    \"name\": \"results\",\n",
    "    \"description\": \"\",\n",
    "    \"default\": \"quantification_source\",\n",
    "    \"hide\": True\n",
    "    }\n",
    "})\n",
    "def load_file(file):\n",
    "    import genepattern\n",
    "    uio = nbtools.UIOutput()\n",
    "    display(uio)\n",
    "    size = os.path.getsize(file)\n",
    "    print(f'This file size is {round(size/1e6)} MB, it may take a while to upload.')\n",
    "    uio.status = \"Uploading...\"\n",
    "    uploaded_file = genepattern.session.get(0).upload_file(file_name=os.path.basename(file),file_path=file)\n",
    "    uio.status = \"Uploaded!\"\n",
    "    display(nbtools.UIOutput(files=[uploaded_file.get_url()]))\n",
    "    return()"
   ]
  },
  {
   "cell_type": "markdown",
   "metadata": {},
   "source": [
    "<div class=\"alert alert-info\">\n",
    "<p class=\"lead\"> Instructions <i class=\"fa fa-info-circle\"></i></p>\n",
    "Use the cell below to run a clustering analysis on the processed data.\n",
    "</div>"
   ]
  },
  {
   "cell_type": "code",
   "execution_count": 24,
   "metadata": {
    "genepattern": {
     "description": "performs clustering on Seurat RDS objects",
     "name": "SeuratClustering",
     "param_values": {
      "input.seurat.rds.file": [],
      "job.cpuCount": null,
      "job.memory": null,
      "job.queue": null,
      "job.walltime": null,
      "maximum_dimension": null,
      "nmarkers": null,
      "output.filename": null,
      "reduction": null,
      "resolution": null
     },
     "show_code": false,
     "type": "task"
    }
   },
   "outputs": [
    {
     "data": {
      "application/vnd.jupyter.widget-view+json": {
       "model_id": "7a05264322c9479a8cdb459d9a74e9fe",
       "version_major": 2,
       "version_minor": 0
      },
      "text/plain": [
       "GPTaskWidget(lsid='urn:lsid:broad.mit.edu:cancer.software.genepattern.module.analysis:00408')"
      ]
     },
     "metadata": {},
     "output_type": "display_data"
    },
    {
     "data": {
      "application/vnd.jupyter.widget-view+json": {
       "model_id": "a6ab3d410fb74f2a8b58e114cdd14cec",
       "version_major": 2,
       "version_minor": 0
      },
      "text/plain": [
       "GPJobWidget(job_number=256786)"
      ]
     },
     "metadata": {},
     "output_type": "display_data"
    }
   ],
   "source": [
    "seuratclustering_task = gp.GPTask(genepattern.session.get(0), 'urn:lsid:broad.mit.edu:cancer.software.genepattern.module.analysis:00408')\n",
    "seuratclustering_job_spec = seuratclustering_task.make_job_spec()\n",
    "seuratclustering_job_spec.set_parameter(\"input.seurat.rds.file\", \"\")\n",
    "seuratclustering_job_spec.set_parameter(\"output.filename\", \"<input.seurat.rds.file_basename>.clustered\")\n",
    "seuratclustering_job_spec.set_parameter(\"maximum_dimension\", \"10\")\n",
    "seuratclustering_job_spec.set_parameter(\"resolution\", \"0.5\")\n",
    "seuratclustering_job_spec.set_parameter(\"reduction\", \"umap\")\n",
    "seuratclustering_job_spec.set_parameter(\"job.memory\", \"2 Gb\")\n",
    "seuratclustering_job_spec.set_parameter(\"job.queue\", \"gp-cloud-default\")\n",
    "seuratclustering_job_spec.set_parameter(\"job.cpuCount\", \"1\")\n",
    "seuratclustering_job_spec.set_parameter(\"job.walltime\", \"02:00:00\")\n",
    "genepattern.display(seuratclustering_task)\n",
    "\n",
    "job256786 = gp.GPJob(genepattern.session.get(0), 256786)\n",
    "genepattern.display(job256786)"
   ]
  },
  {
   "cell_type": "markdown",
   "metadata": {},
   "source": [
    "# Download clustering results\n",
    "\n",
    "This module retrieves the clustered RDS and cluster markers csv files from the GenePattern server"
   ]
  },
  {
   "cell_type": "markdown",
   "metadata": {},
   "source": [
    "<div class=\"alert alert-info\">\n",
    "<p class=\"lead\"> Instructions <i class=\"fa fa-info-circle\"></i></p>\n",
    "    Click <b>Run</b> to download the clustering result and cluster markers files from the GenePattern Cloud server.\n",
    "</div>"
   ]
  },
  {
   "cell_type": "code",
   "execution_count": 18,
   "metadata": {
    "nbtools": {
     "description": "Download file from a GenePattern module job result.",
     "name": "Download clustered RDS and cluster markers CSV",
     "origin": "Notebook",
     "param_values": {
      "clustered_rds_file": [],
      "markers_csv_file": [],
      "output_var": ""
     },
     "show_code": false,
     "type": "uibuilder"
    }
   },
   "outputs": [
    {
     "data": {
      "application/vnd.jupyter.widget-view+json": {
       "model_id": "ca49f96d0836451484eb8ccf13320b6a",
       "version_major": 2,
       "version_minor": 0
      },
      "text/plain": [
       "UIBuilder(collapse=False, description='Download file from a GenePattern module job result.', function_import='…"
      ]
     },
     "metadata": {},
     "output_type": "display_data"
    }
   ],
   "source": [
    "import os\n",
    "\n",
    "ui_description = \"Download file from a GenePattern module job result.\"\n",
    "ui_parameters = {\n",
    "    \"clustered_rds_file\": {\"type\": \"file\", \"kinds\": [\"rds\"]}, \n",
    "    \"output_var\": {\"hide\": True},\n",
    "    \"markers_csv_file\": {\"type\": \"file\", \"kinds\": [\"csv\"]}\n",
    "}   \n",
    "        \n",
    "def DownloadJobResultFile(file):\n",
    "    # extract job number and file name from url\n",
    "    job_num = file.split(\"/\")[-2]\n",
    "    remote_file_name = file.split(\"/\")[-1]\n",
    "    \n",
    "    # get the job based on the job number passed as the second argument\n",
    "    job = gp.GPJob(genepattern.get_session(0), job_num)\n",
    "\n",
    "    # fetch a specific file from the job\n",
    "    remote_file = job.get_file(remote_file_name)\n",
    "    \n",
    "    uio = nbtools.UIOutput(text=file)\n",
    "    display(uio)\n",
    "    uio.status = \"Downloading...\"\n",
    "    \n",
    "    File_Name = os.path.basename(file)\n",
    "\n",
    "    response = remote_file.open()\n",
    "    CHUNK = 16 * 1024\n",
    "    with open(File_Name, 'wb') as f:\n",
    "        while True:\n",
    "            chunk = response.read(CHUNK)\n",
    "            if not chunk:\n",
    "                break\n",
    "            f.write(chunk)\n",
    "    uio.status = \"Downloaded!\"\n",
    "    print(File_Name)\n",
    "    #display(nbtools.UIOutput(files=[File_Name]))\n",
    "    \n",
    "def download_rds_csv(clustered_rds_file, markers_csv_file):\n",
    "    DownloadJobResultFile(clustered_rds_file)\n",
    "    DownloadJobResultFile(markers_csv_file)\n",
    "    \n",
    "genepattern.GPUIBuilder(download_rds_csv, collapse=False,\n",
    "                    name='Download clustered RDS and cluster markers CSV',\n",
    "                    description=ui_description,\n",
    "                    parameters=ui_parameters)"
   ]
  },
  {
   "cell_type": "markdown",
   "metadata": {},
   "source": [
    "# Load clustering results\n",
    "\n",
    "This module loads the clustered RDS file and the cluster markers CSV file into the notebook."
   ]
  },
  {
   "cell_type": "markdown",
   "metadata": {},
   "source": [
    "<div class=\"alert alert-info\">\n",
    "<p class=\"lead\"> Instructions <i class=\"fa fa-info-circle\"></i></p>\n",
    "    Click <b>Run</b> to load the clustering result and cluster markers file into the notebook.\n",
    "</div>"
   ]
  },
  {
   "cell_type": "code",
   "execution_count": 19,
   "metadata": {
    "nbtools": {
     "description": "",
     "name": "Load dataset with clustering",
     "origin": "nbtools.r_support",
     "param_values": {
      "CSV_url": [],
      "RDS_url": [],
      "markers_csv_file": null,
      "output_var": ""
     },
     "show_code": false,
     "type": "uibuilder"
    }
   },
   "outputs": [
    {
     "data": {
      "application/vnd.jupyter.widget-view+json": {
       "model_id": "352d4226a69c4b4785d866caef0d7d68",
       "version_major": 2,
       "version_minor": 0
      },
      "text/plain": [
       "UIBuilder(function_import='nbtools._r_wrappers[\"5774D6F33E75C162FB3C9C7730F6B597\"]', name='Load dataset with c…"
      ]
     },
     "metadata": {},
     "output_type": "display_data"
    }
   ],
   "source": [
    "%%r_build_ui {\"name\":\"Load dataset with clustering\", \"parameters\": {\"RDS_url\":{\"name\":\"clustered_rds_file*\",\"default\":\"https://datasets.genepattern.org/data/module_support_files/SeuratClustering/Seurat_preprocessed_prebaked.clustered.rds.rds\",'type':\"file\",\"kinds\":[\"rds\"]}, \"CSV_url\":{\"name\":\"markers csv file*\",\"type\":\"file\",\"kinds\":['csv'],\"default\":\"https://datasets.genepattern.org/data/module_support_files/SeuratClustering/Seurat_preprocessed_prebaked.clustered.rds.csv\"}, \"output_var\": {\"hide\": \"True\"} }}\n",
    "\n",
    "load_markers <- function(CSV_url) {\n",
    "    write(\"Loading cluster markers into notebook...\", stdout())\n",
    "    markers <- read.csv(CSV_url)\n",
    "    write(\"Done!\", stdout())\n",
    "    return(markers)\n",
    "}\n",
    "load_it <- function(RDS_url){\n",
    "    write(\"Loading clustering results into notebook...\", stdout())\n",
    "    pbmc <- readRDS(file = RDS_url)\n",
    "    write(\"Loaded file!\", stdout())\n",
    "    return(pbmc)\n",
    "}\n",
    "suppressWarnings(markers <- load_markers(CSV_url))\n",
    "pbmc <- load_it(RDS_url)"
   ]
  },
  {
   "cell_type": "markdown",
   "metadata": {},
   "source": [
    "# Visualize clustering\n",
    "\n",
    "The following cell shows the UMAP (Uniform Manifold Approximation and Projection) visualization of the cells colored by cluster. UMAP is one of a class of methods developed to visualize high dimensional data in two dimensions. The UMAP algorithm finds a latent subspace, or manifold, within the data and uses it to project the data onto a two dimensional visualization. The following plot shows a UMAP plot where each dot is a cell and colors correspond to cluster assignments."
   ]
  },
  {
   "cell_type": "markdown",
   "metadata": {},
   "source": [
    "<div class=\"alert alert-info\">\n",
    "<p class=\"lead\"> Instructions <i class=\"fa fa-info-circle\"></i></p>\n",
    "    Click <b>Run</b> to visualize the cluster results.\n",
    "</div>"
   ]
  },
  {
   "cell_type": "code",
   "execution_count": 20,
   "metadata": {
    "nbtools": {
     "description": "",
     "name": "Visualize clusters",
     "origin": "nbtools.r_support",
     "param_values": {
      "output_var": ""
     },
     "show_code": false,
     "type": "uibuilder"
    }
   },
   "outputs": [
    {
     "data": {
      "application/vnd.jupyter.widget-view+json": {
       "model_id": "7defae73f2d74839adf1026fd86770f6",
       "version_major": 2,
       "version_minor": 0
      },
      "text/plain": [
       "UIBuilder(function_import='nbtools._r_wrappers[\"8CBA75AFE4C2A30B8145C23078C78F54\"]', name='Visualize clusters'…"
      ]
     },
     "metadata": {},
     "output_type": "display_data"
    }
   ],
   "source": [
    "%%r_build_ui -w 800 {\"name\": \"Visualize clusters\", \"parameters\": {\"output_var\": {\"hide\": \"True\"}}}\n",
    "do_dim_plot <- function() {\n",
    "    plot(DimPlot(pbmc, reduction = \"umap\"))\n",
    "    return(\"\")\n",
    "}\n",
    "do_dim_plot()"
   ]
  },
  {
   "cell_type": "markdown",
   "metadata": {},
   "source": [
    "# Visualize marker gene expression\n",
    "\n",
    "This cell produces a violin plot of gene expression in each cluster."
   ]
  },
  {
   "cell_type": "markdown",
   "metadata": {},
   "source": [
    "<div class=\"alert alert-info\">\n",
    "<p class=\"lead\"> Instructions <i class=\"fa fa-info-circle\"></i></p>\n",
    "Click run to visualize the expression of a gene\n",
    "</div>"
   ]
  },
  {
   "cell_type": "code",
   "execution_count": 21,
   "metadata": {
    "nbtools": {
     "description": "",
     "name": "Violin plot of gene expression",
     "origin": "nbtools.r_support",
     "param_values": {
      "gene": "CD79A",
      "output_var": ""
     },
     "show_code": false,
     "type": "uibuilder"
    }
   },
   "outputs": [
    {
     "data": {
      "application/vnd.jupyter.widget-view+json": {
       "model_id": "937903983b4248d48f06e774a52f209f",
       "version_major": 2,
       "version_minor": 0
      },
      "text/plain": [
       "UIBuilder(function_import='nbtools._r_wrappers[\"9197CAEE74E9BCA43777B30BA530DA3E\"]', name='Violin plot of gene…"
      ]
     },
     "metadata": {},
     "output_type": "display_data"
    }
   ],
   "source": [
    "%%r_build_ui -w 800 {\"name\": \"Violin plot of gene expression\", \"parameters\": {\"gene\": {}, \"output_var\": {\"hide\": \"True\"}}}\n",
    "do_violin <- function(gene) {\n",
    "    plot(VlnPlot(pbmc, features = c(gene), slot = \"counts\", log = TRUE))\n",
    "    return(\"\")\n",
    "}\n",
    "do_violin(gene)"
   ]
  },
  {
   "cell_type": "markdown",
   "metadata": {},
   "source": [
    "# Show markers on dimension reduction\n",
    "\n",
    "This cell produces a UMAP plot colored by marker gene expression."
   ]
  },
  {
   "cell_type": "markdown",
   "metadata": {},
   "source": [
    "<div class=\"alert alert-info\">\n",
    "<p class=\"lead\"> Instructions <i class=\"fa fa-info-circle\"></i></p>\n",
    "    Click <b>Run</b> to display a dimension reduction plot colored by a single gene's expression.\n",
    "</div>"
   ]
  },
  {
   "cell_type": "code",
   "execution_count": 22,
   "metadata": {
    "nbtools": {
     "description": "",
     "name": "UMAP plot of gene expression",
     "origin": "nbtools.r_support",
     "param_values": {
      "gene": "CD79A",
      "output_var": ""
     },
     "show_code": false,
     "type": "uibuilder"
    }
   },
   "outputs": [
    {
     "data": {
      "application/vnd.jupyter.widget-view+json": {
       "model_id": "45e87063e3f34d8589a260729b1287d3",
       "version_major": 2,
       "version_minor": 0
      },
      "text/plain": [
       "UIBuilder(function_import='nbtools._r_wrappers[\"C74CC8AF90A72DC62B30DB4365419426\"]', name='UMAP plot of gene e…"
      ]
     },
     "metadata": {},
     "output_type": "display_data"
    }
   ],
   "source": [
    "%%r_build_ui -w 800 {\"name\": \"UMAP plot of gene expression\", \"parameters\": {\"gene\": {}, \"output_var\": {\"hide\": \"True\"}}}\n",
    "do_umap_gene <- function(gene) {\n",
    "    plot(FeaturePlot(pbmc, features = c(gene)))\n",
    "    return(\"\")\n",
    "}\n",
    "do_umap_gene(gene)"
   ]
  },
  {
   "cell_type": "markdown",
   "metadata": {},
   "source": [
    "# References\n",
    "\n",
    "1. Villani, A.-C., Satija, R., Reynolds, G., Sarkizova, S., Shekhar, K., Fletcher, J., Griesbeck, M., Butler, A., Zheng, S., Lazo, S., et al. (2017). Single-cell RNA-seq reveals new types of human blood dendritic cells, monocytes, and progenitors. Science 356.\n",
    "\n",
    "2. Becht, E., McInnes, L., Healy, J., Dutertre, C.-A., Kwok, I.W.H., Ng, L.G., Ginhoux, F., and Newell, E.W. (2019). Dimensionality reduction for visualizing single-cell data using UMAP. Nature Biotechnology 37, 38–44.\n",
    "\n",
    "3. Maaten, L. van der, and Hinton, G. (2008). Visualizing Data using t-SNE. Journal of Machine Learning Research 9, 2579–2605."
   ]
  }
 ],
 "metadata": {
  "genepattern": {
   "repository_url": "http://notebook.genepattern.org/services/sharing/notebooks/391/"
  },
  "kernelspec": {
   "display_name": "Python 3.7",
   "language": "python",
   "name": "python3.7"
  },
  "language_info": {
   "codemirror_mode": {
    "name": "ipython",
    "version": 3
   },
   "file_extension": ".py",
   "mimetype": "text/x-python",
   "name": "python",
   "nbconvert_exporter": "python",
   "pygments_lexer": "ipython3",
   "version": "3.7.6"
  },
  "toc": {
   "base_numbering": 1,
   "nav_menu": {},
   "number_sections": false,
   "sideBar": true,
   "skip_h1_title": false,
   "title_cell": "Table of Contents",
   "title_sidebar": "Contents",
   "toc_cell": false,
   "toc_position": {
    "height": "calc(100% - 180px)",
    "left": "10px",
    "top": "150px",
    "width": "277.074px"
   },
   "toc_section_display": true,
   "toc_window_display": false
  }
 },
 "nbformat": 4,
 "nbformat_minor": 2
}
