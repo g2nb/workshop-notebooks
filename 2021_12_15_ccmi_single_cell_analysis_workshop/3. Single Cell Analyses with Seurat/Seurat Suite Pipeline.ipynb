{
 "cells": [
  {
   "cell_type": "markdown",
   "id": "cleared-mechanism",
   "metadata": {},
   "source": [
    "# Seurat Pipeline in GenePattern"
   ]
  },
  {
   "cell_type": "markdown",
   "id": "517ccff9",
   "metadata": {},
   "source": [
    "---\n",
    "\n",
    "**Notebook Authors**: Jonathan Zamora, Alex Wenzel, and Edwin F. Juárez, PhD\n",
    "<br>\n",
    "**Contact Information**: jzamoraa@ucsd.edu & ejuarez@ucsd.edu\n",
    "\n",
    "## Background & Summary\n",
    "\n",
    "`Seurat` is an R toolkit for single cell genomics, and it is widely used by both dry-lab and wet-lab researchers to conduct Quality Control (QC), Preprocessing, Batch Correction, and Clustering of single-cell RNA-seq (scRNA-seq) data, as well as other analyses that pertain to scRNA-seq data.\n",
    "\n",
    "The following notebook serves as an introduction to the expansive pipeline of `Seurat` analyses by providing a walkthrough of the following:\n",
    "- `Seurat.QC`\n",
    "- `Seurat.Preprocessing`\n",
    "- `Seurat.Clustering`\n",
    "- `Seurat.VisualizeMarkerExpression`\n",
    "\n",
    "Notably, our `Seurat` pipeline notebook pulls data from the **`Human Cell Atlas`**, allowing our users to perform analyses on any scRNA-seq dataset from their wide collection of readily available data.\n",
    "\n",
    "The underlying code for this notebook is built using the `Seurat v4.0.1` package, and the source code for `Seurat` can be found here: https://github.com/satijalab/seurat\n",
    "\n",
    "\n",
    "\n",
    "![GenePattern Seurat Pipeline](Seurat-Pipeline.png)"
   ]
  },
  {
   "cell_type": "markdown",
   "id": "8a945161",
   "metadata": {},
   "source": [
    "## Activate Demo Mode"
   ]
  },
  {
   "cell_type": "markdown",
   "id": "c8c90605",
   "metadata": {},
   "source": [
    "<div class=\"alert alert-info\">\n",
    "<p class=\"lead\"> Instructions <i class=\"fa fa-info-circle\"></i></p>\n",
    "Click run in the cell below to activate demo mode.\n",
    "</div>"
   ]
  },
  {
   "cell_type": "code",
   "execution_count": 55,
   "id": "c33ebf9b",
   "metadata": {
    "nbtools": {
     "description": "Enable demo mode for this notebook",
     "name": "activate_demo_mode",
     "origin": "Notebook",
     "param_values": {
      "output_var": ""
     },
     "show_code": false,
     "type": "uibuilder"
    }
   },
   "outputs": [
    {
     "data": {
      "application/vnd.jupyter.widget-view+json": {
       "model_id": "42360454c98c4fed8d143e04840b0d34",
       "version_major": 2,
       "version_minor": 0
      },
      "text/plain": [
       "UIBuilder(description='Enable demo mode for this notebook', function_import='nbtools.tool(id=\"activate_demo_mo…"
      ]
     },
     "metadata": {},
     "output_type": "display_data"
    },
    {
     "data": {
      "application/javascript": [
       "\n",
       "            NBToolManager.instance().register(new NBToolManager.NBTool({\n",
       "                origin: \"Notebook\",\n",
       "                id: \"activate_demo_mode\",\n",
       "                name: \"activate_demo_mode\",\n",
       "                description: \"Enable demo mode for this notebook\",\n",
       "                version: \"null\",\n",
       "                tags: null,\n",
       "                attributes: null,\n",
       "                load: function() { return true; },\n",
       "                render: function() { let code = \"nbtools.tool(id='activate_demo_mode', origin='Notebook')\";\n",
       "                let cell = Jupyter.notebook.get_selected_cell();\n",
       "                const is_empty = cell.get_text().trim() === \"\";\n",
       "\n",
       "                // If this cell is not empty, insert a new cell and use that\n",
       "                // Otherwise just use this cell\n",
       "                if (!is_empty) {\n",
       "                    cell = Jupyter.notebook.insert_cell_below();\n",
       "                    Jupyter.notebook.select_next();\n",
       "                }\n",
       "\n",
       "                cell.set_text(code);\n",
       "                cell.execute();\n",
       "\n",
       "                return cell; },\n",
       "            }));"
      ]
     },
     "metadata": {},
     "output_type": "display_data"
    }
   ],
   "source": [
    "import nbtools\n",
    "import demo_mode\n",
    "from IPython.display import display, HTML\n",
    "\n",
    "@nbtools.build_ui(parameters={'output_var': {'hide': True}})\n",
    "def activate_demo_mode():\n",
    "    \"\"\"Enable demo mode for this notebook\"\"\"\n",
    "    \n",
    "    # Any job you enable as a demo job will need to be listed here, \n",
    "    # along with the module name and any parameters you want matched.\n",
    "    # Parameters that are not listed will not be matched. You can \n",
    "    # list the same module multiple times, assuming you use different \n",
    "    # parameter match sets.\n",
    "    \n",
    "    demo_mode.set_demo_jobs([\n",
    "        {\n",
    "            'name': 'Seurat.QC',\n",
    "            'job': 396891,                                # Make sure to set the permissions of any demo job to 'public'\n",
    "            'params': {\n",
    "                'input_file':'demo_mode.py.zip',\n",
    "                'hca_url': 'MM', \n",
    "                'file_name': 'MultipleMyeloma'\n",
    "            }\n",
    "        }, \n",
    "        {\n",
    "            'name': 'Seurat.Preprocessing',\n",
    "            'job': 396941,\n",
    "            'params': {\n",
    "                'input_rds': 'MultipleMyeloma.rds',   # For file parameters, just list the file name, not URL\n",
    "                'file_name': 'MultipleMyeloma.Preprocessed_1',\n",
    "                'min_n_features': '0',\n",
    "                'max_n_features': '6000',\n",
    "                'max_percent_mitochondrial': '80',\n",
    "            }\n",
    "        },\n",
    "        {\n",
    "            'name': 'Seurat.Clustering',\n",
    "            'job': 396942,\n",
    "            'params': {\n",
    "                'input.seurat.rds.file':'MultipleMyeloma.Preprocessed_1.rds',\n",
    "                'output.filename': 'MultipleMyeloma.clustered_1', \n",
    "            }\n",
    "        },\n",
    "        {\n",
    "            'name': 'Seurat.VisualizeMarkerExpression',\n",
    "            'job': 396944,\n",
    "            'params': {\n",
    "                'input_file':'MultipleMyeloma.clustered_1.rds',\n",
    "                'genes': 'CD14, LYZ, CCR7, IL7R, S100A4, MS4A1, CD8A, CD19, CD38', \n",
    "                'output_file_name': 'MultipleMyeloma.Markers_1', \n",
    "            }\n",
    "        },\n",
    "    ])\n",
    "    \n",
    "    # To activate demo mode, just call activate(). This example wraps \n",
    "    # the activation call behind a UI Builder cell, but you could have \n",
    "    # it called in different ways.\n",
    "\n",
    "    demo_mode.activate()\n",
    "    display(HTML('<div class=\"alert alert-success\">Demo mode activated</div>'))\n",
    "    \n",
    "    # The code in this call has been left expanded for tutorial purposes"
   ]
  },
  {
   "cell_type": "markdown",
   "id": "2b5292a2",
   "metadata": {},
   "source": [
    "# Login to GenePattern"
   ]
  },
  {
   "cell_type": "markdown",
   "id": "5842b47c",
   "metadata": {},
   "source": [
    "<div class=\"alert alert-info\">\n",
    "<p class=\"lead\"> Instructions <i class=\"fa fa-info-circle\"></i></p>\n",
    "Login with your GenePattern credentials.\n",
    "</div>"
   ]
  },
  {
   "cell_type": "code",
   "execution_count": 33,
   "id": "53769b03",
   "metadata": {
    "genepattern": {
     "name": "Login",
     "server": "https://cloud.genepattern.org/gp",
     "show_code": true,
     "type": "auth"
    },
    "scrolled": true
   },
   "outputs": [
    {
     "data": {
      "application/vnd.jupyter.widget-view+json": {
       "model_id": "f741dd5c827f415bb5db017541a068cd",
       "version_major": 2,
       "version_minor": 0
      },
      "text/plain": [
       "GPAuthWidget()"
      ]
     },
     "metadata": {},
     "output_type": "display_data"
    }
   ],
   "source": [
    "# Requires GenePattern Notebook: pip install genepattern-notebook\n",
    "import gp\n",
    "import genepattern\n",
    "\n",
    "# Username and password removed for security reasons.\n",
    "genepattern.display(genepattern.session.register(\"https://cloud.genepattern.org/gp\", \"\", \"\"))"
   ]
  },
  {
   "cell_type": "markdown",
   "id": "744f4653",
   "metadata": {},
   "source": [
    "# Data Input: Human Cell Atlas"
   ]
  },
  {
   "cell_type": "markdown",
   "id": "verified-adobe",
   "metadata": {},
   "source": [
    "<div class=\"alert alert-info\">\n",
    "<p class=\"lead\"> Instructions <i class=\"fa fa-info-circle\"></i></p>\n",
    "    \n",
    "To kick off our Seurat Pipeline, we select scRNA-seq data from the **`Human Cell Atlas`**. \n",
    "    \n",
    "Once we have selected some scRNA-seq datasets for our analysis, we can provide each individual scRNA-seq dataset as input to the `Seurat.QC` module via the `hca url` parameter.\n",
    "    \n",
    "Below, please choose a project of your liking from the Human Cell Atlas:\n",
    "\n",
    "</div>"
   ]
  },
  {
   "cell_type": "markdown",
   "id": "8e6028d5",
   "metadata": {},
   "source": [
    "<div class=\"well well-sm\">  \n",
    "    \n",
    "Gist of the papers/data: Development of a software technique to analyze single cells from a progressive multiple myeloma (MM) patient to identify major genetic subclones that exhibit distinct transcriptional signatures relevant to cancer progression.\n",
    "\n",
    "Further reading: \n",
    "- https://data.humancellatlas.org/explore/projects/0c3b7785-f74d-4091-8616-a68757e4c2a8\n",
    "- https://www.ncbi.nlm.nih.gov/pmc/articles/PMC6071640/\n",
    "- https://clincancerres.aacrjournals.org/content/26/4/935\n",
    "\n",
    "</div>"
   ]
  },
  {
   "cell_type": "code",
   "execution_count": 54,
   "id": "ded32e3b",
   "metadata": {
    "nbtools": {
     "description": "                     The following cell will allow you to select a Human Cell Atlas project                     from the v2.0 Data Cloud Portal.                                         To proceed, simply select a project from the drop-down                    menu, and after selecting your project, the cell will then display all download URLs                     for the selected project's matrices.                   ",
     "name": "Choose Human Cell Atlas Project",
     "origin": "Notebook",
     "param_values": {
      "output_var": "",
      "project_title": "Single cell RNA sequencing of multiple myeloma II"
     },
     "show_code": false,
     "type": "uibuilder"
    }
   },
   "outputs": [
    {
     "data": {
      "application/vnd.jupyter.widget-view+json": {
       "model_id": "4e6bf1deb8b8430c9fb039adb134d1e3",
       "version_major": 2,
       "version_minor": 0
      },
      "text/plain": [
       "UIBuilder(description=\"                     The following cell will allow you to select a Human Cell Atlas pro…"
      ]
     },
     "metadata": {},
     "output_type": "display_data"
    },
    {
     "data": {
      "application/javascript": [
       "\n",
       "            NBToolManager.instance().register(new NBToolManager.NBTool({\n",
       "                origin: \"Notebook\",\n",
       "                id: \"Choose Human Cell Atlas Project\",\n",
       "                name: \"Choose Human Cell Atlas Project\",\n",
       "                description: \"                     The following cell will allow you to select a Human Cell Atlas project                     from the v2.0 Data Cloud Portal.                                         To proceed, simply select a project from the drop-down                    menu, and after selecting your project, the cell will then display all download URLs                     for the selected project's matrices.                   \",\n",
       "                version: \"null\",\n",
       "                tags: null,\n",
       "                attributes: null,\n",
       "                load: function() { return true; },\n",
       "                render: function() { let code = \"nbtools.tool(id='Choose Human Cell Atlas Project', origin='Notebook')\";\n",
       "                let cell = Jupyter.notebook.get_selected_cell();\n",
       "                const is_empty = cell.get_text().trim() === \"\";\n",
       "\n",
       "                // If this cell is not empty, insert a new cell and use that\n",
       "                // Otherwise just use this cell\n",
       "                if (!is_empty) {\n",
       "                    cell = Jupyter.notebook.insert_cell_below();\n",
       "                    Jupyter.notebook.select_next();\n",
       "                }\n",
       "\n",
       "                cell.set_text(code);\n",
       "                cell.execute();\n",
       "\n",
       "                return cell; },\n",
       "            }));"
      ]
     },
     "metadata": {},
     "output_type": "display_data"
    }
   ],
   "source": [
    "import requests\n",
    "import os\n",
    "from tqdm.notebook import tqdm\n",
    "import pandas as pd\n",
    "import numpy as np\n",
    "import nbtools\n",
    "from nbtools import UIBuilder, UIOutput\n",
    "import IPython\n",
    "                \n",
    "def iterate_matrices_tree(tree, keys=()):\n",
    "    if isinstance(tree, dict):\n",
    "        for k, v in tree.items():\n",
    "            yield from iterate_matrices_tree(v, keys=(*keys, k))\n",
    "    elif isinstance(tree, list):\n",
    "        for file in tree:\n",
    "            yield keys, file\n",
    "    else:\n",
    "        assert False\n",
    "\n",
    "\n",
    "def get_hca_data(project):\n",
    "    '''\n",
    "    Gets data for a given project from HCA using API\n",
    "    '''\n",
    "    title_list = [] # project titles\n",
    "    size_list = [] # file sizes for each project file\n",
    "    name_list = [] # file names for each project file\n",
    "    source_list = [] # file source for each project file\n",
    "    uuid_list = [] # unique identification for each project\n",
    "    url_list = [] # url to download each project file\n",
    "\n",
    "    for i in range(len(project['hits'])):\n",
    "\n",
    "        current_project = project['hits'][i]['projects'][0]\n",
    "\n",
    "        if 'matrices' in current_project.keys():\n",
    "            \n",
    "            # initialize sublists to hold each project's data\n",
    "            size_sublist = []\n",
    "            name_sublist = []\n",
    "            source_sublist = []\n",
    "            uuid_sublist = []\n",
    "            url_sublist = []\n",
    "\n",
    "            for path, file_info in iterate_matrices_tree(current_project['matrices']):\n",
    "\n",
    "                if file_info['url'] != \"\": # ensure the file url is not empty\n",
    "\n",
    "                    size = file_info['size']\n",
    "                    name = file_info['name']\n",
    "                    source = file_info['source']\n",
    "                    uuid = file_info['uuid']\n",
    "                    url = file_info['url']\n",
    "\n",
    "                    size_sublist.append(size)\n",
    "                    name_sublist.append(name)\n",
    "                    source_sublist.append(source)\n",
    "                    uuid_sublist.append(uuid)\n",
    "                    url_sublist.append(url)\n",
    "\n",
    "            if name_sublist != []: # ensure there is >= 1 file name for a project\n",
    "                title_list.append(current_project['projectTitle'])\n",
    "                size_list.append(size_sublist)\n",
    "                name_list.append(name_sublist)\n",
    "                source_list.append(source_sublist)\n",
    "                uuid_list.append(uuid_sublist)\n",
    "                url_list.append(url_sublist)\n",
    "    \n",
    "    return title_list, size_list, name_list, source_list, uuid_list, url_list\n",
    "\n",
    "\n",
    "def choose_hca_catalog(catalog_version):\n",
    "    \"\"\"Choose HCA Catalog Version and display info\"\"\"\n",
    "    catalog = catalog_version\n",
    "    endpoint_url = 'https://service.azul.data.humancellatlas.org/index/projects'\n",
    "\n",
    "    # get initial response to query size of project list\n",
    "    init_response = requests.get(endpoint_url, params={'catalog': catalog})\n",
    "    init_response.raise_for_status()\n",
    "    init_response_json = init_response.json()\n",
    "    init_project = init_response_json\n",
    "    num_projects = init_project['pagination']['total']\n",
    "\n",
    "    # get response with size = num projects to ensure all projects are displayed\n",
    "    response = requests.get(endpoint_url, params={'catalog': catalog, 'size': num_projects})\n",
    "    response.raise_for_status()\n",
    "\n",
    "    response_json = response.json()\n",
    "    project = response_json\n",
    "    \n",
    "    titles, sizes, names, sources, uuids, urls = get_hca_data(project) # get all project data from HCA via API\n",
    "    \n",
    "    # return dictionary for use with the UIBuilder Cell\n",
    "    return dict(zip(titles, titles)), dict(zip(titles, urls)), dict(zip(titles, names)), dict(zip(titles, sizes)), dict(zip(titles, sources))\n",
    "\n",
    "# \"dcp7\" is used to access HCA DCP v2.0 catalog\n",
    "hca_titles_titles, hca_titles_urls, hca_titles_names, hca_titles_sizes, hca_titles_sources = choose_hca_catalog(\"dcp11\")\n",
    "\n",
    "\n",
    "@nbtools.build_ui(\n",
    "    \n",
    "    name = \"Choose Human Cell Atlas Project\",\n",
    "    \n",
    "    description = \"\"\" \\\n",
    "                    The following cell will allow you to select a Human Cell Atlas project \\\n",
    "                    from the v2.0 Data Cloud Portal. \\\n",
    "                    \\\n",
    "                    To proceed, simply select a project from the drop-down\\\n",
    "                    menu, and after selecting your project, the cell will then display all download URLs \\\n",
    "                    for the selected project's matrices. \\\n",
    "                  \"\"\",\n",
    "    \n",
    "    parameters =\n",
    "    {\n",
    "        \"project_title\":\n",
    "        {\n",
    "            \"name\": \"Project Title\",\n",
    "            \"type\": \"choice\",\n",
    "            \"choices\": hca_titles_titles\n",
    "        },\n",
    "        \n",
    "        \"output_var\":\n",
    "        {\n",
    "            \"hide\": True\n",
    "        }\n",
    "    }\n",
    ")\n",
    "\n",
    "\n",
    "def choose_hca_project(project_title):\n",
    "    \n",
    "    print(f\"SELECTED PROJECT TITLE: '{project_title}'\\n\")\n",
    "    print(\"THE DOWNLOAD URLS FOR YOUR PROJECT'S MATRICES ARE BELOW:\\n\")\n",
    "    \n",
    "    file_urls = set()\n",
    "    \n",
    "    for key, value in enumerate(hca_titles_urls[project_title]):\n",
    "        name = hca_titles_names[project_title][key]\n",
    "        print(\"FILE NAME:\", name)\n",
    "        url = hca_titles_urls[project_title][key]\n",
    "        print(\"FILE URL:\", url)\n",
    "        \n",
    "        if url not in file_urls:\n",
    "            file_urls.add(url) # url lib to check if loom file gets downloaded from the url\n",
    "        \n",
    "        file_size = round((hca_titles_sizes[project_title][key] / (1024 * 1024)), 2)\n",
    "\n",
    "        if file_size < 1024:\n",
    "            print(f\"FILE SIZE: {file_size} MB\")\n",
    "        else:\n",
    "            print(f\"FILE SIZE: {round(file_size / 1024, 2)} GB\")\n",
    "        \n",
    "        #print(\"SUGGESTED JOB MEMORY FOR SEURAT.QC:\", suggested_memory)\n",
    "        \n",
    "        print(\"FILE SOURCE:\", hca_titles_sources[project_title][key])\n",
    "        print()\n",
    "\n",
    "    return UIOutput(name=\"Your HCA Files are now available!\",\n",
    "                    description=\"The file urls for your HCA project are shown below:\",\n",
    "                    files=list(file_urls),\n",
    "                    status=\"File URLs:\"\n",
    "                   )"
   ]
  },
  {
   "cell_type": "markdown",
   "id": "straight-alarm",
   "metadata": {},
   "source": [
    "# QC"
   ]
  },
  {
   "cell_type": "code",
   "execution_count": 53,
   "id": "134cd33f",
   "metadata": {
    "nbtools": {
     "description": "Use this file for the parameter 'input file' in Seurat.QC below to activate demo mode:",
     "name": "Temp file for demo mode",
     "show_code": false,
     "type": "uioutput"
    }
   },
   "outputs": [
    {
     "data": {
      "application/vnd.jupyter.widget-view+json": {
       "model_id": "367573ffa0b9400f85774ffbc39456d4",
       "version_major": 2,
       "version_minor": 0
      },
      "text/plain": [
       "UIOutput(description=\"Use this file for the parameter 'input file' in Seurat.QC below to activate demo mode:\",…"
      ]
     },
     "metadata": {},
     "output_type": "display_data"
    }
   ],
   "source": [
    "from nbtools import UIBuilder, UIOutput\n",
    "UIOutput(name=\"Temp file for demo mode\",\n",
    "                    description=\"Use this file for the parameter 'input file' in Seurat.QC below to activate demo mode:\",\n",
    "                    files=['demo_mode.py.zip'],\n",
    "                   )"
   ]
  },
  {
   "cell_type": "markdown",
   "id": "5c5c44e6",
   "metadata": {},
   "source": [
    "<div class=\"alert alert-info\">\n",
    "<p class=\"lead\"> Loading your HCA Dataset into Seurat.QC in demo mode <i class=\"fa fa-info-circle\"></i></p>  \n",
    "    \n",
    "- For the **input file** parameter, select `demo_mode.py.zip` from the dropdown menu\n",
    "- For the **hca url** oarameter, type `MM` \n",
    "    - **Note**: Normally you would drag and drop the URL created by the UI Builder cell above, but for demo mode, we are using this dummy parameter.\n",
    "- Under the `QC Plots` section of the parameters, change the **file name*** parameter to `MultipleMyeloma`\n",
    "</div>"
   ]
  },
  {
   "cell_type": "code",
   "execution_count": 52,
   "id": "0a08b866",
   "metadata": {
    "genepattern": {
     "description": "Seurat quality control (First step in the Seurat Suite), using Seurat version 4.0.3.",
     "name": "Seurat.QC",
     "param_values": {
      "column_name": "percent.mt",
      "export_txt": [
       "False"
      ],
      "file_name": "seurat_qcd_dataset",
      "first_feature": "nFeature_RNA",
      "hca_url": "",
      "input_file": [],
      "job.cpuCount": [
       "1"
      ],
      "job.memory": [
       "2 Gb"
      ],
      "job.walltime": [
       "02:00:00"
      ],
      "pattern": "MT-",
      "second_feature": "nCount_RNA",
      "third_feature": "percent.mt"
     },
     "show_code": true,
     "type": "task"
    }
   },
   "outputs": [
    {
     "data": {
      "application/vnd.jupyter.widget-view+json": {
       "model_id": "264e0d56ffe54a14851ce542208b3bca",
       "version_major": 2,
       "version_minor": 0
      },
      "text/plain": [
       "GPTaskWidget(lsid='urn:lsid:genepattern.org:module.analysis:00416')"
      ]
     },
     "metadata": {},
     "output_type": "display_data"
    }
   ],
   "source": [
    "seurat_qc_task = gp.GPTask(genepattern.session.get(0), 'urn:lsid:genepattern.org:module.analysis:00416')\n",
    "seurat_qc_job_spec = seurat_qc_task.make_job_spec()\n",
    "seurat_qc_job_spec.set_parameter(\"input_file\", \"\")\n",
    "seurat_qc_job_spec.set_parameter(\"hca_url\", \"\")\n",
    "seurat_qc_job_spec.set_parameter(\"column_name\", \"percent.mt\")\n",
    "seurat_qc_job_spec.set_parameter(\"pattern\", \"MT-\")\n",
    "seurat_qc_job_spec.set_parameter(\"file_name\", \"seurat_qcd_dataset\")\n",
    "seurat_qc_job_spec.set_parameter(\"first_feature\", \"nFeature_RNA\")\n",
    "seurat_qc_job_spec.set_parameter(\"second_feature\", \"nCount_RNA\")\n",
    "seurat_qc_job_spec.set_parameter(\"third_feature\", \"percent.mt\")\n",
    "seurat_qc_job_spec.set_parameter(\"export_txt\", \"False\")\n",
    "seurat_qc_job_spec.set_parameter(\"job.memory\", \"2 Gb\")\n",
    "seurat_qc_job_spec.set_parameter(\"job.walltime\", \"02:00:00\")\n",
    "seurat_qc_job_spec.set_parameter(\"job.cpuCount\", \"1\")\n",
    "genepattern.display(seurat_qc_task)\n"
   ]
  },
  {
   "cell_type": "markdown",
   "id": "6866750f",
   "metadata": {},
   "source": [
    "<div class=\"alert alert-info\">\n",
    "<p class=\"lead\"> Instructions <i class=\"fa fa-info-circle\"></i></p>\n",
    "    \n",
    "- Click on the dropdown menu for **PDF to display*** parameter and choose `MultipleMyeloma.pdf`\n",
    "</div>"
   ]
  },
  {
   "cell_type": "code",
   "execution_count": 51,
   "id": "5bf986a9",
   "metadata": {
    "nbtools": {
     "description": "",
     "name": "Display PDF",
     "origin": "Notebook",
     "param_values": {
      "height": 750,
      "image": [],
      "output_var": "output_var",
      "width": 1000
     },
     "show_code": false,
     "type": "uibuilder"
    },
    "scrolled": false
   },
   "outputs": [
    {
     "data": {
      "application/vnd.jupyter.widget-view+json": {
       "model_id": "f0d8fcd8403246ce998229236fbf034f",
       "version_major": 2,
       "version_minor": 0
      },
      "text/plain": [
       "UIBuilder(function_import='nbtools.tool(id=\"Display PDF\", origin=\"Notebook\").function_or_method', name='Displa…"
      ]
     },
     "metadata": {},
     "output_type": "display_data"
    },
    {
     "data": {
      "application/javascript": [
       "\n",
       "            NBToolManager.instance().register(new NBToolManager.NBTool({\n",
       "                origin: \"Notebook\",\n",
       "                id: \"Display PDF\",\n",
       "                name: \"Display PDF\",\n",
       "                description: \"\",\n",
       "                version: \"null\",\n",
       "                tags: null,\n",
       "                attributes: null,\n",
       "                load: function() { return true; },\n",
       "                render: function() { let code = \"nbtools.tool(id='Display PDF', origin='Notebook')\";\n",
       "                let cell = Jupyter.notebook.get_selected_cell();\n",
       "                const is_empty = cell.get_text().trim() === \"\";\n",
       "\n",
       "                // If this cell is not empty, insert a new cell and use that\n",
       "                // Otherwise just use this cell\n",
       "                if (!is_empty) {\n",
       "                    cell = Jupyter.notebook.insert_cell_below();\n",
       "                    Jupyter.notebook.select_next();\n",
       "                }\n",
       "\n",
       "                cell.set_text(code);\n",
       "                cell.execute();\n",
       "\n",
       "                return cell; },\n",
       "            }));"
      ]
     },
     "metadata": {},
     "output_type": "display_data"
    }
   ],
   "source": [
    "import os\n",
    "import requests\n",
    "import genepattern\n",
    "from IPython.display import IFrame\n",
    "@genepattern.build_ui(name=\"Display PDF\", parameters={\n",
    "    \"image\": {\n",
    "        \"name\": \"PDF to display:\",\n",
    "        \"description\": \"PDF file (typically named Rplots.pdf) from the Seurat.QC module\",\n",
    "        \"type\": \"file\",\n",
    "        \"kinds\": [\"pdf\"]\n",
    "    },\n",
    "    \"height\":{\"default\":850, \"hide\":True},\n",
    "    \"width\":{\"default\":850, \"hide\":True},\n",
    "    \"output_var\": {\n",
    "        \"default\":\"output_var\",\n",
    "        \"hide\": True\n",
    "    }\n",
    "})\n",
    "def displayPdf(image, height, width):\n",
    "    job_widget = nbtools.UIOutput(status=\"Getting file from the GenePattern server...\")\n",
    "    display(job_widget)\n",
    "    f = gp.GPFile(genepattern.session.get(0), image)\n",
    "    basename=os.path.basename(image)\n",
    "    resp = requests.get(image, headers={\n",
    "        'Authorization': f.server_data.authorization_header(), \n",
    "        'User-Agent': 'GenePatternRest'})\n",
    "    job_widget.status = 'Writing pdf file to your workspace. This may take a minute.'\n",
    "    with open(basename, \"wb\") as f:\n",
    "        f.write(resp.content)\n",
    "    \n",
    "    job_widget.status = basename+' successfully written to the same folder as this notebook!'\n",
    "    display(IFrame(basename,width, height))\n",
    "    return"
   ]
  },
  {
   "cell_type": "markdown",
   "id": "06021582",
   "metadata": {},
   "source": [
    "<div class=\"well well-sm\">  \n",
    "    \n",
    "- nFeature_RNA: Number of genes per cell\n",
    "- nCount_RNA: Number of reads per cell\n",
    "- percent.mt: Percent of counts associated to mitochondrial genes\n",
    "</div>"
   ]
  },
  {
   "cell_type": "markdown",
   "id": "incorporate-dublin",
   "metadata": {},
   "source": [
    "# Preprocessing"
   ]
  },
  {
   "cell_type": "markdown",
   "id": "981db670",
   "metadata": {},
   "source": [
    "<div class=\"alert alert-info\">\n",
    "<p class=\"lead\"> Instructions <i class=\"fa fa-info-circle\"></i></p>  \n",
    "    \n",
    "Select the following parameters:  \n",
    "- **input rds***: Select `MultipleMyeloma.rds` from the dropdown menu\n",
    "- **file name***: Type `MultipleMyeloma.Preprocessed_1`\n",
    "- **min n features***: Type `0` -- This corresponds to the minimum number of genes per cell\n",
    "- **max n features***: Type `6000` -- This corresponds to the maximum number of genes per cell\n",
    "- **max percent mitochondrial***: Type `80` -- this corresponds to the maximum percent of counts associated to mitochondrial genes per cell\n",
    "</div>"
   ]
  },
  {
   "cell_type": "code",
   "execution_count": 50,
   "id": "1b7bd8f4",
   "metadata": {
    "genepattern": {
     "description": "Seurat preprocessing",
     "name": "Seurat.Preprocessing",
     "param_values": {
      "cells": null,
      "feat_sel_method": null,
      "file_name": null,
      "input_rds": null,
      "job.cpuCount": null,
      "job.memory": null,
      "job.walltime": null,
      "keep_scale_data": null,
      "max_n_features": null,
      "max_percent_mitochondrial": null,
      "min_n_features": null,
      "norm_method": null,
      "num_features": null,
      "num_to_label": null,
      "numpcs": null,
      "scale_factor": null,
      "vdhm_num_dims": null,
      "vdl_num_dims": null
     },
     "show_code": true,
     "type": "task"
    }
   },
   "outputs": [
    {
     "data": {
      "application/vnd.jupyter.widget-view+json": {
       "model_id": "d3c29958e8c44e87a30d33b5df2eb465",
       "version_major": 2,
       "version_minor": 0
      },
      "text/plain": [
       "GPTaskWidget(lsid='urn:lsid:genepattern.org:module.analysis:00415')"
      ]
     },
     "metadata": {},
     "output_type": "display_data"
    }
   ],
   "source": [
    "seurat_preprocessing_task = gp.GPTask(genepattern.session.get(0), 'urn:lsid:genepattern.org:module.analysis:00415')\n",
    "seurat_preprocessing_job_spec = seurat_preprocessing_task.make_job_spec()\n",
    "seurat_preprocessing_job_spec.set_parameter(\"input_rds\", \"\")\n",
    "seurat_preprocessing_job_spec.set_parameter(\"file_name\", \"seurat_preprocessed_dataset\")\n",
    "seurat_preprocessing_job_spec.set_parameter(\"min_n_features\", \"100\")\n",
    "seurat_preprocessing_job_spec.set_parameter(\"max_n_features\", \"20000\")\n",
    "seurat_preprocessing_job_spec.set_parameter(\"max_percent_mitochondrial\", \"5\")\n",
    "seurat_preprocessing_job_spec.set_parameter(\"norm_method\", \"LogNormalize\")\n",
    "seurat_preprocessing_job_spec.set_parameter(\"scale_factor\", \"10000\")\n",
    "seurat_preprocessing_job_spec.set_parameter(\"feat_sel_method\", \"vst\")\n",
    "seurat_preprocessing_job_spec.set_parameter(\"num_features\", \"2000\")\n",
    "seurat_preprocessing_job_spec.set_parameter(\"num_to_label\", \"10\")\n",
    "seurat_preprocessing_job_spec.set_parameter(\"vdl_num_dims\", \"2\")\n",
    "seurat_preprocessing_job_spec.set_parameter(\"vdhm_num_dims\", \"15\")\n",
    "seurat_preprocessing_job_spec.set_parameter(\"cells\", \"500\")\n",
    "seurat_preprocessing_job_spec.set_parameter(\"keep_scale_data\", \"TRUE\")\n",
    "seurat_preprocessing_job_spec.set_parameter(\"numpcs\", \"50\")\n",
    "seurat_preprocessing_job_spec.set_parameter(\"job.memory\", \"2 Gb\")\n",
    "seurat_preprocessing_job_spec.set_parameter(\"job.walltime\", \"02:00:00\")\n",
    "seurat_preprocessing_job_spec.set_parameter(\"job.cpuCount\", \"1\")\n",
    "genepattern.display(seurat_preprocessing_task)"
   ]
  },
  {
   "cell_type": "markdown",
   "id": "c6af2b41",
   "metadata": {},
   "source": [
    "<div class=\"alert alert-info\">\n",
    "<p class=\"lead\"> Instructions <i class=\"fa fa-info-circle\"></i></p>\n",
    "    \n",
    "- Click on the dropdown menu for **PDF to display*** parameter and choose `MultipleMyeloma.Preprocessed_1.pdf`\n",
    "</div>"
   ]
  },
  {
   "cell_type": "code",
   "execution_count": 48,
   "id": "748aadf4",
   "metadata": {
    "nbtools": {
     "description": "",
     "name": "Display PDF",
     "origin": "Notebook",
     "param_values": {
      "height": 750,
      "image": [],
      "output_var": "output_var",
      "pdf": [],
      "width": 1000
     },
     "show_code": false,
     "type": "uibuilder"
    },
    "scrolled": true
   },
   "outputs": [
    {
     "data": {
      "application/vnd.jupyter.widget-view+json": {
       "model_id": "7db8269170de4fa29ae8cc1de67da34c",
       "version_major": 2,
       "version_minor": 0
      },
      "text/plain": [
       "UIBuilder(function_import='nbtools.tool(id=\"Display PDF\", origin=\"Notebook\").function_or_method', name='Displa…"
      ]
     },
     "metadata": {},
     "output_type": "display_data"
    },
    {
     "data": {
      "application/javascript": [
       "\n",
       "            NBToolManager.instance().register(new NBToolManager.NBTool({\n",
       "                origin: \"Notebook\",\n",
       "                id: \"Display PDF\",\n",
       "                name: \"Display PDF\",\n",
       "                description: \"\",\n",
       "                version: \"null\",\n",
       "                tags: null,\n",
       "                attributes: null,\n",
       "                load: function() { return true; },\n",
       "                render: function() { let code = \"nbtools.tool(id='Display PDF', origin='Notebook')\";\n",
       "                let cell = Jupyter.notebook.get_selected_cell();\n",
       "                const is_empty = cell.get_text().trim() === \"\";\n",
       "\n",
       "                // If this cell is not empty, insert a new cell and use that\n",
       "                // Otherwise just use this cell\n",
       "                if (!is_empty) {\n",
       "                    cell = Jupyter.notebook.insert_cell_below();\n",
       "                    Jupyter.notebook.select_next();\n",
       "                }\n",
       "\n",
       "                cell.set_text(code);\n",
       "                cell.execute();\n",
       "\n",
       "                return cell; },\n",
       "            }));"
      ]
     },
     "metadata": {},
     "output_type": "display_data"
    }
   ],
   "source": [
    "import os\n",
    "import requests\n",
    "import genepattern\n",
    "from IPython.display import IFrame\n",
    "@genepattern.build_ui(name=\"Display PDF\", parameters={\n",
    "    \"image\": {\n",
    "        \"name\": \"PDF to display:\",\n",
    "        \"description\": \"PDF file (typically named Rplots.pdf) from the Seurat.QC module\",\n",
    "        \"type\": \"file\",\n",
    "        \"kinds\": [\"pdf\"]\n",
    "    },\n",
    "    \"height\":{\"default\":850, \"hide\":True},\n",
    "    \"width\":{\"default\":850, \"hide\":True},\n",
    "    \"output_var\": {\n",
    "        \"default\":\"output_var\",\n",
    "        \"hide\": True\n",
    "    }\n",
    "})\n",
    "def displayPdf(image, height, width):\n",
    "    job_widget = nbtools.UIOutput(status=\"Getting file from the GenePattern server...\")\n",
    "    display(job_widget)\n",
    "    f = gp.GPFile(genepattern.session.get(0), image)\n",
    "    basename=os.path.basename(image)\n",
    "    resp = requests.get(image, headers={\n",
    "        'Authorization': f.server_data.authorization_header(), \n",
    "        'User-Agent': 'GenePatternRest'})\n",
    "    job_widget.status = 'Writing pdf file to your workspace. This may take a minute.'\n",
    "    with open(basename, \"wb\") as f:\n",
    "        f.write(resp.content)\n",
    "    \n",
    "    job_widget.status = basename+' successfully written to the same folder as this notebook!'\n",
    "    display(IFrame(basename,width, height))\n",
    "    return"
   ]
  },
  {
   "cell_type": "markdown",
   "id": "b26160f1",
   "metadata": {},
   "source": [
    "<div class=\"well well-sm\">\n",
    "Sometimes, you'll want to try two or three different parameter options at the same time. Let's submit a second job with different parameters now.\n",
    "</div>"
   ]
  },
  {
   "cell_type": "markdown",
   "id": "4366300e",
   "metadata": {},
   "source": [
    "<div class=\"alert alert-info\">\n",
    "<p class=\"lead\"> Instructions <i class=\"fa fa-info-circle\"></i></p>  \n",
    "    \n",
    "- Insert a new GenePattern cell below    \n",
    "- Select Seurat.Preprocessing from the list of available modules\n",
    "- Select the same .rds file for the **input rds*** parameter (i.e., MultipleMyeloma.rds) from the dropdown menu\n",
    "- Make sure to give it a helpful name by changing the value of the **file name*** parameter\n",
    "- Change the rest of the parameters so your filtering is more stringent preprocessing (i.e., `min n features`, `max n features`, `max percent mitochondrial`)\n",
    "- Under `Normalization & Dimension reduction` larger number of principal components to be computed\n",
    "- Submit a job     \n",
    "    + **Note:** when prompted \"You are running in demo mode... would you like to submit job anyway?\" click \"OK\")\n",
    "\n",
    "</div>"
   ]
  },
  {
   "cell_type": "code",
   "execution_count": null,
   "id": "b0b386e5",
   "metadata": {},
   "outputs": [],
   "source": []
  },
  {
   "cell_type": "markdown",
   "id": "widespread-fifth",
   "metadata": {},
   "source": [
    "# Clustering"
   ]
  },
  {
   "cell_type": "markdown",
   "id": "b4172d59",
   "metadata": {},
   "source": [
    "<div class=\"alert alert-info\">\n",
    "<p class=\"lead\"> Instructions <i class=\"fa fa-info-circle\"></i></p>\n",
    "  \n",
    "Select the following parameters:  \n",
    "- **input seurat rds file***: Select `MultipleMyeloma.Preprocessed_1.rds` from the dropdown menu\n",
    "- **output filename***: Type `MultipleMyeloma.clustered_1`\n",
    "</div>"
   ]
  },
  {
   "cell_type": "code",
   "execution_count": 47,
   "id": "b751b635",
   "metadata": {
    "genepattern": {
     "description": "Companion module for the <a href=\"https://notebook.genepattern.org/services/sharing/notebooks/376/preview/\">Seurat notebook</a>. Performs clustering and marker identification on single cell data.",
     "name": "Seurat.Clustering",
     "param_values": {
      "input.seurat.rds.file": [],
      "job.cpuCount": [
       "1"
      ],
      "job.memory": [
       "2 Gb"
      ],
      "job.walltime": [
       "02:00:00"
      ],
      "maximum_dimension": "10",
      "nmarkers": "50",
      "output.filename": "<input.seurat.rds.file_basename>.clustered",
      "reduction": [
       "umap"
      ],
      "resolution": "0.05",
      "seed": "17"
     },
     "show_code": true,
     "type": "task"
    }
   },
   "outputs": [
    {
     "data": {
      "application/vnd.jupyter.widget-view+json": {
       "model_id": "34acc99f0add4df4a6a0d04f2330efe2",
       "version_major": 2,
       "version_minor": 0
      },
      "text/plain": [
       "GPTaskWidget(lsid='urn:lsid:broad.mit.edu:cancer.software.genepattern.module.analysis:00408')"
      ]
     },
     "metadata": {},
     "output_type": "display_data"
    }
   ],
   "source": [
    "seurat_clustering_task = gp.GPTask(genepattern.session.get(0), 'urn:lsid:broad.mit.edu:cancer.software.genepattern.module.analysis:00408')\n",
    "seurat_clustering_job_spec = seurat_clustering_task.make_job_spec()\n",
    "seurat_clustering_job_spec.set_parameter(\"input.seurat.rds.file\", \"\")\n",
    "seurat_clustering_job_spec.set_parameter(\"output.filename\", \"<input.seurat.rds.file_basename>.clustered\")\n",
    "seurat_clustering_job_spec.set_parameter(\"maximum_dimension\", \"10\")\n",
    "seurat_clustering_job_spec.set_parameter(\"resolution\", \"0.05\")\n",
    "seurat_clustering_job_spec.set_parameter(\"reduction\", \"umap\")\n",
    "seurat_clustering_job_spec.set_parameter(\"nmarkers\", \"50\")\n",
    "seurat_clustering_job_spec.set_parameter(\"seed\", \"17\")\n",
    "seurat_clustering_job_spec.set_parameter(\"job.memory\", \"2 Gb\")\n",
    "seurat_clustering_job_spec.set_parameter(\"job.walltime\", \"02:00:00\")\n",
    "seurat_clustering_job_spec.set_parameter(\"job.cpuCount\", \"1\")\n",
    "genepattern.display(seurat_clustering_task)"
   ]
  },
  {
   "cell_type": "markdown",
   "id": "d51b82d5",
   "metadata": {},
   "source": [
    "<div class=\"alert alert-info\">\n",
    "<p class=\"lead\"> Instructions <i class=\"fa fa-info-circle\"></i></p>\n",
    "        \n",
    "- Click on the dropdown menu for **PDF to display*** parameter and choose `MultipleMyeloma.clustered_1.pdf`\n",
    "\n",
    "</div>"
   ]
  },
  {
   "cell_type": "code",
   "execution_count": 46,
   "id": "834fd959",
   "metadata": {
    "nbtools": {
     "description": "",
     "name": "Display PDF",
     "origin": "Notebook",
     "param_values": {
      "height": 750,
      "image": [],
      "output_var": "output_var",
      "pdf": [],
      "width": 1000
     },
     "show_code": false,
     "type": "uibuilder"
    },
    "scrolled": false
   },
   "outputs": [
    {
     "data": {
      "application/vnd.jupyter.widget-view+json": {
       "model_id": "1ff3a640b76048c496ed85b9d5d59cb9",
       "version_major": 2,
       "version_minor": 0
      },
      "text/plain": [
       "UIBuilder(function_import='nbtools.tool(id=\"Display PDF\", origin=\"Notebook\").function_or_method', name='Displa…"
      ]
     },
     "metadata": {},
     "output_type": "display_data"
    },
    {
     "data": {
      "application/javascript": [
       "\n",
       "            NBToolManager.instance().register(new NBToolManager.NBTool({\n",
       "                origin: \"Notebook\",\n",
       "                id: \"Display PDF\",\n",
       "                name: \"Display PDF\",\n",
       "                description: \"\",\n",
       "                version: \"null\",\n",
       "                tags: null,\n",
       "                attributes: null,\n",
       "                load: function() { return true; },\n",
       "                render: function() { let code = \"nbtools.tool(id='Display PDF', origin='Notebook')\";\n",
       "                let cell = Jupyter.notebook.get_selected_cell();\n",
       "                const is_empty = cell.get_text().trim() === \"\";\n",
       "\n",
       "                // If this cell is not empty, insert a new cell and use that\n",
       "                // Otherwise just use this cell\n",
       "                if (!is_empty) {\n",
       "                    cell = Jupyter.notebook.insert_cell_below();\n",
       "                    Jupyter.notebook.select_next();\n",
       "                }\n",
       "\n",
       "                cell.set_text(code);\n",
       "                cell.execute();\n",
       "\n",
       "                return cell; },\n",
       "            }));"
      ]
     },
     "metadata": {},
     "output_type": "display_data"
    }
   ],
   "source": [
    "import os\n",
    "import requests\n",
    "import genepattern\n",
    "from IPython.display import IFrame\n",
    "@genepattern.build_ui(name=\"Display PDF\", parameters={\n",
    "    \"image\": {\n",
    "        \"name\": \"PDF to display:\",\n",
    "        \"description\": \"PDF file (typically named Rplots.pdf) from the Seurat.QC module\",\n",
    "        \"type\": \"file\",\n",
    "        \"kinds\": [\"pdf\"]\n",
    "    },\n",
    "    \"height\":{\"default\":850, \"hide\":True},\n",
    "    \"width\":{\"default\":850, \"hide\":True},\n",
    "    \"output_var\": {\n",
    "        \"default\":\"output_var\",\n",
    "        \"hide\": True\n",
    "    }\n",
    "})\n",
    "def displayPdf(image, height, width):\n",
    "    job_widget = nbtools.UIOutput(status=\"Getting file from the GenePattern server...\")\n",
    "    display(job_widget)\n",
    "    f = gp.GPFile(genepattern.session.get(0), image)\n",
    "    basename=os.path.basename(image)\n",
    "    resp = requests.get(image, headers={\n",
    "        'Authorization': f.server_data.authorization_header(), \n",
    "        'User-Agent': 'GenePatternRest'})\n",
    "    job_widget.status = 'Writing pdf file to your workspace. This may take a minute.'\n",
    "    with open(basename, \"wb\") as f:\n",
    "        f.write(resp.content)\n",
    "    \n",
    "    job_widget.status = basename+' successfully written to the same folder as this notebook!'\n",
    "    display(IFrame(basename,width, height))\n",
    "    return"
   ]
  },
  {
   "cell_type": "markdown",
   "id": "a14a6f56",
   "metadata": {},
   "source": [
    "<div class=\"alert alert-info\">\n",
    "<p class=\"lead\"> Instructions <i class=\"fa fa-info-circle\"></i></p>  \n",
    "    \n",
    "- Insert a new GenePattern cell below    \n",
    "- Select Seurat.Clustering from the list of available modules\n",
    "- For the **input seurat rds file*** parameter, select the `.rds` output from the `Seurat.Preprocessing` job you submitted earlier\n",
    "- Submit a job with different parameters\n",
    "    - **Note:** when prompted \"You are running in demo mode... would you like to submit job anyway?\" click \"OK\")\n",
    "- Make sure to give it a helpful name by changing the value of the **output filename*** parameter and that you use the output from the Seurat.Preprocessing job that you submitted earlier\n",
    "</div>"
   ]
  },
  {
   "cell_type": "code",
   "execution_count": null,
   "id": "aafd7393",
   "metadata": {},
   "outputs": [],
   "source": []
  },
  {
   "cell_type": "code",
   "execution_count": null,
   "id": "58eef7b3",
   "metadata": {},
   "outputs": [],
   "source": []
  },
  {
   "cell_type": "markdown",
   "id": "a2f2b8ef",
   "metadata": {},
   "source": [
    "# Visualize Marker Expression"
   ]
  },
  {
   "cell_type": "markdown",
   "id": "7f3ef364",
   "metadata": {},
   "source": [
    "Here we Visualize marker expression as violin plots and on a UMap."
   ]
  },
  {
   "cell_type": "markdown",
   "id": "844c070e",
   "metadata": {},
   "source": [
    "<div class=\"alert alert-info\">\n",
    "<p class=\"lead\"> Instructions <i class=\"fa fa-info-circle\"></i></p>  \n",
    "    \n",
    "- For the parameter named **input file** click on the down arrow (<i class=\"fa fa-sort-down\"></i>) and select the `MultipleMyeloma.clustered_1.rds` created by `Seurat.Clustering` \n",
    "- For the parameter named **genes** type the list of genes/markers you would like to visualize. If you write more than one, they have to be separated by a comma and a space. e.g., <code>CD14, LYZ, CCR7, IL7R, S100A4, MS4A1, CD8A, CD19, CD38</code>\n",
    "- For the **output file name*** parameter, type `MultipleMyeloma.Markers_1`\n",
    "</div>"
   ]
  },
  {
   "cell_type": "code",
   "execution_count": 38,
   "id": "754076c1",
   "metadata": {
    "genepattern": {
     "description": "Visualize Marker Expression as violin plots and on a UMap. To be used after Seurat.Clustering",
     "name": "Seurat.VisualizeMarkerExpression",
     "param_values": {
      "genes": null,
      "group_plots": null,
      "input_file": null,
      "job.cpuCount": null,
      "job.memory": null,
      "job.queue": null,
      "job.walltime": null,
      "output_file_name": null
     },
     "type": "task"
    }
   },
   "outputs": [
    {
     "data": {
      "application/vnd.jupyter.widget-view+json": {
       "model_id": "502467016f234262b5805813935a5813",
       "version_major": 2,
       "version_minor": 0
      },
      "text/plain": [
       "GPTaskWidget(lsid='urn:lsid:genepattern.org:module.analysis:00421')"
      ]
     },
     "metadata": {},
     "output_type": "display_data"
    }
   ],
   "source": [
    "seurat_visualizemarkerexpression_task = gp.GPTask(genepattern.session.get(0), 'urn:lsid:genepattern.org:module.analysis:00421')\n",
    "seurat_visualizemarkerexpression_job_spec = seurat_visualizemarkerexpression_task.make_job_spec()\n",
    "seurat_visualizemarkerexpression_job_spec.set_parameter(\"input_file\", \"\")\n",
    "seurat_visualizemarkerexpression_job_spec.set_parameter(\"genes\", \"\")\n",
    "seurat_visualizemarkerexpression_job_spec.set_parameter(\"group_plots\", \"Horizontally\")\n",
    "seurat_visualizemarkerexpression_job_spec.set_parameter(\"output_file_name\", \"\")\n",
    "seurat_visualizemarkerexpression_job_spec.set_parameter(\"job.memory\", \"2 Gb\")\n",
    "seurat_visualizemarkerexpression_job_spec.set_parameter(\"job.walltime\", \"02:00:00\")\n",
    "seurat_visualizemarkerexpression_job_spec.set_parameter(\"job.cpuCount\", \"2\")\n",
    "genepattern.display(seurat_visualizemarkerexpression_task)"
   ]
  },
  {
   "cell_type": "markdown",
   "id": "f01a9a12",
   "metadata": {},
   "source": [
    "<div class=\"alert alert-info\">\n",
    "<p class=\"lead\"> Instructions <i class=\"fa fa-info-circle\"></i></p>  \n",
    "    \n",
    "- For the `PDF to display*` parameter, choose `MultipleMyeloma.Markers_1.pdf`\n",
    "- Click <b>Run</b>\n",
    "</div>"
   ]
  },
  {
   "cell_type": "code",
   "execution_count": 32,
   "id": "dc5f3a29",
   "metadata": {
    "nbtools": {
     "description": "",
     "name": "Display PDF",
     "origin": "Notebook",
     "param_values": {
      "height": 750,
      "image": [],
      "output_var": "output_var",
      "width": 1000
     },
     "show_code": false,
     "type": "uibuilder"
    }
   },
   "outputs": [
    {
     "data": {
      "application/vnd.jupyter.widget-view+json": {
       "model_id": "118ef9294b3841cf893b1fe01b4d4a55",
       "version_major": 2,
       "version_minor": 0
      },
      "text/plain": [
       "UIBuilder(function_import='nbtools.tool(id=\"Display PDF\", origin=\"Notebook\").function_or_method', name='Displa…"
      ]
     },
     "metadata": {},
     "output_type": "display_data"
    },
    {
     "data": {
      "application/javascript": [
       "\n",
       "            NBToolManager.instance().register(new NBToolManager.NBTool({\n",
       "                origin: \"Notebook\",\n",
       "                id: \"Display PDF\",\n",
       "                name: \"Display PDF\",\n",
       "                description: \"\",\n",
       "                version: \"null\",\n",
       "                tags: null,\n",
       "                attributes: null,\n",
       "                load: function() { return true; },\n",
       "                render: function() { let code = \"nbtools.tool(id='Display PDF', origin='Notebook')\";\n",
       "                let cell = Jupyter.notebook.get_selected_cell();\n",
       "                const is_empty = cell.get_text().trim() === \"\";\n",
       "\n",
       "                // If this cell is not empty, insert a new cell and use that\n",
       "                // Otherwise just use this cell\n",
       "                if (!is_empty) {\n",
       "                    cell = Jupyter.notebook.insert_cell_below();\n",
       "                    Jupyter.notebook.select_next();\n",
       "                }\n",
       "\n",
       "                cell.set_text(code);\n",
       "                cell.execute();\n",
       "\n",
       "                return cell; },\n",
       "            }));"
      ]
     },
     "metadata": {},
     "output_type": "display_data"
    }
   ],
   "source": [
    "import os\n",
    "import requests\n",
    "import genepattern\n",
    "from IPython.display import IFrame\n",
    "@genepattern.build_ui(name=\"Display PDF\", parameters={\n",
    "    \"image\": {\n",
    "        \"name\": \"PDF to display:\",\n",
    "        \"description\": \"PDF file (typically named Rplots.pdf) from the Seurat.QC module\",\n",
    "        \"type\": \"file\",\n",
    "        \"kinds\": [\"pdf\"]\n",
    "    },\n",
    "    \"height\":{\"default\":850, \"hide\":True},\n",
    "    \"width\":{\"default\":850, \"hide\":True},\n",
    "    \"output_var\": {\n",
    "        \"default\":\"output_var\",\n",
    "        \"hide\": True\n",
    "    }\n",
    "})\n",
    "def displayPdf(image, height, width):\n",
    "    job_widget = nbtools.UIOutput(status=\"Getting file from the GenePattern server...\")\n",
    "    display(job_widget)\n",
    "    f = gp.GPFile(genepattern.session.get(0), image)\n",
    "    basename=os.path.basename(image)\n",
    "    resp = requests.get(image, headers={\n",
    "        'Authorization': f.server_data.authorization_header(), \n",
    "        'User-Agent': 'GenePatternRest'})\n",
    "    job_widget.status = 'Writing pdf file to your workspace. This may take a minute.'\n",
    "    with open(basename, \"wb\") as f:\n",
    "        f.write(resp.content)\n",
    "    \n",
    "    job_widget.status = basename+' successfully written to the same folder as this notebook!'\n",
    "    display(IFrame(basename,width, height))\n",
    "    return"
   ]
  },
  {
   "cell_type": "markdown",
   "id": "87d3f19b",
   "metadata": {},
   "source": [
    "<div class=\"well well-sm\">\n",
    "<p class=\"lead\"> Results interpretation <i class=\"fa fa-info-circle\"></i></p>   \n",
    "    \n",
    "- Markers of T-Cells (two kinds)\n",
    "- Markers of B-Cells\n",
    "\n",
    "</div>"
   ]
  },
  {
   "cell_type": "markdown",
   "id": "5c081e1d",
   "metadata": {},
   "source": [
    "<div class=\"alert alert-info\">\n",
    "<p class=\"lead\"> Instructions <i class=\"fa fa-info-circle\"></i></p>  \n",
    "    \n",
    "- Insert a new GenePattern cell below    \n",
    "- Select Seurat.VisualizeMarkerExpression from the list of available modules\n",
    "- For the parameter named **input file** click on the down arrow (<i class=\"fa fa-sort-down\"></i>) and select the `.rds` output from `Seurat.Clustering` job you ran above.\n",
    "- Submit a job with the same genes to be visualized (e.g., <code>CD14, LYZ, CCR7, IL7R, S100A4, MS4A1, CD8A, CD19, CD38</code>)\n",
    "- Make sure to give it a helpful name by changing the value of the **output file name*** parameter and that you select the output of the Seurat.Clustering job you submitted earlier \n",
    "    + **Note:** when prompted \"You are running in demo mode... would you like to submit job anyway?\" click \"OK\")\n",
    "- While your job is running/pending, insert a new Display PDF UIBUilder cell below:\n",
    "\n",
    "    + Select the cell below\n",
    "    + Click on `Cell` from the menu above, then `Cell Type``GenePattern` \n",
    "    + In the catalogue that pops out, search `Display PDF` and click on one of the available UIBuilder cell\n",
    "- Display the results of the outputs of the `Seurat.VisualizeMarkerExpression` job you ran\n",
    "</div>"
   ]
  },
  {
   "cell_type": "code",
   "execution_count": null,
   "id": "da4edc60",
   "metadata": {},
   "outputs": [],
   "source": []
  },
  {
   "cell_type": "code",
   "execution_count": null,
   "id": "208b7a48",
   "metadata": {},
   "outputs": [],
   "source": []
  },
  {
   "cell_type": "markdown",
   "id": "2c63a45e",
   "metadata": {},
   "source": [
    "# References\n",
    "\n"
   ]
  },
  {
   "cell_type": "markdown",
   "id": "01d52a42",
   "metadata": {},
   "source": [
    "\n",
    "1. Satija, R., Farrell, J., Gennert, D. et al. Spatial reconstruction of single-cell gene expression data. Nat Biotechnol 33, 495–502 (2015). https://doi.org/10.1038/nbt.3192\n",
    "\n",
    "2. Hao, Yuhan, Stephanie Hao, Erica Andersen-Nissen, William M. Mauck III, Shiwei Zheng, Andrew Butler, Maddie J. Lee, et al. “Integrated Analysis of Multimodal Single-Cell Data.” Cell 184, no. 13 (June 2021): 3573-3587.e29. https://doi.org/10.1016/j.cell.2021.04.048.\n",
    "\n",
    "3. HCA: https://data.humancellatlas.org/explore/projects/0c3b7785-f74d-4091-8616-a68757e4c2a8\n",
    "\n",
    "4. Fan, Jean et al. “Linking transcriptional and genetic tumor heterogeneity through allele analysis of single-cell RNA-seq data.” Genome research vol. 28,8 (2018): 1217-1227. doi:10.1101/gr.228080.117 -- https://www.ncbi.nlm.nih.gov/pmc/articles/PMC6071640/\n",
    "\n",
    "5. Alterations in the Transcriptional Programs of Myeloma Cells and the Microenvironment during Extramedullary Progression Affect Proliferation and Immune Evasion\n",
    "Daeun Ryu, Seok Jin Kim, Yourae Hong, Areum Jo, Nayoung Kim, Hee-Jin Kim, Hae-Ock Lee, Kihyun Kim and Woong-Yang Park\n",
    "Clin Cancer Res February 15 2020 (26) (4) 935-944; DOI: 10.1158/1078-0432.CCR-19-0694 -- https://clincancerres.aacrjournals.org/content/26/4/935.long#sec-6\n"
   ]
  },
  {
   "cell_type": "code",
   "execution_count": null,
   "id": "f2551e66",
   "metadata": {},
   "outputs": [],
   "source": []
  }
 ],
 "metadata": {
  "kernelspec": {
   "display_name": "Python 3",
   "language": "python",
   "name": "python3"
  },
  "language_info": {
   "codemirror_mode": {
    "name": "ipython",
    "version": 3
   },
   "file_extension": ".py",
   "mimetype": "text/x-python",
   "name": "python",
   "nbconvert_exporter": "python",
   "pygments_lexer": "ipython3",
   "version": "3.9.2"
  },
  "toc": {
   "base_numbering": 1,
   "nav_menu": {},
   "number_sections": false,
   "sideBar": true,
   "skip_h1_title": false,
   "title_cell": "Table of Contents",
   "title_sidebar": "Contents",
   "toc_cell": false,
   "toc_position": {},
   "toc_section_display": true,
   "toc_window_display": false
  }
 },
 "nbformat": 4,
 "nbformat_minor": 5
}
