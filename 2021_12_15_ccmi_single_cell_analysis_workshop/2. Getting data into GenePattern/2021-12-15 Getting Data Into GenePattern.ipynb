{
 "cells": [
  {
   "cell_type": "code",
   "execution_count": 12,
   "id": "82afd816",
   "metadata": {
    "genepattern": {
     "name": "Login",
     "server": "https://cloud.genepattern.org/gp",
     "type": "auth"
    }
   },
   "outputs": [
    {
     "data": {
      "application/vnd.jupyter.widget-view+json": {
       "model_id": "91dc52f68aeb43beb8bab5661a213a9d",
       "version_major": 2,
       "version_minor": 0
      },
      "text/plain": [
       "GPAuthWidget()"
      ]
     },
     "metadata": {},
     "output_type": "display_data"
    }
   ],
   "source": [
    "# Requires GenePattern Notebook: pip install genepattern-notebook\n",
    "import gp\n",
    "import genepattern\n",
    "\n",
    "# Username and password removed for security reasons.\n",
    "genepattern.display(genepattern.session.register(\"https://cloud.genepattern.org/gp\", \"\", \"\"))"
   ]
  },
  {
   "cell_type": "markdown",
   "id": "d8aea7cc",
   "metadata": {},
   "source": [
    "<div class=\"alert alert-info\">\n",
    "<p class=\"lead\"> Instructions <i class=\"fa fa-info-circle\"></i></p>\n",
    "    1. Click <b>Run</b> in the cell below to activate Demo mode.\n",
    "</div>\n"
   ]
  },
  {
   "cell_type": "code",
   "execution_count": 7,
   "id": "6372c970",
   "metadata": {
    "nbtools": {
     "description": "Enable demo mode for this notebook",
     "name": "activate_demo_mode",
     "origin": "Notebook",
     "param_values": {
      "output_var": ""
     },
     "show_code": false,
     "type": "uibuilder"
    }
   },
   "outputs": [
    {
     "data": {
      "application/vnd.jupyter.widget-view+json": {
       "model_id": "b488cdcaf9a9486d918565f5a7645b75",
       "version_major": 2,
       "version_minor": 0
      },
      "text/plain": [
       "UIBuilder(description='Enable demo mode for this notebook', function_import='nbtools.tool(id=\"activate_demo_mo…"
      ]
     },
     "metadata": {},
     "output_type": "display_data"
    },
    {
     "data": {
      "application/javascript": [
       "\n",
       "            NBToolManager.instance().register(new NBToolManager.NBTool({\n",
       "                origin: \"Notebook\",\n",
       "                id: \"activate_demo_mode\",\n",
       "                name: \"activate_demo_mode\",\n",
       "                description: \"Enable demo mode for this notebook\",\n",
       "                version: \"null\",\n",
       "                tags: null,\n",
       "                attributes: null,\n",
       "                load: function() { return true; },\n",
       "                render: function() { let code = \"nbtools.tool(id='activate_demo_mode', origin='Notebook')\";\n",
       "                let cell = Jupyter.notebook.get_selected_cell();\n",
       "                const is_empty = cell.get_text().trim() === \"\";\n",
       "\n",
       "                // If this cell is not empty, insert a new cell and use that\n",
       "                // Otherwise just use this cell\n",
       "                if (!is_empty) {\n",
       "                    cell = Jupyter.notebook.insert_cell_below();\n",
       "                    Jupyter.notebook.select_next();\n",
       "                }\n",
       "\n",
       "                cell.set_text(code);\n",
       "                cell.execute();\n",
       "\n",
       "                return cell; },\n",
       "            }));"
      ]
     },
     "metadata": {},
     "output_type": "display_data"
    }
   ],
   "source": [
    "import nbtools\n",
    "import demo_mode\n",
    "from IPython.display import display, HTML\n",
    "\n",
    "@nbtools.build_ui(parameters={'output_var': {'hide': True}})\n",
    "def activate_demo_mode():\n",
    "    \"\"\"Enable demo mode for this notebook\"\"\"\n",
    "    \n",
    "    # Any job you enable as a demo job will need to be listed here, \n",
    "    # along with the module name and any parameters you want matched.\n",
    "    # Parameters that are not listed will not be matched. You can \n",
    "    # list the same module multiple times, assuming you use different \n",
    "    # parameter match sets.\n",
    "    \n",
    "    demo_mode.set_demo_jobs([\n",
    "        \n",
    "        {\n",
    "            'name': 'CollapseDataset',\n",
    "            'job': 398423,\n",
    "            'params': {\n",
    "                'dataset.file':'all_genes_unversioned.gct',\n",
    "                'chip.platform': 'ENSEMBL_human_gene.chip', \n",
    "                'collapse.mode':'Sum_of_probes',\n",
    "                'output.file.name':'all_genes_hugo.gct',\n",
    "            }\n",
    "        },\n",
    "        {\n",
    "            'name': 'ConvertLineEndings',\n",
    "            'job': 398422,   # Make sure to set the permissions of any demo job to 'public'\n",
    "            'params': {\n",
    "                'input.filename': 'all_aml_train.gct',\n",
    "            }\n",
    "        }\n",
    "    ])\n",
    "\n",
    "\n",
    "    # To activate demo mode, just call activate(). This example wraps \n",
    "    # the activation call behind a UI Builder cell, but you could have \n",
    "    # it called in different ways.\n",
    "\n",
    "    demo_mode.activate()\n",
    "    display(HTML('<div class=\"alert alert-success\">Demo mode activated</div>'))\n",
    "    \n",
    "    # The code in this call has been left expanded for tutorial purposes"
   ]
  },
  {
   "cell_type": "markdown",
   "id": "7969e945",
   "metadata": {},
   "source": [
    "#  Part 1: Getting Data into GenePattern and GenePattern Notebook\n",
    "\n",
    "In this notebook we are going to cover the different ways you can get your data into the GenePattern ecosystem so that it can be analyzed.  \n",
    "\n",
    "\n",
    "## GenePattern, GenePattern Notebook and your computer\n",
    "\n",
    "<img src=\"https://datasets.genepattern.org/images/Workshop%20Notebooks/GettingDataIntoGPNB/gp_ecosystem.png?a=b\" width=\"700px\">\n",
    "\n",
    "In todays workshop you have been working in a web browser on your own computer.  You are probably used to the idea that when you are in a browser you are getting the web pages from another computer somewhere out on the internet.  For this notebook, the **GenePattern Notebook Workspace** (GPNB) at https://notebook.genepattern.org is the remote host providing the notebook.  When your are executing Python code and UIBuilder cells (with the dark grey title bars), this is the computer that is doing the actual work.\n",
    "\n",
    "However since the GPNB server has limited CPU, its memory is shared between multiple users, it runs synchronously (i.e. it ties up the notebook in your browser while jobs are running), for many analyses we want to off load them and let the GenePattern server run them instead. To handle big jobs and/or lots of jobs at the same time, the GenePattern server will borrow a computer with the desired memory and number of CPUs from a high-performance computing environment (AWS Batch, San Diego Super Computer's Expanse system, etc) and then sends the job there to be run.  When you are running GenePattern modules (with the blue title bars) this is what is happening.\n",
    "\n",
    "The advantages of running analyses as GenePattern modules instead of in the notebook are;\n",
    "- Supports many more simultaneous analyses\n",
    "- Supports much larger available memory (up to 128+ GB)\n",
    "- Supports many CPUs (up to 64+) for faster processing of parallel workloads\n",
    "- support multiple programming languages (R, Python, Java, etc)\n",
    "- Supports 'special' processors such as GPUs for analyses that can take advantage of them\n",
    "\n",
    "Also, since your browser is not \"in the loop\" anymore, once an analysis is started you can shut down your computer after it is started and come back hours or days later to get the results without worrying about time-outs or sessions closing due to inactivity.\n",
    "\n",
    "The downside of this is that now we have an additional server to which we must send your data files.  In this section we will cover sending data to the GenePattern server (and not the GenePattern Notebook Server) to be analyzed by GenePattern analysis modules.  We will detail getting data into the notebook itself later in this notebook.\n",
    "\n"
   ]
  },
  {
   "cell_type": "markdown",
   "id": "8849df80",
   "metadata": {},
   "source": [
    "## Uploading a file from your computer\n",
    "\n",
    "When we want to send a data file to the GenePattern server, we can do it directly from a module's analysis cell.  We do this using the \"Upload File\" button that is provided for GenePattern modules. \n",
    "\n",
    "For example lets run a very simple module (ConvertLineEndings) below.  This analysis simply changes the line endings of a text file from Window's format to Linux format (don't worry if this means nothing to you, this is just an example module that runs pretty quickly)."
   ]
  },
  {
   "cell_type": "markdown",
   "id": "054e68ed",
   "metadata": {},
   "source": [
    "<div class=\"alert alert-info\">\n",
    "<p class=\"lead\"> Instructions <i class=\"fa fa-info-circle\"></i></p>\n",
    "    <ol>\n",
    "        <li>Click on the <b>\"Upload File\"</b> button beside the <b>\"input filename *\"</b> label.</li>\n",
    "        <li>Select a small text file on your computer and hit the <b>\"Open\"</b> button.</li>\n",
    "        <li>Click the <b>\"Run\"</b> button in the cell.</li>\n",
    "        <li>When you are warned that this notebook is in demo mode you can choose either <b>\"OK\"</b> or <b>\"Cancel\"</b>.  Either is fine as we will not be using the outputs from this job.</li> \n",
    "    </ol>\n",
    "    When this (or any) module's execution completes, it will add an output cell into the notebook with links to the job's output files.  \n",
    "Don't worry about what to do with these files yet, we will look at some more interesting examples later in this notebook.\n"
   ]
  },
  {
   "cell_type": "code",
   "execution_count": 13,
   "id": "84d6464c",
   "metadata": {
    "genepattern": {
     "description": "Converts line endings to the host operating system's format.",
     "name": "ConvertLineEndings",
     "param_values": {
      "input.filename": null,
      "job.cpuCount": null,
      "job.memory": null,
      "job.queue": null,
      "job.walltime": null,
      "output.file": null
     },
     "show_code": false,
     "type": "task"
    }
   },
   "outputs": [
    {
     "data": {
      "application/vnd.jupyter.widget-view+json": {
       "model_id": "baeffaa4777c4a5daa438f0797eeca0c",
       "version_major": 2,
       "version_minor": 0
      },
      "text/plain": [
       "GPTaskWidget(lsid='urn:lsid:broad.mit.edu:cancer.software.genepattern.module.analysis:00002')"
      ]
     },
     "metadata": {},
     "output_type": "display_data"
    }
   ],
   "source": [
    "convertlineendings_task = gp.GPTask(genepattern.session.get(0), 'urn:lsid:broad.mit.edu:cancer.software.genepattern.module.analysis:00002')\n",
    "convertlineendings_job_spec = convertlineendings_task.make_job_spec()\n",
    "convertlineendings_job_spec.set_parameter(\"input.filename\", \"\")\n",
    "convertlineendings_job_spec.set_parameter(\"output.file\", \"<input.filename_basename>.cvt.<input.filename_extension>\")\n",
    "convertlineendings_job_spec.set_parameter(\"job.memory\", \"2 Gb\")\n",
    "convertlineendings_job_spec.set_parameter(\"job.queue\", \"gp-cloud-default\")\n",
    "convertlineendings_job_spec.set_parameter(\"job.cpuCount\", \"1\")\n",
    "convertlineendings_job_spec.set_parameter(\"job.walltime\", \"02:00:00\")\n",
    "genepattern.display(convertlineendings_task)"
   ]
  },
  {
   "cell_type": "markdown",
   "id": "5568528f",
   "metadata": {},
   "source": [
    "\n",
    "When you hit \"Run\" your browser uploaded the file to the GenePattern server.  This bypassed the GenePattern Notebook server which will not see the file at all.  Once the GenePattern server got the file it did the analysis (getting a compute node, putting the data file onto it, launching the analyses, making sure it completes and finally capturing the output files).  The GenePattern notebook just sat on the sidelines watching this and once the job was done, it created the links to the output files that were generated.\n",
    "\n",
    "Only module parameters that accept files will have the \"Upload File\" button present.  In the ConvertLineEndings module above the \"output file*\" parameter does not because that just wants a text filename to use for the output, not an actual file."
   ]
  },
  {
   "cell_type": "markdown",
   "id": "d9ee6cfc",
   "metadata": {},
   "source": [
    "## Uploading a URL\n",
    "\n",
    "As with uploading files, you can send the URL directly to the GenePattern server in a module's dialog.\n",
    "\n",
    "<div class=\"alert alert-info\">\n",
    "<p class=\"lead\"> Instructions <i class=\"fa fa-info-circle\"></i></p>\n",
    "    <ol>\n",
    "        <li>Drag this link <code><a href=\"https://datasets.genepattern.org/data/all_aml/all_aml_train.gct\">https://datasets.genepattern.org/data/all_aml/all_aml_train.gct</a></code> into the text area beside <b>\"input filename *\"</b> label (it says \"Add File or URL\") when empty.</li>\n",
    "        <li>Click the <b>\"Run\"</b> button in the cell.</li>\n",
    "    "
   ]
  },
  {
   "cell_type": "code",
   "execution_count": 14,
   "id": "5c6482fa",
   "metadata": {
    "genepattern": {
     "description": "Converts line endings to the host operating system's format.",
     "name": "ConvertLineEndings",
     "param_values": {
      "input.filename": null,
      "job.cpuCount": null,
      "job.memory": null,
      "job.queue": null,
      "job.walltime": null,
      "output.file": null
     },
     "show_code": true,
     "type": "task"
    }
   },
   "outputs": [
    {
     "data": {
      "application/vnd.jupyter.widget-view+json": {
       "model_id": "761eedeed43e4f91ad2dab2d8e2559ea",
       "version_major": 2,
       "version_minor": 0
      },
      "text/plain": [
       "GPTaskWidget(lsid='urn:lsid:broad.mit.edu:cancer.software.genepattern.module.analysis:00002')"
      ]
     },
     "metadata": {},
     "output_type": "display_data"
    }
   ],
   "source": [
    "convertlineendings_task = gp.GPTask(genepattern.session.get(0), 'urn:lsid:broad.mit.edu:cancer.software.genepattern.module.analysis:00002')\n",
    "convertlineendings_job_spec = convertlineendings_task.make_job_spec()\n",
    "convertlineendings_job_spec.set_parameter(\"input.filename\", \"\")\n",
    "convertlineendings_job_spec.set_parameter(\"output.file\", \"<input.filename_basename>.cvt.<input.filename_extension>\")\n",
    "convertlineendings_job_spec.set_parameter(\"job.memory\", \"2 Gb\")\n",
    "convertlineendings_job_spec.set_parameter(\"job.queue\", \"gp-cloud-default\")\n",
    "convertlineendings_job_spec.set_parameter(\"job.cpuCount\", \"1\")\n",
    "convertlineendings_job_spec.set_parameter(\"job.walltime\", \"02:00:00\")\n",
    "genepattern.display(convertlineendings_task)"
   ]
  },
  {
   "cell_type": "markdown",
   "id": "159afd25",
   "metadata": {},
   "source": [
    "In this case when you hit run things are just slightly different than when you uploaded a file.  Instead of sending the file to GenePattern, it just sends the URL.  The GenePattern server gets a compute node as before and then downloads that URL on the compute node.  After that everything else proceeds as before.\n",
    "\n",
    "<div class=\"alert alert-warning\">\n",
    "<p class=\"lead\"> Important <i class=\"fa fa-exclamation-triangle\"></i></p>\n",
    "Any URLs you pass to GenePattern must be publicly accessible.  If a login is required to access it, the GenePattern compute node won't be able to read it.\n",
    "</div>"
   ]
  },
  {
   "cell_type": "markdown",
   "id": "d73da376",
   "metadata": {},
   "source": [
    "## Uploading a file to the Notebook server\n",
    "\n",
    "Remember that the GenePattern Notebook server is a different machine from GenePattern so we upload to it slightly differently.\n",
    "\n",
    "<div class=\"alert alert-info\">\n",
    "<p class=\"lead\"> Instructions <i class=\"fa fa-info-circle\"></i></p>\n",
    "    <b>Right click</b> on the <b>\"GenePattern Notebook\" header</b> at the very top-right of this page and select <b>\"Open in new tab\"</b>.\n",
    "</div>\n",
    "\n",
    "Now in the new tab (or window) you can see the main hub page you should see a directory listing showing\n",
    "* \\<This Notebook\\>.ipynb\n",
    "* test_data/\n",
    "* <i>\\<possibly some other files\\></i>\n",
    "    \n",
    "You an upload additional files in that window as well if you want to put them on the GPNB server.\n",
    "\n",
    "<div class=\"alert alert-info\">\n",
    "<p class=\"lead\"> Instructions <i class=\"fa fa-info-circle\"></i></p>\n",
    "    <ol>\n",
    "        <li>Read these instructions to the end (you will be working in another window).</li>\n",
    "        <li>In your browser, <b>Click</b> on the tab you just opened.</li>\n",
    "        <li>Click on the <b>\"Upload\" button</b></li>\n",
    "        <li>Select a file on your laptop and then click <b>\"OK\"</b></li>\n",
    "        <li>On the row for your file, <b>Click</b> on the new <b>\"Upload\"</b> button at the right edge. </li>\n",
    "    </ol>    \n",
    "\n",
    "This is the  simplest method for getting files onto your notebook server.  Once a file is there you can use Python to read the contents into a variable.  If you are not a Python Programmer don't worry because you can do almost everything in GenePattern and GenePattern Notebook without programming"
   ]
  },
  {
   "cell_type": "markdown",
   "id": "a2008a89",
   "metadata": {},
   "source": [
    "## Uploading a file from the Notebook to GenePattern\n",
    "\n",
    "Now we will do one more transfer, this time sending a file from the notebook server to the GenePattern server.\n"
   ]
  },
  {
   "cell_type": "markdown",
   "id": "6d5dd1ec",
   "metadata": {},
   "source": [
    "<div class=\"alert alert-info\">\n",
    "<p class=\"lead\"> Instructions <i class=\"fa fa-info-circle\"></i></p>\n",
    "<ol>\n",
    "    <li>Upload the file named <code>'test_data/all_aml_test.gct'</code> in the current Notebook  folder by putting its name into the <b>\"filename and path\"</b> parameter in the first cell below</li>\n",
    "    <li><b>Click</b> \"Run\".</li>\n",
    "</div>"
   ]
  },
  {
   "cell_type": "code",
   "execution_count": 8,
   "id": "d2cdf46d",
   "metadata": {
    "nbtools": {
     "description": "Upload a file from the Notebook to the GenePattern server ",
     "name": "Upload from Notebook server to GenePattern",
     "origin": "Notebook",
     "param_values": {
      "filename": "test_data/all_aml_test.gct",
      "filenameAndPath": "test_data/all_aml_test.gct",
      "filename_and_path": "",
      "output_var": ""
     },
     "show_code": false,
     "type": "uibuilder"
    }
   },
   "outputs": [
    {
     "data": {
      "application/vnd.jupyter.widget-view+json": {
       "model_id": "474637ec262047ef8b319f1acaeda557",
       "version_major": 2,
       "version_minor": 0
      },
      "text/plain": [
       "UIBuilder(collapse=False, description='Upload a file from the Notebook to the GenePattern server ', function_i…"
      ]
     },
     "metadata": {},
     "output_type": "display_data"
    },
    {
     "data": {
      "application/javascript": [
       "\n",
       "            NBToolManager.instance().register(new NBToolManager.NBTool({\n",
       "                origin: \"Notebook\",\n",
       "                id: \"Upload from Notebook server to GenePattern\",\n",
       "                name: \"Upload from Notebook server to GenePattern\",\n",
       "                description: \"Upload a file from the Notebook to the GenePattern server \",\n",
       "                version: \"null\",\n",
       "                tags: null,\n",
       "                attributes: null,\n",
       "                load: function() { return true; },\n",
       "                render: function() { let code = \"nbtools.tool(id='Upload from Notebook server to GenePattern', origin='Notebook')\";\n",
       "                let cell = Jupyter.notebook.get_selected_cell();\n",
       "                const is_empty = cell.get_text().trim() === \"\";\n",
       "\n",
       "                // If this cell is not empty, insert a new cell and use that\n",
       "                // Otherwise just use this cell\n",
       "                if (!is_empty) {\n",
       "                    cell = Jupyter.notebook.insert_cell_below();\n",
       "                    Jupyter.notebook.select_next();\n",
       "                }\n",
       "\n",
       "                cell.set_text(code);\n",
       "                cell.execute();\n",
       "\n",
       "                return cell; },\n",
       "            }));"
      ]
     },
     "metadata": {},
     "output_type": "display_data"
    }
   ],
   "source": [
    "@genepattern.build_ui(name=\"Upload from Notebook server to GenePattern\",collapse=False,description=\"Upload a file from the Notebook to the GenePattern server \", \n",
    "                      parameters={  \"output_var\":{\"hide\": True,},})\n",
    "# upload the local file onto the GenePattern server so we can use it in the module\n",
    "def uploadLocalNotebookFile(filename_and_path):\n",
    "    filename = filenameAndPath.split(\"/\")[1]\n",
    "    uploaded = genepattern.get_session(0).upload_file(filename, filenameAndPath)\n",
    "    uploaded_url = uploaded.get_url()\n",
    "    display(genepattern.GPUIOutput(files=[uploaded_url]))"
   ]
  },
  {
   "cell_type": "markdown",
   "id": "6984164a",
   "metadata": {},
   "source": [
    "What happened here is the UIBuilder cell above (titled: \"Upload from Notebook Server to GenePattern\") pushed the file to the GenePattern main server itself.  Then it displayed the URL on the GenePattern server.  You can now use this as an input URL to a module as in the earlier example.\n",
    "\n",
    "Links on the GenePattern server itself are the exception to the rule about publicly accessible links.  Normally these links (including links to output files from GenePattern modules) are only usable by the logged in GenePattern user who created them but since this is happening within GenePattern itself it can handle all of the security checks internally."
   ]
  },
  {
   "cell_type": "markdown",
   "id": "8bb945dc",
   "metadata": {},
   "source": [
    "# GenePattern Output Files\n",
    "\n",
    "At this point its important to point out that the results from the analysis on the GenePattern server are still **ONLY** on the GenePattern server, and they are **NOT** in the notebook or on the notebook server.  To get the resulting data into the notebook we have to take an additional step.  Luckily the GPNB environment makes this very easy.  We can either use \"Send to code\" to get a Python file representation of the data out on the GenePattern server, or, for some data formats like GCT, we can \"Send to Dataframe\" which will pull the datafile from the file on the GenePattern server, into a python dataframe object within the notebook.\n"
   ]
  },
  {
   "cell_type": "markdown",
   "id": "390a4a75",
   "metadata": {},
   "source": [
    "### Send to DataFrame\n",
    "For certain common GenePattern file formats—such as GCT and ODF—we go a step beyond generating links to output files. With these we a,so make it easy to import and indexing that data into a Pandas Dataframe.\n",
    "\n",
    "Dataframes are a structure used for many forms of tabular data in Python. They come with a large number of built-in functions to make it easy to analyze and visualize your data in python.  Pandas is an extremely popular Python library for reading and working with large datasets and adds additional useful functions to dataframes. It’s a staple of doing most any sort of data science in Python.\n",
    "\n",
    "<div class=\"alert alert-info\">\n",
    "<h3 style=\"margin-top: 0;\"> Instructions <i class=\"fa fa-info-circle\"></i></h3>\n",
    "<ol><li>In the Job result below, Click on the \n",
    "<code>`all_aml_train.cvt.gct`</code>\n",
    "output and select <b>Send to Dataframe.</b> This will create a code cell immediately below the job cell.</li></ol></div>\n"
   ]
  },
  {
   "cell_type": "code",
   "execution_count": 15,
   "id": "5b504523",
   "metadata": {
    "genepattern": {
     "name": "Job #387655",
     "type": "job"
    }
   },
   "outputs": [
    {
     "data": {
      "application/vnd.jupyter.widget-view+json": {
       "model_id": "279c076102fb44bfb5caf5accf1e2b48",
       "version_major": 2,
       "version_minor": 0
      },
      "text/plain": [
       "GPJobWidget(job_number=387655)"
      ]
     },
     "metadata": {},
     "output_type": "display_data"
    }
   ],
   "source": [
    "job387655 = gp.GPJob(genepattern.session.get(0), 387655)\n",
    "genepattern.display(job387655)"
   ]
  },
  {
   "cell_type": "markdown",
   "id": "9a97c719",
   "metadata": {},
   "source": [
    "\n",
    "<p>For python programmers you can also use the \"Send to Code\" option. This will insert a snippet of code that accesses a GenePattern server result as a GPFile object that you can work with as if it were a local python File object.</p>\n"
   ]
  },
  {
   "cell_type": "markdown",
   "id": "c461aefb",
   "metadata": {},
   "source": [
    "# Part 2: GenePattern File Formats\n",
    "\n",
    "For the exercises you have just done, we have been working with \"GCT\" files.  This is one of several common formats that you might encounter when working with GenePattern, GenePattern Notebook and GenePattern modules.\n",
    "\n",
    "The GenePattern server and GenePattern Notebook do not themselves care at all about file formats, but the analyses that you run through them generally do.  GenePattern modules will expect a particular format (e.g. a GCT file) while python functions in GenePattern Notebook may desire a different format (e.g. hdf5) or a specific kind (class) of python object (e.g. a Panda's dataframe).\n",
    "\n",
    "The important thing to know is what is expected by the function or module that you want to use.  Usually this will be documented in the Notebook itself or the GenePattern module documentation.\n",
    "\n",
    "Since we will be working with **gct** files in our analyses during this workshop, lets take a quick look at this file format.\n"
   ]
  },
  {
   "cell_type": "markdown",
   "id": "5b6e5e20",
   "metadata": {},
   "source": [
    "## GCT File format\n",
    "\n",
    "- Tab delimited\n",
    "- Originally used for bulk Gene expression data but can be used for any matrix data\n",
    "- Represents a Matrix\n",
    "    - Columns = samples\n",
    "    - rows = features such as genes\n",
    "    \n",
    "<img src=\"https://datasets.genepattern.org/images/Workshop%20Notebooks/GettingDataIntoGPNB/gct_format.png?a=b\" width=\"700px\"></img>"
   ]
  },
  {
   "cell_type": "markdown",
   "id": "3acf2f02",
   "metadata": {},
   "source": [
    "## File Format documentation\n",
    "\n",
    "For details about these, and 26 of the other formats you will commonly encounter in GenePattern, you can refer to the <a href=\"https://www.genepattern.org/file-formats-guide\">GenePattern File Formats Guide</a>.\n",
    "\n",
    "\n",
    "GCT File Documentation:  <a href=\"https://www.genepattern.org/file-formats-guide#GCT\">link</a>.\n"
   ]
  },
  {
   "cell_type": "markdown",
   "id": "2c62efa2",
   "metadata": {},
   "source": [
    "# Part 3: Getting your data into the GCT format\n",
    "\n",
    "So given that many if not most GenePattern analysis modules like to work with data in this format, how do you get the data you already have ready to be used?\n"
   ]
  },
  {
   "cell_type": "markdown",
   "id": "fc4c0157",
   "metadata": {},
   "source": [
    "<div class=\"alert alert-warning\">\n",
    "<p class=\"lead\"> Warning <i class=\"fa fa-exclamation-triangle\"></i></p>\n",
    "Do not use Microsoft Excel to manipulate your transcriptomic data.  It tends to automatically assign cell formats that can mess up your resulting file.\n",
    "</div>"
   ]
  },
  {
   "cell_type": "markdown",
   "id": "a8a8da70",
   "metadata": {},
   "source": [
    "Getting your data into the gct format differs depending on what you are starting with.\n",
    "\n",
    "If you already have a tab delimited file you might be able to simply edit it by adding the 2 header rows and the name and description columns.\n",
    "\n",
    "If you are starting with RNASeq counts data, there are analysis modules that can create the gct file for you."
   ]
  },
  {
   "cell_type": "markdown",
   "id": "6fa4e7ea",
   "metadata": {},
   "source": [
    "## Starting with a tab sepeated values (tsv) file\n",
    "\n",
    "Often researchers will receive their data from a sequencing center in the form of a csv (comma seperated values) or tsv (tab seperated values) formatted text file.  Here we will take an example of such a file (provided by the UCSD Center for Computational Biology and Bioinformatics) and show you how to get it into gct format for processing in GenePattern.  This sample data is in the folder test_data/CCBB_Data in this project in a file called 'all_genes_results.txt'.\n",
    "\n",
    "To convert this tab seperated file, we will use Pandas to load it into a dataframe and set the appropriate index, then we can use the GenePattern Python library to write it as a gct file in this notebook's file system.  \n",
    "\n",
    "We have wrapped the actual code here with a UIBuilder cell which you can copy into other notebooks should you want to reuse it.  You will need to know the column names in the tsv file that correspond to the gene name and description, and the suffix for the value you with to use in the gct file (e.g. TPM, counts, FPKM).   "
   ]
  },
  {
   "cell_type": "markdown",
   "id": "67bb0cbe",
   "metadata": {},
   "source": [
    "## Our example data:  testdata/CCBB_Data/all_genes_results.txt\n",
    "\n",
    "Because of the large number of columns and the long column names its hard to easily view the head of this file in a browser since it gets too wide to display. Lets list the columns here vertically instead.\n",
    "\n",
    "<div class=\"alert alert-info\">\n",
    "<p class=\"lead\"> Instructions <i class=\"fa fa-info-circle\"></i></p>\n",
    "    <ol>\n",
    "        <li>Set the <b>filenameAndpath</b> parameter to <code>\"test_data/CCBB_Data/all_genes_results.txt\"</code></li>\n",
    "        <li>Click <b>'Run'</b>.</li>\n",
    "    </ol>\n",
    "</div>\n"
   ]
  },
  {
   "cell_type": "code",
   "execution_count": 9,
   "id": "9713000e",
   "metadata": {
    "nbtools": {
     "description": "Display the column names from a text file.",
     "name": "listColumnNames",
     "origin": "Notebook",
     "param_values": {
      "filenameAndPath": "test_data/CCBB_Data/all_genes_results.txt",
      "output_var": ""
     },
     "show_code": false,
     "type": "uibuilder"
    }
   },
   "outputs": [
    {
     "data": {
      "application/vnd.jupyter.widget-view+json": {
       "model_id": "76b8e51e5c6846d2bddcb000e5bdfee8",
       "version_major": 2,
       "version_minor": 0
      },
      "text/plain": [
       "UIBuilder(collapse=False, description='Display the column names from a text file.', function_import='nbtools.t…"
      ]
     },
     "metadata": {},
     "output_type": "display_data"
    },
    {
     "data": {
      "application/javascript": [
       "\n",
       "            NBToolManager.instance().register(new NBToolManager.NBTool({\n",
       "                origin: \"Notebook\",\n",
       "                id: \"listColumnNames\",\n",
       "                name: \"listColumnNames\",\n",
       "                description: \"Display the column names from a text file.\",\n",
       "                version: \"null\",\n",
       "                tags: null,\n",
       "                attributes: null,\n",
       "                load: function() { return true; },\n",
       "                render: function() { let code = \"nbtools.tool(id='listColumnNames', origin='Notebook')\";\n",
       "                let cell = Jupyter.notebook.get_selected_cell();\n",
       "                const is_empty = cell.get_text().trim() === \"\";\n",
       "\n",
       "                // If this cell is not empty, insert a new cell and use that\n",
       "                // Otherwise just use this cell\n",
       "                if (!is_empty) {\n",
       "                    cell = Jupyter.notebook.insert_cell_below();\n",
       "                    Jupyter.notebook.select_next();\n",
       "                }\n",
       "\n",
       "                cell.set_text(code);\n",
       "                cell.execute();\n",
       "\n",
       "                return cell; },\n",
       "            }));"
      ]
     },
     "metadata": {},
     "output_type": "display_data"
    }
   ],
   "source": [
    "@genepattern.build_ui(collapse=False, description=\"Display the column names from a text file.\", \n",
    "                      parameters={  \"output_var\":{\"hide\": True,},})\n",
    "def listColumnNames(filenameAndPath):\n",
    "    df = pd.read_csv( filenameAndPath, sep='\\t', header=0, index_col=False)\n",
    "    display(list(df.columns.values))"
   ]
  },
  {
   "cell_type": "markdown",
   "id": "ac68aaee",
   "metadata": {},
   "source": [
    "So from this listing we can interpret the following details about the column names in this spreadsheet;\n",
    "<table style=\"margin-left:10px;\">\n",
    "<tr><td>Index column name:</td><td>gene_id</td></tr>\n",
    "<tr><td>Description column name:</td><td>  transcript_id(s)</td></tr>\n",
    "<tr><td>counts column suffix:</td><td>  expected_count</td></tr>\n",
    "<tr><td>TPM column suffix:</td><td> TPM</td></tr>\n",
    "<tr><td>FPKM column suffix:</td><td>  FPKM</td></tr>\n",
    "</table>\n",
    "\n",
    "Now that we know the column name patterns we can use them to select which columns we want to put into our gct file.  For this example, we will put the counts columns into our gct matrix.  We will use the Pandas python library to transform our text file into a gct file we can analyze with downstream tools, but as before we have wrapped it in a GenePattern UIBuilder cell so that you can use it without dealing directly with the code."
   ]
  },
  {
   "cell_type": "markdown",
   "id": "98872600",
   "metadata": {},
   "source": [
    "<div class=\"alert alert-info\">\n",
    "<p class=\"lead\"> Instructions <i class=\"fa fa-info-circle\"></i></p>\n",
    "    Enter the following parameter values;\n",
    "    <ul>\n",
    "        <li>input filename: <code>\"test_data/CCBB_Data/all_genes_results.txt\"</code></li>\n",
    "        <li>output filename: <code>\"all_genes_results.gct\"</code></li>\n",
    "        <li>index column: <code>\"gene_id\"</code></li>\n",
    "        <li>description_column: <code>\"transcript_id(s)\"</code></li>\n",
    "        <li>values column suffix: <code>\"count\"</code>\n",
    "    </ul>\n",
    "    Click <b>'Run'<b>.\n",
    "</div>"
   ]
  },
  {
   "cell_type": "code",
   "execution_count": 10,
   "id": "d59b5c26",
   "metadata": {
    "nbtools": {
     "description": "Upload gct to the server ",
     "name": "convertTabularDataIntoGCT",
     "origin": "Notebook",
     "param_values": {
      "description_column": "transcript_id(s)",
      "index_column": "gene_id",
      "index_columns": "[\"gene_id\",\"transcript_id(s)\"]",
      "input_filename": "test_data/CCBB_Data/all_genes_results.txt",
      "output_filename": "all_genes_results.gct",
      "output_var": "",
      "values_column_suffix": "count"
     },
     "show_code": false,
     "type": "uibuilder"
    },
    "scrolled": false
   },
   "outputs": [
    {
     "data": {
      "application/vnd.jupyter.widget-view+json": {
       "model_id": "269c970464ed42f8900e08bc0b28bff8",
       "version_major": 2,
       "version_minor": 0
      },
      "text/plain": [
       "UIBuilder(collapse=False, description='Upload gct to the server ', function_import='nbtools.tool(id=\"convertTa…"
      ]
     },
     "metadata": {},
     "output_type": "display_data"
    },
    {
     "data": {
      "application/javascript": [
       "\n",
       "            NBToolManager.instance().register(new NBToolManager.NBTool({\n",
       "                origin: \"Notebook\",\n",
       "                id: \"convertTabularDataIntoGCT\",\n",
       "                name: \"convertTabularDataIntoGCT\",\n",
       "                description: \"Upload gct to the server \",\n",
       "                version: \"null\",\n",
       "                tags: null,\n",
       "                attributes: null,\n",
       "                load: function() { return true; },\n",
       "                render: function() { let code = \"nbtools.tool(id='convertTabularDataIntoGCT', origin='Notebook')\";\n",
       "                let cell = Jupyter.notebook.get_selected_cell();\n",
       "                const is_empty = cell.get_text().trim() === \"\";\n",
       "\n",
       "                // If this cell is not empty, insert a new cell and use that\n",
       "                // Otherwise just use this cell\n",
       "                if (!is_empty) {\n",
       "                    cell = Jupyter.notebook.insert_cell_below();\n",
       "                    Jupyter.notebook.select_next();\n",
       "                }\n",
       "\n",
       "                cell.set_text(code);\n",
       "                cell.execute();\n",
       "\n",
       "                return cell; },\n",
       "            }));"
      ]
     },
     "metadata": {},
     "output_type": "display_data"
    }
   ],
   "source": [
    "import pandas as pd\n",
    "import gp.data as gpdata\n",
    "\n",
    "@genepattern.build_ui(collapse=False, description=\"Upload gct to the server \", \n",
    "                      parameters={  \"output_var\":{\"hide\": True,},})\n",
    "# upload the local file onto the GenePattern server so we can use it in the module\n",
    "def convertTabularDataIntoGCT(input_filename, output_filename, index_column, description_column, values_column_suffix):\n",
    "    # read TSV into a data frame\n",
    "    df = pd.read_csv(input_filename, sep='\\t', header=0, index_col=False)\n",
    "    # drop the default numeric row index\n",
    "    df.reset_index(drop=True, inplace=True)\n",
    "    # rename the first 2 columns to match norman GenePattern conventions of Name and Description\n",
    "    df.rename(columns={index_column: \"Name\", description_column: \"Description\"}, inplace=True)\n",
    "    # Set the Name and description as indexes which a GCT file expects in a dataframe\n",
    "    df.set_index([\"Name\", \"Description\"], inplace=True);\n",
    "    \n",
    "    df2 = df.loc[:, df.columns.str.endswith(values_column_suffix)]\n",
    "    # Show the top of the file\n",
    "    display(df2.head())\n",
    "    # Now write the dataframe out as a gct formatted file\n",
    "    gpdata.write_gct(df2, output_filename)\n",
    "    print(\"Wrote \"+ output_filename)\n",
    "    \n",
    "    \n",
    "    "
   ]
  },
  {
   "cell_type": "markdown",
   "id": "dab1d15d",
   "metadata": {},
   "source": [
    "<h2 id=\"Replace-Ensembl-gene-ids-with-HUGO-symbols-and-remove-duplicates\">Replace Ensembl gene ids with HUGO symbols and remove duplicates</h2>\n",
    "\n",
    "<p>When you looked into the gct file that was output, you may have noticed that it uses Ensembl IDs for the rows (counts). We would like to change this to HUGO symbols to make this more human-friendly. When we do this, we may end up with multiple Ensembl ids that map to a single HUGO symbol. However since many of the analysis we will do later do not like to see duplicate rows, we will want to collapse instances of multiple transcripts down to a single row.</p>\n",
    "\n",
    "<p>To do this we will use the CollapseDataset module which can collapse the rows and replace the Ensembl IDs with HUGO symbols in one step.  But before we can do that we first need to make one more adjustment to the data;</p>\n",
    "\n",
    "<p>Our mapping file for CollapseDataset module (https://datasets.genepattern.org/data/TCGA_HTSeq_counts/ENSEMBL_human_gene.chip) was created using unversioned Ensembl gene ids, but our data file has versioned ids, so once more we will use the Pandas library, this time to strip out the version numbers  </p>\n",
    "\n"
   ]
  },
  {
   "cell_type": "markdown",
   "id": "308c4c30",
   "metadata": {},
   "source": [
    "<div class=\"alert alert-info\">\n",
    "<p class=\"lead\"> Instructions <i class=\"fa fa-info-circle\"></i></p>\n",
    "    <ol>\n",
    "        <li>For <b>\"filename\"</b>, enter <code>\"all_genes_results.gct\"</code> (the file we just created)</li>\n",
    "        <li>For <b>\"output filename\"</b> enter <code>\"all_genes_unversioned.gct\"</code></li>\n",
    "        <li>Click <b>\"Run\"</b></li>\n",
    "    </ol>\n",
    "</div>"
   ]
  },
  {
   "cell_type": "code",
   "execution_count": 11,
   "id": "4ac689bc",
   "metadata": {
    "nbtools": {
     "description": "Strip version numbers from ensemble ids and uploads to the GenePattern server.",
     "name": "stripEnsembleVersionIds",
     "origin": "Notebook",
     "param_values": {
      "filename": "all_genes_results.gct",
      "output_filename": "all_genes_unversioned.gct",
      "output_var": ""
     },
     "show_code": false,
     "type": "uibuilder"
    }
   },
   "outputs": [
    {
     "data": {
      "application/vnd.jupyter.widget-view+json": {
       "model_id": "07c06e938f5a468b952093372892f893",
       "version_major": 2,
       "version_minor": 0
      },
      "text/plain": [
       "UIBuilder(description='Strip version numbers from ensemble ids and uploads to the GenePattern server.', functi…"
      ]
     },
     "metadata": {},
     "output_type": "display_data"
    },
    {
     "data": {
      "application/javascript": [
       "\n",
       "            NBToolManager.instance().register(new NBToolManager.NBTool({\n",
       "                origin: \"Notebook\",\n",
       "                id: \"stripEnsembleVersionIds\",\n",
       "                name: \"stripEnsembleVersionIds\",\n",
       "                description: \"Strip version numbers from ensemble ids and uploads to the GenePattern server.\",\n",
       "                version: \"null\",\n",
       "                tags: null,\n",
       "                attributes: null,\n",
       "                load: function() { return true; },\n",
       "                render: function() { let code = \"nbtools.tool(id='stripEnsembleVersionIds', origin='Notebook')\";\n",
       "                let cell = Jupyter.notebook.get_selected_cell();\n",
       "                const is_empty = cell.get_text().trim() === \"\";\n",
       "\n",
       "                // If this cell is not empty, insert a new cell and use that\n",
       "                // Otherwise just use this cell\n",
       "                if (!is_empty) {\n",
       "                    cell = Jupyter.notebook.insert_cell_below();\n",
       "                    Jupyter.notebook.select_next();\n",
       "                }\n",
       "\n",
       "                cell.set_text(code);\n",
       "                cell.execute();\n",
       "\n",
       "                return cell; },\n",
       "            }));"
      ]
     },
     "metadata": {},
     "output_type": "display_data"
    }
   ],
   "source": [
    "@genepattern.build_ui(description=\"Strip version numbers from ensemble ids and uploads to the GenePattern server.\", \n",
    "                      parameters={  \"output_var\":{\"hide\": True,},})\n",
    "# strip the version # from the ensemble gene id and upload\n",
    "# the local file onto the GenePattern server so we can use it in the module\n",
    "def stripEnsembleVersionIds(filename, output_filename):\n",
    "    df = gpdata.GCT(filename)\n",
    "    df.reset_index(drop=False, inplace=True)\n",
    "    df['Name'] = df['Name'].apply(lambda x: x.split(\".\")[0])\n",
    "    df.set_index([\"Name\", \"Description\"], inplace=True);\n",
    "    display(df.head())\n",
    "    gpdata.write_gct(df, output_filename)\n",
    "    \n",
    "    # and finally upload it to the GenePattern server from the Notebook server and display the resulting link\n",
    "    uploaded = genepattern.get_session(0).upload_file(output_filename, output_filename)\n",
    "    uploaded_url = uploaded.get_url()\n",
    "    display(genepattern.GPUIOutput(files=[uploaded_url]))"
   ]
  },
  {
   "cell_type": "markdown",
   "id": "b2ef4272",
   "metadata": {},
   "source": [
    "<p>Now we can take the resulting file and send it into the CollapseDataset Module to convert it to HUGO symbols and remove the duplicate  rows.</p>\n",
    "\n",
    "<div class=\"alert alert-info\">\n",
    "<h3 style=\"margin-top: 0;\"> Instructions <i class=\"fa fa-info-circle\"></i></h3>\n",
    "\n",
    "<ol>\n",
    "    <li><b>Click</b> on the&nbsp;<b>dataset file</b>&nbsp;parameter below and select the&nbsp;<code>all_genes_unversioned.gct</code>&nbsp;result file from the&nbsp; cell result above.</li>\n",
    "\t<li>Leave the <strong>chip platform</strong> parameter as&nbsp;<code><A HREF=\"https://datasets.genepattern.org/data/TCGA_HTSeq_counts/ENSEMBL_human_gene.chip\">https://datasets.genepattern.org/data/TCGA_HTSeq_counts/ENSEMBL_human_gene.chip</a></code> which should already be filled in.</li>\n",
    "    <li>For the <b>collapse mode*</b> parameter select <code>Sum_of_probes</code></li>\n",
    "    <li><b>Click</b> the &nbsp;<b>Run</b>&nbsp; button.</li>\n",
    "    <li><b>Click</b> on the resulting gct file and select <b>\"send to dataframe\"</b> from the menu.</li>\n",
    "</ol>\n",
    "</div>"
   ]
  },
  {
   "cell_type": "code",
   "execution_count": 16,
   "id": "64d78ff1",
   "metadata": {
    "genepattern": {
     "description": "Collapses expression values from multiple input ids that map to a single target gene to a single value on a per-sample basis",
     "name": "CollapseDataset",
     "param_values": {
      "chip.platform": null,
      "collapse.mode": null,
      "dataset.file": null,
      "dev.mode": null,
      "job.cpuCount": null,
      "job.memory": null,
      "job.queue": null,
      "job.walltime": null,
      "omit.features.with.no.symbol.match": null,
      "output.file.name": null
     },
     "show_code": false,
     "type": "task"
    },
    "scrolled": false
   },
   "outputs": [
    {
     "data": {
      "application/vnd.jupyter.widget-view+json": {
       "model_id": "467da16d5333465292bd27a40445f5cd",
       "version_major": 2,
       "version_minor": 0
      },
      "text/plain": [
       "GPTaskWidget(lsid='urn:lsid:broad.mit.edu:cancer.software.genepattern.module.analysis:00134')"
      ]
     },
     "metadata": {},
     "output_type": "display_data"
    }
   ],
   "source": [
    "collapsedataset_task = gp.GPTask(genepattern.session.get(0), 'urn:lsid:broad.mit.edu:cancer.software.genepattern.module.analysis:00134')\n",
    "collapsedataset_job_spec = collapsedataset_task.make_job_spec()\n",
    "collapsedataset_job_spec.set_parameter(\"dataset.file\", \"\")\n",
    "collapsedataset_job_spec.set_parameter(\"chip.platform\", \"https://datasets.genepattern.org/data/TCGA_HTSeq_counts/ENSEMBL_human_gene.chip\")\n",
    "collapsedataset_job_spec.set_parameter(\"collapse.mode\", \"Sum_of_probes\")\n",
    "collapsedataset_job_spec.set_parameter(\"output.file.name\", \"all_genes_hugo.gct\")\n",
    "collapsedataset_job_spec.set_parameter(\"omit.features.with.no.symbol.match\", \"true\")\n",
    "collapsedataset_job_spec.set_parameter(\"dev.mode\", \"false\")\n",
    "collapsedataset_job_spec.set_parameter(\"job.memory\", \"4 Gb\")\n",
    "collapsedataset_job_spec.set_parameter(\"job.queue\", \"gp-cloud-default\")\n",
    "collapsedataset_job_spec.set_parameter(\"job.cpuCount\", \"1\")\n",
    "collapsedataset_job_spec.set_parameter(\"job.walltime\", \"02:00:00\")\n",
    "genepattern.display(collapsedataset_task)"
   ]
  },
  {
   "cell_type": "markdown",
   "id": "23cfdc23",
   "metadata": {},
   "source": [
    "So now we have a gct file that is ready to be used in most of the downstream GenePattern analyses for clustering, Gene Set Enrichment Analysis (GSEA) etc.\n",
    "\n",
    "### A word about what we just did\n",
    "\n",
    "In the exercise we just did, we took 4 steps (cells) to convert the data into gct format.  Normally you will do most of these steps in a single cell and you would generate fewer intermediate files along the way. We have broken them out seperately here for instructional purposes only.\n"
   ]
  },
  {
   "cell_type": "markdown",
   "id": "57771cb3",
   "metadata": {},
   "source": [
    "\n",
    "# Part 4: Reusing Cells from Today's Notebooks\n",
    "\n",
    "As an exercise we are going to briefly look at how you can reuse a cell from today's workshop notebooks in the future when you are working with your own data.\n",
    "\n",
    "In this Notebook Project, at the top level there is a directory called **Reusable Notebook Cell Library** which contains a notebook of the same name.  We have put copies of many of the UIBuilder cells you have seen or will see today into it to make them easy to reuse in the future.\n",
    "\n",
    "Note that since they use the UIBuilder, you will need to make sure that there is a GenePattern login cell present in the notebook where you want to use them.  Also, when you paste them into a new notebook, initially you will just see the code view.  You have to 'Run' the cell for the UI to appear.\n",
    "\n",
    "<div class=\"alert alert-info\">\n",
    "<p class=\"lead\"> Instructions <i class=\"fa fa-info-circle\"></i></p>\n",
    "    <ol>\n",
    "        <li><b>Right click</b> on the <b>\"GenePattern Notebook\"</b> icon at the top of this page and select <b>\"Open Link in New Tab\"</b> (or new window)</li>\n",
    "        <li><b>Click</b> on the <b>\"Reusable Notebook Cell Library\"</b> folder.</li>\n",
    "        <li><b>Click</b> on the <b>\"Reusable Notebook Cell Library.ipnb\"</b> notebook.</li>\n",
    "        <li><b>Login</b> to GenePattern using the defaults</li>\n",
    "        <li><b>Scroll down</b> the page and select any UIBuilder cell.</li>\n",
    "        <li> <b>Click</b> the gear icon at the top right and choose \"toggle code view\".</li>\n",
    "        <li> <b>Copy</b> the cell contents.  (select all and then Ctrl-C or Cmd-C)</li>\n",
    "        <li><b>Click</b> back into this notebook and insert a new cell (Insert menu --> Insert Cell Below) </li>\n",
    "        <li?><b>Paste</b> the copied code into the cell (Ctrl-V or Cmd-V).</li>\n",
    "        <li><b>Run</b> the cell to display the UI</li>\n",
    " \n",
    "</div>\n",
    "</div>\n",
    "</div>"
   ]
  },
  {
   "cell_type": "markdown",
   "id": "9af00968",
   "metadata": {
    "heading_collapsed": true
   },
   "source": [
    "# Appendix B CLS File Format\n",
    "\n",
    "The cls file is used to tell analysis modules which class each sample belongs to.  For example you may want to specify which samples are tumor and which are notmal tissue to perform differential expression.\n",
    "\n",
    "CLS File Documentation:  <a href=\"https://www.genepattern.org/file-formats-guide#CLS\">link</a>.\n"
   ]
  },
  {
   "cell_type": "markdown",
   "id": "45c7ac28",
   "metadata": {
    "hidden": true
   },
   "source": [
    "\n",
    "- Tab or space delimited\n",
    "- Used for defining labels or class membership of samples\n",
    "- Values are numeric (0,1,…)\n",
    "<img src=\"https://datasets.genepattern.org/images/Workshop%20Notebooks/GettingDataIntoGPNB/cls_format.png\" width=\"700px\"></img>"
   ]
  },
  {
   "cell_type": "markdown",
   "id": "698049e8",
   "metadata": {
    "hidden": true
   },
   "source": [
    "### Creating a CLS file\n",
    "\n",
    "While you may have already seen the simple cls file format, an easy way to generate the file is to use the ClsFileCreator module. This module will read your gct file and then allow you to name classes and specify which samples belong to which.\n",
    "\n",
    "Lets try it now."
   ]
  },
  {
   "cell_type": "markdown",
   "id": "8de85d94",
   "metadata": {
    "hidden": true
   },
   "source": [
    "<div class=\"alert alert-info\">\n",
    "<p class=\"lead\"> Instructions <i class=\"fa fa-info-circle\"></i></p>\n",
    "    <ol>\n",
    "        <li>For <b>\"input file\"</b> select the <code>\"all_genes_unversioned_collapsed_to_symbols.gct\"</code> file you just generated with Collapse Dataset.</li>\n",
    "        <li>Click <b>\"Run\"</b></li>\n",
    "        <li>On the first tab (\"1. Samples\") leave all samples checked and click <b>\"Next\"</b></li>\n",
    "        <li>On the second tab (\"2. Define Classes\")\n",
    "        <ol>\n",
    "            <li>Enter <b>\"Normal\"</b> as a class name.</li>\n",
    "            <li><b>Click the \"+\" button</b> to add the class.</li>\n",
    "            <li>Enter <b>\"Tumor\"</b> as a class name. </li>\n",
    "            <li><b>Click the \"+\" button</b> to add the class.</li>\n",
    "            <li>Click <b>\"Next\"</b>.</li>\n",
    "        </ol>\n",
    "        </li>\n",
    "         <li>On the third tab (\"3. Assign Classes\")\n",
    "        <ol>\n",
    "            <li><b>Click all the checkboxes</b> for the samples starting with <code>\"P\"</code> (you can use the filter to look for PN, PO and PC).</li>\n",
    "            <li>Select class <b>\"Normal\"</b> on the right side.</li>\n",
    "            <li><b>Click the arrow</b> to move the \"P*\" samples into the normal class. </li>\n",
    "            <li><b>Click the class dropdown</b> to select the \"Tumor\" class.</li>\n",
    "            <li><b>Click the checkboxes</b> for all the remaining samples (names starting with \"C\").</li>\n",
    "            <li><b>Click the arrow</b> to move the \"C*\" samples into the tmor class.</li>\n",
    "            <li>Click <b>\"Next\"</b>.</li>\n",
    "        </ol>\n",
    "        </li>\n",
    "        <li>Click <b>\"Next\"</b> to move through the Summary tab.</li> \n",
    "        <li>On tab 5, Save, click the <b>\"View/Download file\"</b> radio button, and then <b>\"Save\"</b>.</li> \n",
    "    \n",
    "</div>"
   ]
  },
  {
   "cell_type": "code",
   "execution_count": 17,
   "id": "24f8ec29",
   "metadata": {
    "genepattern": {
     "description": "A tool to create a class label (CLS) file.",
     "name": "ClsFileCreator",
     "param_values": {
      "input.file": null,
      "job.cpuCount": null,
      "job.memory": null,
      "job.queue": null,
      "job.walltime": null
     },
     "type": "task"
    },
    "hidden": true
   },
   "outputs": [
    {
     "data": {
      "application/vnd.jupyter.widget-view+json": {
       "model_id": "43e9b4ec03544f678b5a6a7331a29ad0",
       "version_major": 2,
       "version_minor": 0
      },
      "text/plain": [
       "GPTaskWidget(lsid='urn:lsid:broad.mit.edu:cancer.software.genepattern.module.visualizer:00261')"
      ]
     },
     "metadata": {},
     "output_type": "display_data"
    }
   ],
   "source": [
    "clsfilecreator_task = gp.GPTask(genepattern.session.get(0), 'urn:lsid:broad.mit.edu:cancer.software.genepattern.module.visualizer:00261')\n",
    "clsfilecreator_job_spec = clsfilecreator_task.make_job_spec()\n",
    "clsfilecreator_job_spec.set_parameter(\"input.file\", \"\")\n",
    "clsfilecreator_job_spec.set_parameter(\"job.memory\", \"2 Gb\")\n",
    "clsfilecreator_job_spec.set_parameter(\"job.queue\", \"gp-cloud-default\")\n",
    "clsfilecreator_job_spec.set_parameter(\"job.cpuCount\", \"1\")\n",
    "clsfilecreator_job_spec.set_parameter(\"job.walltime\", \"02:00:00\")\n",
    "genepattern.display(clsfilecreator_task)"
   ]
  }
 ],
 "metadata": {
  "kernelspec": {
   "display_name": "Python 3",
   "language": "python",
   "name": "python3"
  },
  "language_info": {
   "codemirror_mode": {
    "name": "ipython",
    "version": 3
   },
   "file_extension": ".py",
   "mimetype": "text/x-python",
   "name": "python",
   "nbconvert_exporter": "python",
   "pygments_lexer": "ipython3",
   "version": "3.9.2"
  },
  "toc": {
   "base_numbering": 1,
   "nav_menu": {},
   "number_sections": false,
   "sideBar": true,
   "skip_h1_title": false,
   "title_cell": "Table of Contents",
   "title_sidebar": "Contents",
   "toc_cell": false,
   "toc_position": {
    "height": "calc(100% - 180px)",
    "left": "10px",
    "top": "150px",
    "width": "238.55px"
   },
   "toc_section_display": true,
   "toc_window_display": false
  }
 },
 "nbformat": 4,
 "nbformat_minor": 5
}
