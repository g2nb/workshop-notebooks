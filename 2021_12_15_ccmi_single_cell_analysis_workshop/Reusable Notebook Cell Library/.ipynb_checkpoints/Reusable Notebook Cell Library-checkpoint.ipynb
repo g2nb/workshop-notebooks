{
 "cells": [
  {
   "cell_type": "code",
   "execution_count": 2,
   "id": "cd1f9437",
   "metadata": {
    "genepattern": {
     "name": "Login",
     "server": "https://cloud.genepattern.org/gp",
     "type": "auth"
    }
   },
   "outputs": [
    {
     "data": {
      "application/vnd.jupyter.widget-view+json": {
       "model_id": "3a8abfe6ab704d2da43bd7ae9c5e7d8b",
       "version_major": 2,
       "version_minor": 0
      },
      "text/plain": [
       "GPAuthWidget()"
      ]
     },
     "metadata": {},
     "output_type": "display_data"
    }
   ],
   "source": [
    "# Requires GenePattern Notebook: pip install genepattern-notebook\n",
    "import gp\n",
    "import genepattern\n",
    "\n",
    "# Username and password removed for security reasons.\n",
    "genepattern.display(genepattern.session.register(\"https://cloud.genepattern.org/gp\", \"\", \"\"))"
   ]
  },
  {
   "cell_type": "markdown",
   "id": "bc8d100c",
   "metadata": {},
   "source": [
    "# Reusable Notebook Cell Library\n",
    "\n",
    "Below are a collection of self-contained cells that are useful for reuse in other notebooks.  Each is self-contained (i.e. you can cut and paste it as is within the GenePattern Notebook Environment with no additional dependencies).\n",
    "\n",
    "When pasted into a new notebook you will need a GenePattern login cell to be present, and then you will need to 'Run' the cell to cause the UI to be displayed."
   ]
  },
  {
   "cell_type": "markdown",
   "id": "405c09bf",
   "metadata": {},
   "source": [
    "## Uploading Data to GenePattern"
   ]
  },
  {
   "cell_type": "code",
   "execution_count": 3,
   "id": "7edbb629",
   "metadata": {
    "nbtools": {
     "description": "Upload a file from the Notebook to the GenePattern server. Displays a URL on the GenePattern server as output.",
     "name": "Upload from Notebook server to GenePattern",
     "origin": "Notebook",
     "param_values": {
      "filenameAndPath": "",
      "output_var": "",
      "path_to_file_on_GPNB": ""
     },
     "show_code": false,
     "type": "uibuilder"
    },
    "scrolled": true
   },
   "outputs": [
    {
     "data": {
      "application/vnd.jupyter.widget-view+json": {
       "model_id": "98e90381e0234956ad65ee6ac91276b7",
       "version_major": 2,
       "version_minor": 0
      },
      "text/plain": [
       "UIBuilder(collapse=False, description='Upload a file from the Notebook to the GenePattern server. Displays a U…"
      ]
     },
     "metadata": {},
     "output_type": "display_data"
    },
    {
     "data": {
      "application/javascript": [
       "\n",
       "            NBToolManager.instance().register(new NBToolManager.NBTool({\n",
       "                origin: \"Notebook\",\n",
       "                id: \"Upload from Notebook server to GenePattern\",\n",
       "                name: \"Upload from Notebook server to GenePattern\",\n",
       "                description: \"Upload a file from the Notebook to the GenePattern server. Displays a URL on the GenePattern server as output.\",\n",
       "                version: \"null\",\n",
       "                tags: null,\n",
       "                attributes: null,\n",
       "                load: function() { return true; },\n",
       "                render: function() { let code = \"nbtools.tool(id='Upload from Notebook server to GenePattern', origin='Notebook')\";\n",
       "                let cell = Jupyter.notebook.get_selected_cell();\n",
       "                const is_empty = cell.get_text().trim() === \"\";\n",
       "\n",
       "                // If this cell is not empty, insert a new cell and use that\n",
       "                // Otherwise just use this cell\n",
       "                if (!is_empty) {\n",
       "                    cell = Jupyter.notebook.insert_cell_below();\n",
       "                    Jupyter.notebook.select_next();\n",
       "                }\n",
       "\n",
       "                cell.set_text(code);\n",
       "                cell.execute();\n",
       "\n",
       "                return cell; },\n",
       "            }));"
      ]
     },
     "metadata": {},
     "output_type": "display_data"
    }
   ],
   "source": [
    "@genepattern.build_ui(name=\"Upload from Notebook server to GenePattern\",collapse=False,\n",
    "                      description=\"Upload a file from the Notebook to the GenePattern server. Displays a URL on the GenePattern server as output.\", \n",
    "                      parameters={  \"output_var\":{\"hide\": True,},})\n",
    "# upload the local file onto the GenePattern server so we can use it in the module\n",
    "def uploadLocalNotebookFile(path_to_file_on_GPNB):\n",
    "    filename = filenameAndPath.split(\"/\")[1]\n",
    "    uploaded = genepattern.get_session(0).upload_file(filename, path_to_file_on_GPNB)\n",
    "    uploaded_url = uploaded.get_url()\n",
    "    display(genepattern.GPUIOutput(files=[uploaded_url]))"
   ]
  },
  {
   "cell_type": "code",
   "execution_count": 10,
   "id": "6c4dc7c6",
   "metadata": {
    "nbtools": {
     "description": "Upload a file or URL to the GenePattern server or the GPNB server",
     "name": "Upload file",
     "origin": "Notebook",
     "param_values": {
      "FileName": "",
      "File_or_URL": null,
      "Where_To": "GPNB",
      "output_var": ""
     },
     "show_code": false,
     "type": "uibuilder"
    }
   },
   "outputs": [
    {
     "data": {
      "application/vnd.jupyter.widget-view+json": {
       "model_id": "fba1d44a020b47f78a3586bddcf22335",
       "version_major": 2,
       "version_minor": 0
      },
      "text/plain": [
       "UIBuilder(description='Upload a file or URL to the GenePattern server or the GPNB server', function_import='nb…"
      ]
     },
     "metadata": {},
     "output_type": "display_data"
    }
   ],
   "source": [
    "import genepattern\n",
    "import urllib\n",
    "import os \n",
    "import re\n",
    "import shutil\n",
    "from IPython.core.display import HTML\n",
    "\n",
    "def isUrl(anUrl):\n",
    "    regex = re.compile(\n",
    "        r'^(?:http|ftp)s?://' # http:// or https://\n",
    "        r'(?:(?:[A-Z0-9](?:[A-Z0-9-]{0,61}[A-Z0-9])?\\.)+(?:[A-Z]{2,6}\\.?|[A-Z0-9-]{2,}\\.?)|' #domain...\n",
    "        r'localhost|' #localhost...\n",
    "        r'\\d{1,3}\\.\\d{1,3}\\.\\d{1,3}\\.\\d{1,3})' # ...or ip\n",
    "        r'(?::\\d+)?' # optional port\n",
    "        r'(?:/?|[/?]\\S+)$', re.IGNORECASE)\n",
    "\n",
    "    return (re.match(regex, anUrl) is not None )\n",
    "\n",
    "\n",
    "def downloadLinkToGPNB(anURL, FileName):\n",
    "    print('a')\n",
    "    urllib.request.urlretrieve(anURL, FileName)\n",
    "    return './'+FileName  # the link path\n",
    "\n",
    "    \n",
    "def downloadLinkToGenePatternServer(anURL, filename):\n",
    "    \n",
    "    downloadurl_task = gp.GPTask(genepattern.get_session(0), 'urn:lsid:broad.mit.edu:cancer.software.genepattern.module.analysis:00034')\n",
    "    downloadurl_task.param_load()\n",
    "    downloadurl_job_spec = downloadurl_task.make_job_spec()\n",
    "    downloadurl_job_spec.set_parameter(\"URL\", anURL)\n",
    "    downloadurl_job_spec.set_parameter(\"output.file\", filename)\n",
    "    job = genepattern.get_session(0).run_job(downloadurl_job_spec)\n",
    "    output_list = job.get_output_files()  \n",
    "\n",
    "    for file in output_list:     # Loop through each output file\n",
    "        return file.get_url()\n",
    "        \n",
    "\n",
    "def uploadFileToGenePatternServer(File_or_URL, FileName):\n",
    "    uploaded = genepattern.get_session(0).upload_file(FileName, File_or_URL) \n",
    "    my_local_url = uploaded.get_url()  \n",
    "    return my_local_url\n",
    "\n",
    "        \n",
    "        \n",
    "        \n",
    "#@genepattern.build_ui( name=\"Upload file\",\n",
    "#                      description=\"Upload a file or URL to the GenePattern server or the GPNB server\", \n",
    "#                parameters={\n",
    "#               \"File_or_URL\": {\n",
    "#                    \"type\": \"file\"\n",
    "#                },\n",
    "#                \"FileName\": {\n",
    "#                    \"type\": \"String\"\n",
    "#                },\n",
    "#                \"Where_To\": {\n",
    "#                    \"type\": \"choice\",\n",
    "#                    \"choices\" : {\"GPNB\":\"GPNB\", \"GPServer\":\"GP\"}\n",
    "#                },\n",
    "#                \"output_var\": {\n",
    "#                    \"hide\": True\n",
    "#                }\n",
    "#})\n",
    "def _uploadFileAndGetLocalUrl(File_or_URL, FileName, Where_To):\n",
    "    link = None\n",
    "    \n",
    "    if isUrl(File_or_URL):\n",
    "        if (Where_To == \"GPNB\"):\n",
    "            print(\"Save URL to GPNB \" )\n",
    "            link = downloadLinkToGPNB(File_or_URL, FileName)\n",
    "        \n",
    "        else:\n",
    "            print(\"Save URL to GenePattern \")\n",
    "            link = downloadLinkToGenePatternServer(File_or_URL, FileName)\n",
    "    \n",
    "    else:\n",
    "        # its a file, ui builder should already have uploaded it locally\n",
    "        if (Where_To == \"GPNB\"):\n",
    "            print(\"Save file: all done its here in the current dir \" )\n",
    "            link = './'+FileName\n",
    "        else:\n",
    "            print(\"Save file to GenePattern \")\n",
    "            link = uploadFileToGenePatternServer(File_or_URL, FileName)\n",
    "    \n",
    "    # now save it back as a new file local to the Notebook server\n",
    "    # with open(output_gct_filename, 'w') as f:\n",
    "    #    f.writelines('#1.2\\n{}\\t{}\\n'.format(df2.shape[0], df2.shape[1] - 2))\n",
    "    #    df2.to_csv(f, sep='\\t', index= False)\n",
    "\n",
    "    # upload the local file onto the GenePattern server so we can use it in the next module\n",
    "    #\n",
    "    # return \"my_local_url\"\n",
    "    #return HTML('<a target=\"_blank\" href=\"'+link+'\">'+FileName+'</a>')\n",
    "    #return HTML('<div><a class=\"gp-widget-job-output-file\" data-kind=\"html\" href=\"'+ link +'\" onclick=\"return false;\" data-toggle=\"popover\" data-original-title=\"\" title=\"\" aria-describedby=\"popover798797\">'+FileName+' <i class=\"fa fa-info-circle\" style=\"color: rgb(128, 128, 128);\"></i></a><div class=\"popover fade right in\" role=\"tooltip\" id=\"popover798797\" style=\"top: -83.392px; left: 85.6165px; display: none;\"><div class=\"arrow\" style=\"top: 64.6865%;\"></div><h3 class=\"popover-title\" style=\"display: none;\"></h3><div class=\"popover-content\"><div class=\"list-group\"><label>'+FileName+'</label><a class=\"list-group-item\" href=\"https://genepattern.broadinstitute.org/gp/jobResults/1664268/feat.html?download\" target=\"_blank\">Download File</a><a class=\"list-group-item\" href=\"'+ link +'\" target=\"_blank\">Open in New Tab</a><a class=\"list-group-item gp-widget-job-send-code\" href=\"#\">Send to Code</a><div><label style=\"padding-top: 10px;\">Send to Existing GenePattern Cell</label><select class=\"form-control gp-widget-job-existing-task\" style=\"margin-left: 0px;\"><option>----</option></select></div><div style=\"display: none;\"><label style=\"padding-top: 10px;\">Send to New GenePattern Cell</label><select class=\"form-control gp-widget-job-new-task\" style=\"margin-left: 0px;\"><option>----</option></select></div></div></div></div></div>')   \n",
    "    return genepattern.GPUIOutput(files=[link])\n",
    "\n",
    "def printAndFlush(str):\n",
    "    print(str)\n",
    "    sys.stdout.flush()\n",
    "\n",
    "\n",
    "def DownloadJobResultFile(Job_File_Url, File_Name):\n",
    "    if os.path.isfile(File_Name):\n",
    "        print(\"file already exists!\")\n",
    "        return\n",
    "\n",
    "    # extract job number and file name from url\n",
    "    job_num = Job_File_Url.split(\"/\")[-2]\n",
    "    remote_file_name = Job_File_Url.split(\"/\")[-1]\n",
    "    \n",
    "    # get the job based on the job number passed as the second argument\n",
    "    job = gp.GPJob(genepattern.get_session(0), job_num)\n",
    "\n",
    "    # fetch a specific file from the job\n",
    "    remote_file = job.get_file(remote_file_name)\n",
    "    \n",
    "    printAndFlush(\"downloading file...\")\n",
    "    response = remote_file.open()\n",
    "    CHUNK = 16 * 1024\n",
    "    with open(File_Name, 'wb') as f:\n",
    "        while True:\n",
    "            chunk = response.read(CHUNK)\n",
    "            if not chunk:\n",
    "                break\n",
    "            f.write(chunk)\n",
    "    printAndFlush(\"done!\")\n",
    "\n",
    "\n",
    "\n",
    "\n",
    "uploadFileUI = genepattern.GPUIBuilder(_uploadFileAndGetLocalUrl, name=\"Upload file\",\n",
    "                      description=\"Upload a file or URL to the GenePattern server or the GPNB server\", \n",
    "                parameters={\n",
    "                \"File_or_URL\": {\n",
    "                    \"type\": \"file\"\n",
    "                },\n",
    "                \"FileName\": {\n",
    "                    \"type\": \"String\"\n",
    "                },\n",
    "                \"Where_To\": {\n",
    "                    \"type\": \"choice\",\n",
    "                    \"choices\" : {\"GPNB\":\"GPNB\", \"GPServer\":\"GP\"}\n",
    "                },\n",
    "                \"output_var\": {\n",
    "                    \"hide\": True\n",
    "                }\n",
    "})\n",
    "\n",
    "uploadFileUI"
   ]
  },
  {
   "cell_type": "markdown",
   "id": "0e9cb2b0",
   "metadata": {},
   "source": [
    "## Displaying Data"
   ]
  },
  {
   "cell_type": "code",
   "execution_count": 4,
   "id": "147d7e6f",
   "metadata": {
    "nbtools": {
     "description": "",
     "name": "Display PDF",
     "origin": "Notebook",
     "param_values": {
      "height": 850,
      "image": null,
      "output_var": "output_var",
      "width": 850
     },
     "show_code": false,
     "type": "uibuilder"
    }
   },
   "outputs": [
    {
     "data": {
      "application/vnd.jupyter.widget-view+json": {
       "model_id": "aadbfd2c9fcd4b43a1a483d53aec0abd",
       "version_major": 2,
       "version_minor": 0
      },
      "text/plain": [
       "UIBuilder(function_import='nbtools.tool(id=\"Display PDF\", origin=\"Notebook\").function_or_method', name='Displa…"
      ]
     },
     "metadata": {},
     "output_type": "display_data"
    },
    {
     "data": {
      "application/javascript": [
       "\n",
       "            NBToolManager.instance().register(new NBToolManager.NBTool({\n",
       "                origin: \"Notebook\",\n",
       "                id: \"Display PDF\",\n",
       "                name: \"Display PDF\",\n",
       "                description: \"\",\n",
       "                version: \"null\",\n",
       "                tags: null,\n",
       "                attributes: null,\n",
       "                load: function() { return true; },\n",
       "                render: function() { let code = \"nbtools.tool(id='Display PDF', origin='Notebook')\";\n",
       "                let cell = Jupyter.notebook.get_selected_cell();\n",
       "                const is_empty = cell.get_text().trim() === \"\";\n",
       "\n",
       "                // If this cell is not empty, insert a new cell and use that\n",
       "                // Otherwise just use this cell\n",
       "                if (!is_empty) {\n",
       "                    cell = Jupyter.notebook.insert_cell_below();\n",
       "                    Jupyter.notebook.select_next();\n",
       "                }\n",
       "\n",
       "                cell.set_text(code);\n",
       "                cell.execute();\n",
       "\n",
       "                return cell; },\n",
       "            }));"
      ]
     },
     "metadata": {},
     "output_type": "display_data"
    }
   ],
   "source": [
    "import os\n",
    "import requests\n",
    "import genepattern\n",
    "from IPython.display import IFrame\n",
    "@genepattern.build_ui(name=\"Display PDF\", parameters={\n",
    "    \"image\": {\n",
    "        \"name\": \"PDF to display:\",\n",
    "        \"description\": \"PDF file (typically named Rplots.pdf) from the Seurat.QC module\",\n",
    "        \"type\": \"file\",\n",
    "        \"kinds\": [\"pdf\"]\n",
    "    },\n",
    "    \"height\":{\"default\":850, \"hide\":True},\n",
    "    \"width\":{\"default\":850, \"hide\":True},\n",
    "    \"output_var\": {\n",
    "        \"default\":\"output_var\",\n",
    "        \"hide\": True\n",
    "    }\n",
    "})\n",
    "def displayPdf(image, height, width):\n",
    "    job_widget = nbtools.UIOutput(status=\"Getting file from the GenePattern server...\")\n",
    "    display(job_widget)\n",
    "    f = gp.GPFile(genepattern.session.get(0), image)\n",
    "    basename=os.path.basename(image)\n",
    "    resp = requests.get(image, headers={\n",
    "        'Authorization': f.server_data.authorization_header(), \n",
    "        'User-Agent': 'GenePatternRest'})\n",
    "    job_widget.status = 'Writing pdf file to your workspace. This may take a minute.'\n",
    "    with open(basename, \"wb\") as f:\n",
    "        f.write(resp.content)\n",
    "    \n",
    "    job_widget.status = basename+' successfully written to the same folder as this notebook!'\n",
    "    display(IFrame(basename,width, height))\n",
    "    return"
   ]
  },
  {
   "cell_type": "code",
   "execution_count": 5,
   "id": "d48b4396",
   "metadata": {
    "nbtools": {
     "description": "Display the column names from a tsv file.",
     "name": "List Column Names",
     "origin": "Notebook",
     "param_values": {
      "output_var": "",
      "path_to_file_on_GPNB": ""
     },
     "show_code": false,
     "type": "uibuilder"
    }
   },
   "outputs": [
    {
     "data": {
      "application/vnd.jupyter.widget-view+json": {
       "model_id": "fe816b3871d148e5b3c63aa4d9a2e9ec",
       "version_major": 2,
       "version_minor": 0
      },
      "text/plain": [
       "UIBuilder(collapse=False, description='Display the column names from a tsv file.', function_import='nbtools.to…"
      ]
     },
     "metadata": {},
     "output_type": "display_data"
    },
    {
     "data": {
      "application/javascript": [
       "\n",
       "            NBToolManager.instance().register(new NBToolManager.NBTool({\n",
       "                origin: \"Notebook\",\n",
       "                id: \"List Column Names\",\n",
       "                name: \"List Column Names\",\n",
       "                description: \"Display the column names from a tsv file.\",\n",
       "                version: \"null\",\n",
       "                tags: null,\n",
       "                attributes: null,\n",
       "                load: function() { return true; },\n",
       "                render: function() { let code = \"nbtools.tool(id='List Column Names', origin='Notebook')\";\n",
       "                let cell = Jupyter.notebook.get_selected_cell();\n",
       "                const is_empty = cell.get_text().trim() === \"\";\n",
       "\n",
       "                // If this cell is not empty, insert a new cell and use that\n",
       "                // Otherwise just use this cell\n",
       "                if (!is_empty) {\n",
       "                    cell = Jupyter.notebook.insert_cell_below();\n",
       "                    Jupyter.notebook.select_next();\n",
       "                }\n",
       "\n",
       "                cell.set_text(code);\n",
       "                cell.execute();\n",
       "\n",
       "                return cell; },\n",
       "            }));"
      ]
     },
     "metadata": {},
     "output_type": "display_data"
    }
   ],
   "source": [
    "@genepattern.build_ui(name=\"List Column Names\", collapse=False, description=\"Display the column names from a tsv file.\", \n",
    "                      parameters={  \"output_var\":{\"hide\": True,},})\n",
    "def listColumnNames(path_to_file_on_GPNB):\n",
    "    df = pd.read_csv( path_to_file_on_GPNB, sep='\\t', header=0, index_col=False)\n",
    "    display(list(df.columns.values))"
   ]
  },
  {
   "cell_type": "markdown",
   "id": "00b01cba",
   "metadata": {},
   "source": [
    "## Utility functions"
   ]
  },
  {
   "cell_type": "code",
   "execution_count": 6,
   "id": "9b6d4b5a",
   "metadata": {
    "nbtools": {
     "description": "Extracts data from TSV file into GCT format and upload gct to the server ",
     "name": "Convert TSV File into GCT",
     "origin": "Notebook",
     "param_values": {
      "description_column": "",
      "index_column": "",
      "input_filename": "",
      "output_filename": "",
      "output_var": "",
      "values_column_suffix": ""
     },
     "show_code": false,
     "type": "uibuilder"
    }
   },
   "outputs": [
    {
     "data": {
      "application/vnd.jupyter.widget-view+json": {
       "model_id": "b37b30e30ee14784ba9ea8e747521c08",
       "version_major": 2,
       "version_minor": 0
      },
      "text/plain": [
       "UIBuilder(collapse=False, description='Extracts data from TSV file into GCT format and upload gct to the serve…"
      ]
     },
     "metadata": {},
     "output_type": "display_data"
    },
    {
     "data": {
      "application/javascript": [
       "\n",
       "            NBToolManager.instance().register(new NBToolManager.NBTool({\n",
       "                origin: \"Notebook\",\n",
       "                id: \"Convert TSV File into GCT\",\n",
       "                name: \"Convert TSV File into GCT\",\n",
       "                description: \"Extracts data from TSV file into GCT format and upload gct to the server \",\n",
       "                version: \"null\",\n",
       "                tags: null,\n",
       "                attributes: null,\n",
       "                load: function() { return true; },\n",
       "                render: function() { let code = \"nbtools.tool(id='Convert TSV File into GCT', origin='Notebook')\";\n",
       "                let cell = Jupyter.notebook.get_selected_cell();\n",
       "                const is_empty = cell.get_text().trim() === \"\";\n",
       "\n",
       "                // If this cell is not empty, insert a new cell and use that\n",
       "                // Otherwise just use this cell\n",
       "                if (!is_empty) {\n",
       "                    cell = Jupyter.notebook.insert_cell_below();\n",
       "                    Jupyter.notebook.select_next();\n",
       "                }\n",
       "\n",
       "                cell.set_text(code);\n",
       "                cell.execute();\n",
       "\n",
       "                return cell; },\n",
       "            }));"
      ]
     },
     "metadata": {},
     "output_type": "display_data"
    }
   ],
   "source": [
    "import pandas as pd\n",
    "import gp.data as gpdata\n",
    "\n",
    "@genepattern.build_ui(name=\"Convert TSV File into GCT\", collapse=False, description=\"Extracts data from TSV file into GCT format and upload gct to the server \", \n",
    "                      parameters={  \"output_var\":{\"hide\": True,},})\n",
    "# upload the local file onto the GenePattern server so we can use it in the module\n",
    "def convertTSVDataIntoGCT(input_filename, output_filename, index_column, description_column, values_column_suffix):\n",
    "    # read TSV into a data frame\n",
    "    df = pd.read_csv(input_filename, sep='\\t', header=0, index_col=False)\n",
    "    # drop the default numeric row index\n",
    "    df.reset_index(drop=True, inplace=True)\n",
    "    # rename the first 2 columns to match norman GenePattern conventions of Name and Description\n",
    "    df.rename(columns={index_column: \"Name\", description_column: \"Description\"}, inplace=True)\n",
    "    # Set the Name and description as indexes which a GCT file expects in a dataframe\n",
    "    df.set_index([\"Name\", \"Description\"], inplace=True);\n",
    "    \n",
    "    df2 = df.loc[:, df.columns.str.endswith(values_column_suffix)]\n",
    "    # Show the top of the file\n",
    "    display(df2.head())\n",
    "    # Now write the dataframe out as a gct formatted file\n",
    "    gpdata.write_gct(df2, output_filename)\n",
    "    print(\"Wrote \"+ output_filename)\n",
    "    "
   ]
  },
  {
   "cell_type": "code",
   "execution_count": 7,
   "id": "a2c47972",
   "metadata": {
    "nbtools": {
     "description": "Reads a gct file on the GPNB server into a Pandas Dataframe in the current notebook.",
     "name": "Read GCT file into DataFrame",
     "origin": "Notebook",
     "param_values": {
      "filename": "",
      "output_var": "aDataFrame"
     },
     "show_code": false,
     "type": "uibuilder"
    }
   },
   "outputs": [
    {
     "data": {
      "application/vnd.jupyter.widget-view+json": {
       "model_id": "9c5b15ab96964c76a1892a5e691dc1f6",
       "version_major": 2,
       "version_minor": 0
      },
      "text/plain": [
       "UIBuilder(collapse=False, description='Reads a gct file on the GPNB server into a Pandas Dataframe in the curr…"
      ]
     },
     "metadata": {},
     "output_type": "display_data"
    },
    {
     "data": {
      "application/javascript": [
       "\n",
       "            NBToolManager.instance().register(new NBToolManager.NBTool({\n",
       "                origin: \"Notebook\",\n",
       "                id: \"Read GCT file into DataFrame\",\n",
       "                name: \"Read GCT file into DataFrame\",\n",
       "                description: \"Reads a gct file on the GPNB server into a Pandas Dataframe in the current notebook.\",\n",
       "                version: \"null\",\n",
       "                tags: null,\n",
       "                attributes: null,\n",
       "                load: function() { return true; },\n",
       "                render: function() { let code = \"nbtools.tool(id='Read GCT file into DataFrame', origin='Notebook')\";\n",
       "                let cell = Jupyter.notebook.get_selected_cell();\n",
       "                const is_empty = cell.get_text().trim() === \"\";\n",
       "\n",
       "                // If this cell is not empty, insert a new cell and use that\n",
       "                // Otherwise just use this cell\n",
       "                if (!is_empty) {\n",
       "                    cell = Jupyter.notebook.insert_cell_below();\n",
       "                    Jupyter.notebook.select_next();\n",
       "                }\n",
       "\n",
       "                cell.set_text(code);\n",
       "                cell.execute();\n",
       "\n",
       "                return cell; },\n",
       "            }));"
      ]
     },
     "metadata": {},
     "output_type": "display_data"
    }
   ],
   "source": [
    "import gp, gp.data\n",
    "\n",
    "@genepattern.build_ui(name=\"Read GCT file into DataFrame\",\n",
    "                      description=\"Reads a gct file on the GPNB server into a Pandas Dataframe in the current notebook.\",\n",
    "                      collapse=False, parameters={\n",
    "    \"output_var\": {\n",
    "        \"default\": \"aDataFrame\",\n",
    "        \"hide\": False,\n",
    "    }\n",
    "})\n",
    "def readGctIntoDataFrame(filename):\n",
    "    gpfile = gp.GPFile(None, filename)\n",
    "    df = gp.data.GCT(gpfile.uri)\n",
    "    display(df.head())\n",
    "    return df"
   ]
  },
  {
   "cell_type": "code",
   "execution_count": 8,
   "id": "1c0f6bfc",
   "metadata": {
    "nbtools": {
     "description": "Reads a GCT file from a remote URL into a Pandas Dataframe in the current notebook.",
     "name": "Read GCT URL into DataFrame",
     "origin": "Notebook",
     "param_values": {
      "link": "",
      "output_var": "aDataFrameFromURL"
     },
     "show_code": false,
     "type": "uibuilder"
    }
   },
   "outputs": [
    {
     "data": {
      "application/vnd.jupyter.widget-view+json": {
       "model_id": "1e3099c939cc4fddb220f30f5877dcd1",
       "version_major": 2,
       "version_minor": 0
      },
      "text/plain": [
       "UIBuilder(collapse=False, description='Reads a GCT file from a remote URL into a Pandas Dataframe in the curre…"
      ]
     },
     "metadata": {},
     "output_type": "display_data"
    },
    {
     "data": {
      "application/javascript": [
       "\n",
       "            NBToolManager.instance().register(new NBToolManager.NBTool({\n",
       "                origin: \"Notebook\",\n",
       "                id: \"Read GCT URL into DataFrame\",\n",
       "                name: \"Read GCT URL into DataFrame\",\n",
       "                description: \"Reads a GCT file from a remote URL into a Pandas Dataframe in the current notebook.\",\n",
       "                version: \"null\",\n",
       "                tags: null,\n",
       "                attributes: null,\n",
       "                load: function() { return true; },\n",
       "                render: function() { let code = \"nbtools.tool(id='Read GCT URL into DataFrame', origin='Notebook')\";\n",
       "                let cell = Jupyter.notebook.get_selected_cell();\n",
       "                const is_empty = cell.get_text().trim() === \"\";\n",
       "\n",
       "                // If this cell is not empty, insert a new cell and use that\n",
       "                // Otherwise just use this cell\n",
       "                if (!is_empty) {\n",
       "                    cell = Jupyter.notebook.insert_cell_below();\n",
       "                    Jupyter.notebook.select_next();\n",
       "                }\n",
       "\n",
       "                cell.set_text(code);\n",
       "                cell.execute();\n",
       "\n",
       "                return cell; },\n",
       "            }));"
      ]
     },
     "metadata": {},
     "output_type": "display_data"
    }
   ],
   "source": [
    "import urllib\n",
    "\n",
    "@genepattern.build_ui(collapse=False, name=\"Read GCT URL into DataFrame\",\n",
    "    description=\"Reads a GCT file from a remote URL into a Pandas Dataframe in the current notebook.\", parameters={\n",
    "   \n",
    "    \"output_var\": {\n",
    "        \"default\": \"aDataFrameFromURL\",\n",
    "        \"hide\": False,\n",
    "    }\n",
    "})\n",
    "def readGct_FromURL(link):\n",
    "    df = gp.data.GCT(link)\n",
    "    display(df.head())\n",
    "    print(\"Loaded\")\n",
    "    return df"
   ]
  },
  {
   "cell_type": "code",
   "execution_count": 9,
   "id": "148a61ae",
   "metadata": {
    "nbtools": {
     "description": "Strip version numbers from ensemble ids and uploads to the GenePattern server.",
     "name": "stripEnsembleVersionIds",
     "origin": "Notebook",
     "param_values": {
      "filename": "",
      "output_filename": "",
      "output_var": ""
     },
     "show_code": false,
     "type": "uibuilder"
    }
   },
   "outputs": [
    {
     "data": {
      "application/vnd.jupyter.widget-view+json": {
       "model_id": "b22bf39f0f4b4c4fb6252fbe647f33fe",
       "version_major": 2,
       "version_minor": 0
      },
      "text/plain": [
       "UIBuilder(description='Strip version numbers from ensemble ids and uploads to the GenePattern server.', functi…"
      ]
     },
     "metadata": {},
     "output_type": "display_data"
    },
    {
     "data": {
      "application/javascript": [
       "\n",
       "            NBToolManager.instance().register(new NBToolManager.NBTool({\n",
       "                origin: \"Notebook\",\n",
       "                id: \"stripEnsembleVersionIds\",\n",
       "                name: \"stripEnsembleVersionIds\",\n",
       "                description: \"Strip version numbers from ensemble ids and uploads to the GenePattern server.\",\n",
       "                version: \"null\",\n",
       "                tags: null,\n",
       "                attributes: null,\n",
       "                load: function() { return true; },\n",
       "                render: function() { let code = \"nbtools.tool(id='stripEnsembleVersionIds', origin='Notebook')\";\n",
       "                let cell = Jupyter.notebook.get_selected_cell();\n",
       "                const is_empty = cell.get_text().trim() === \"\";\n",
       "\n",
       "                // If this cell is not empty, insert a new cell and use that\n",
       "                // Otherwise just use this cell\n",
       "                if (!is_empty) {\n",
       "                    cell = Jupyter.notebook.insert_cell_below();\n",
       "                    Jupyter.notebook.select_next();\n",
       "                }\n",
       "\n",
       "                cell.set_text(code);\n",
       "                cell.execute();\n",
       "\n",
       "                return cell; },\n",
       "            }));"
      ]
     },
     "metadata": {},
     "output_type": "display_data"
    }
   ],
   "source": [
    "@genepattern.build_ui(description=\"Strip version numbers from ensemble ids and uploads to the GenePattern server.\", \n",
    "                      parameters={  \"output_var\":{\"hide\": True,},})\n",
    "# strip the version # from the ensemble gene id and upload\n",
    "# the local file onto the GenePattern server so we can use it in the module\n",
    "def stripEnsembleVersionIds(filename, output_filename):\n",
    "    df = gpdata.GCT(filename)\n",
    "    df.reset_index(drop=False, inplace=True)\n",
    "    df['Name'] = df['Name'].apply(lambda x: x.split(\".\")[0])\n",
    "    df.set_index([\"Name\", \"Description\"], inplace=True);\n",
    "    display(df.head())\n",
    "    gpdata.write_gct(df, output_filename)\n",
    "    \n",
    "    # and finally upload it to the GenePattern server from the Notebook server and display the resulting link\n",
    "    uploaded = genepattern.get_session(0).upload_file(output_filename, output_filename)\n",
    "    uploaded_url = uploaded.get_url()\n",
    "    display(genepattern.GPUIOutput(files=[uploaded_url]))"
   ]
  }
 ],
 "metadata": {
  "kernelspec": {
   "display_name": "Python 3",
   "language": "python",
   "name": "python3"
  },
  "language_info": {
   "codemirror_mode": {
    "name": "ipython",
    "version": 3
   },
   "file_extension": ".py",
   "mimetype": "text/x-python",
   "name": "python",
   "nbconvert_exporter": "python",
   "pygments_lexer": "ipython3",
   "version": "3.9.2"
  },
  "toc": {
   "base_numbering": 1,
   "nav_menu": {},
   "number_sections": false,
   "sideBar": true,
   "skip_h1_title": false,
   "title_cell": "Table of Contents",
   "title_sidebar": "Contents",
   "toc_cell": false,
   "toc_position": {},
   "toc_section_display": true,
   "toc_window_display": false
  }
 },
 "nbformat": 4,
 "nbformat_minor": 5
}
