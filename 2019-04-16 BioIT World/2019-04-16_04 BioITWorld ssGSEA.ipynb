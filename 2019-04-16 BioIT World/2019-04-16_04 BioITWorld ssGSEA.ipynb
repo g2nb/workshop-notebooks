{
 "cells": [
  {
   "cell_type": "markdown",
   "metadata": {},
   "source": [
    "# Single-sample GSEA projection (ssGSEA)"
   ]
  },
  {
   "cell_type": "markdown",
   "metadata": {},
   "source": [
    "## Background"
   ]
  },
  {
   "cell_type": "markdown",
   "metadata": {},
   "source": [
    "Traditional gene set enrichment analysis assesses the differential coordinate up- or down-regulation of a biological process or pathway between groups of samples belonging to two phenotypes. The ability to assess that enrichment in individual samples, especially independently of pre-assigned phenotype labels, provides the opportunity to analyze transcription data at a higher level, by using gene sets/pathways instead of genes, resulting in a much more biologically interpretable set of features. Single-sample Gene Set Enrichment Analysis (ssGSEA) Projection accomplishes this."
   ]
  },
  {
   "cell_type": "markdown",
   "metadata": {},
   "source": [
    "**ssGSEA projects a single sample’s gene expression profile from the space of single genes onto the space of gene sets**. It does this via the ssGSEA enrichment score, which represents the degree to which the genes in a particular gene set are coordinately up- or down- regulated within a sample.  \n",
    "\n",
    "Any supervised or unsupervised machine learning technique or other statistical analysis can then be applied to the resulting projected dataset. The benefit is that the **ssGSEA projection transforms the data to a higher-level (pathways instead of genes) space representing a more biologically interpretable set of features on which analytic methods can be applied.**\n",
    "\n",
    "Another benefit of ssGSEA projection is **dimensionality reduction**. Typically the number of gene sets employed in the enrichment analysis is substantially smaller than the number of genes targeted by a gene expression assay, and they are more robust and less noisy, resulting in significant benefits for downstream analysis."
   ]
  },
  {
   "cell_type": "markdown",
   "metadata": {},
   "source": [
    "## Before you begin"
   ]
  },
  {
   "cell_type": "markdown",
   "metadata": {
    "collapsed": true
   },
   "source": [
    "You must log in to a GenePattern server. In this notebook we will use <b>```GenePattern Cloud``` </b>\n",
    "\n",
    "<div class=\"alert alert-info\">\n",
    "<ul><li>Sign in to GenePattern by clicking \"Login as &lt;your username&gt;\" in the form below. </li></ul>\n",
    "</div>"
   ]
  },
  {
   "cell_type": "code",
   "execution_count": 6,
   "metadata": {
    "genepattern": {
     "name": "Login",
     "server": "https://cloud.genepattern.org/gp",
     "type": "auth"
    },
    "scrolled": true
   },
   "outputs": [
    {
     "data": {
      "application/vnd.jupyter.widget-view+json": {
       "model_id": "fdc3e65810984a63b62f99067c79bdee",
       "version_major": 2,
       "version_minor": 0
      },
      "text/plain": [
       "GPAuthWidget()"
      ]
     },
     "metadata": {},
     "output_type": "display_data"
    }
   ],
   "source": [
    "# Requires GenePattern Notebook: pip install genepattern-notebook\n",
    "import gp\n",
    "import genepattern\n",
    "\n",
    "# Username and password removed for security reasons.\n",
    "genepattern.display(genepattern.session.register(\"https://cloud.genepattern.org/gp\", \"\", \"\"))"
   ]
  },
  {
   "cell_type": "markdown",
   "metadata": {},
   "source": [
    "## Project gene expression dataset into the space of oncogenic gene sets"
   ]
  },
  {
   "cell_type": "markdown",
   "metadata": {},
   "source": [
    "We will use the GenePattern ssGSEAProjection analysis to transform the set of TCGA breast cancer samples into a dataset where each row corresponds to a pathway from the [MSigDB oncogenic gene sets collection](http://software.broadinstitute.org/gsea/msigdb/genesets.jsp?collection=C6), and each column is a sample. Each value in the new dataset will therefore represent the up- or downregulation of a pathway (row) within a sample (column)."
   ]
  },
  {
   "cell_type": "markdown",
   "metadata": {},
   "source": [
    "<div class=\"alert alert-info\">\n",
    "<h3>Instructions</h3>\n",
    "\n",
    "<ol>\n",
    "    <li>Insert a <em>GenePattern Analysis Cell</em> to run the ssGSEAProjection module.\n",
    "<ol>\n",
    "<li>Make sure this cell is selected by clicking once on it.</li>\n",
    "<li>In the menu above, select `Insert`, then `Insert Cell Below`.</li>\n",
    "    <li>Turn that cell int a <em>GenePattern Analysis cell</em> (click on `Cell`, then select `Cell Type`, and select `GenePattern`).</li>\n",
    "<li>In the search menu that pops up type `ssgsea` and select `ssGSEAProjection`.</li><br>\n",
    "</ol>\n",
    "</li>\n",
    "<li>For the <strong><em>input gct file</em></strong> parameter, click and drag <a href=\"https://datasets.genepattern.org/data/ccmi_tutorial/2017-12-15/BRCA_HUGO_symbols.preprocessed.gct\" target=\"_blank\">BRCA_HUGO_symbols.preprocessed.gct</a> into the <em>&quot;Add File or URL...&quot; </em>text box</li> \n",
    "<li>For the <strong><em>gene sets database files</em></strong> parameter, select <em>c6.all.v6.2.symbols.gmt [Oncogenic Signatures]</em>.</li>\n",
    "<li>Click <strong><em>Run</em></strong> on the analysis below.</li>\n",
    "</ol>\n",
    "\n",
    "</div>"
   ]
  },
  {
   "cell_type": "markdown",
   "metadata": {},
   "source": [
    "## Visualize projected pathways as a heat map"
   ]
  },
  {
   "cell_type": "markdown",
   "metadata": {},
   "source": [
    "We will use the GenePattern HeatMapViewer to visualize the resulting projection of genes into pathways."
   ]
  },
  {
   "cell_type": "markdown",
   "metadata": {},
   "source": [
    "<div class=\"alert alert-info\">\n",
    "<h3 id=\"Instructions\">Instructions</h3>\n",
    "\n",
    "<ol> \n",
    "    <li>Insert a <em>GenePattern Analysis Cell</em> to run the HeatMapViewer module.</li>\n",
    "        <ol>\n",
    "    <li>Make sure this cell is selected by clicking once on it.</li>\n",
    "\t<li>In the menu above, select `Insert`, then `Insert Cell Below`.</li>\n",
    "            <li>Turn that cell into a <em>GenePattern Analysis cell</em> (click on `Cell`, then select `Cell Type`, and select `GenePattern`).</li>\n",
    "        </ol>    \n",
    "\t<li>In the search menu that pops up type `ssgsea` and select `HeatMapViewer`.</li>\n",
    "    <li>In the <b>dataset</b> parameter below, click on the dropdown and select `BRCA_HUGO_symbols.preprocessed.PROJ.gct`</li>\n",
    "    <li> Click <b>Run</b>.</li>\n",
    "</ol>\n",
    "</div>\n"
   ]
  },
  {
   "cell_type": "markdown",
   "metadata": {},
   "source": [
    "## Project data onto hallmark pathways"
   ]
  },
  {
   "cell_type": "markdown",
   "metadata": {},
   "source": [
    "[MSigDB Hallmark gene sets](http://software.broadinstitute.org/gsea/msigdb/genesets.jsp?collection=H) summarize and represent specific well-defined biological states or processes and display coherent expression. In this exercise you will project the expression dataset onto the hallmark gene set collection."
   ]
  },
  {
   "cell_type": "markdown",
   "metadata": {},
   "source": [
    "<div class=\"alert alert-info\">\n",
    "<h3>Instructions</h3>\n",
    "\n",
    "Re-run ssGSEA with the Hallmark gene set\n",
    "1. Scroll up to the original ssGSEA job.\n",
    "2. Click on the gear icon and select <b>Duplicate analysis</b>\n",
    "3. Using the arrow buttons in the Jupyter navigation menu, move the new ssGSEA cell under this cell.\n",
    "4. Select the **h.all.v6.2.symbols.gmt [Hallmarks]** gene sets database file\n",
    "5. Run the cell\n",
    "6. Create a new HeatMapViewer cell and visualize the analysis results in it"
   ]
  }
 ],
 "metadata": {
  "genepattern": {
   "repository_url": "http://notebook.genepattern.org/services/sharing/notebooks/343/"
  },
  "kernelspec": {
   "display_name": "Python 3.7",
   "language": "python",
   "name": "python3.7"
  },
  "language_info": {
   "codemirror_mode": {
    "name": "ipython",
    "version": 3
   },
   "file_extension": ".py",
   "mimetype": "text/x-python",
   "name": "python",
   "nbconvert_exporter": "python",
   "pygments_lexer": "ipython3",
   "version": "3.7.3"
  }
 },
 "nbformat": 4,
 "nbformat_minor": 2
}
